{
 "cells": [
  {
   "cell_type": "markdown",
   "id": "bb211a53-5a78-42ed-a3de-714385a50208",
   "metadata": {},
   "source": [
    "## 1. replace()\n",
    "## Q: You typed \"fizz\" 3 times in a sentence by mistake instead of \"buzz\".\n",
    "## text = \"Try fizz! Everyone loves fizz. Grab your fizz now!\"\n",
    "## How will you replace all instances of \"fizz\" with \"buzz\"?\n"
   ]
  },
  {
   "cell_type": "code",
   "execution_count": 1,
   "id": "12051151-3f6e-4a17-9297-c9f02fc41e3a",
   "metadata": {},
   "outputs": [
    {
     "data": {
      "text/plain": [
       "'Try buzz! Everyone loves buzz. Grab your buzz now!'"
      ]
     },
     "execution_count": 1,
     "metadata": {},
     "output_type": "execute_result"
    }
   ],
   "source": [
    "text = \"Try fizz! Everyone loves fizz. Grab your fizz now!\"\n",
    "text.replace(\"fizz\",\"buzz\")"
   ]
  },
  {
   "cell_type": "markdown",
   "id": "613a2d03-8b6b-4297-b4b3-87edc7094dee",
   "metadata": {},
   "source": [
    "#### I can replace all instances of \"fizz\" with \"buzz\" by using replace() method"
   ]
  },
  {
   "cell_type": "markdown",
   "id": "824bc508-12b9-43b1-b868-175d33bf806a",
   "metadata": {},
   "source": [
    "## 2. split()\n",
    "## Q: You have a sentence and want to get each word separately in a list.\n",
    "## sentence = \"Learning Python is fun and easy\"\n",
    "## How can you split this string into words?\n"
   ]
  },
  {
   "cell_type": "code",
   "execution_count": 7,
   "id": "75842a0b-ea60-4213-a12a-9d19affb3120",
   "metadata": {},
   "outputs": [
    {
     "data": {
      "text/plain": [
       "['Learning', 'Python', 'is', 'fun', 'and', 'easy']"
      ]
     },
     "execution_count": 7,
     "metadata": {},
     "output_type": "execute_result"
    }
   ],
   "source": [
    "sentence = \"Learning Python is fun and easy\"\n",
    "sentence.split(' ')"
   ]
  },
  {
   "cell_type": "markdown",
   "id": "73f2a1c1-9a0f-4a73-8492-220551928b8f",
   "metadata": {},
   "source": [
    "#### We can split this string into words by using split() method"
   ]
  },
  {
   "cell_type": "markdown",
   "id": "fff4e532-12b2-4b49-b6e7-d5929de3fc16",
   "metadata": {},
   "source": [
    "## 3. rsplit()\n",
    "## Q: You want to separate only the last two words from a long sentence.\n",
    "## sentence = \"Python is great for data analysis and automation\"\n",
    "## How can you split this from the right into 3 parts?\n"
   ]
  },
  {
   "cell_type": "code",
   "execution_count": 10,
   "id": "6b9a2b2f-d2d9-48af-9b79-e36ce303b7aa",
   "metadata": {},
   "outputs": [
    {
     "data": {
      "text/plain": [
       "['Python is great for data analysis', 'and', 'automation']"
      ]
     },
     "execution_count": 10,
     "metadata": {},
     "output_type": "execute_result"
    }
   ],
   "source": [
    "sentence = \"Python is great for data analysis and automation\"\n",
    "sentence.rsplit(maxsplit=2)"
   ]
  },
  {
   "cell_type": "markdown",
   "id": "b85e4fd7-1a16-40d4-9ed6-aaa593609d02",
   "metadata": {},
   "source": [
    "#### We can use rsplit() to split this from the right into 3 parts"
   ]
  },
  {
   "cell_type": "markdown",
   "id": "66c1bf8c-5669-4160-a233-94c3c1d145df",
   "metadata": {},
   "source": [
    "## 4. len()\n",
    "## Q: You are checking if a password meets a minimum length of 8 characters.\n",
    "## password = \"abc123\"\n",
    "## How will you find the length and confirm if it's valid?\n"
   ]
  },
  {
   "cell_type": "code",
   "execution_count": 14,
   "id": "8a711966-2986-4bdd-8af2-f13ca1eeccfc",
   "metadata": {},
   "outputs": [
    {
     "data": {
      "text/plain": [
       "6"
      ]
     },
     "execution_count": 14,
     "metadata": {},
     "output_type": "execute_result"
    }
   ],
   "source": [
    "password = \"abc123\"\n",
    "len(password)\n"
   ]
  },
  {
   "cell_type": "code",
   "execution_count": 15,
   "id": "6507453a-80cf-4c7b-9514-a9fb2e8c3d3d",
   "metadata": {},
   "outputs": [
    {
     "data": {
      "text/plain": [
       "False"
      ]
     },
     "execution_count": 15,
     "metadata": {},
     "output_type": "execute_result"
    }
   ],
   "source": [
    "len(password) >=8"
   ]
  },
  {
   "cell_type": "markdown",
   "id": "48b2321e-9d81-4107-ae9f-b5e9e19122a3",
   "metadata": {},
   "source": [
    "#### We can find the length by using len() method we can confirm if its valid by using >= operator"
   ]
  },
  {
   "cell_type": "markdown",
   "id": "34e26371-5340-48d8-ba5c-83b6afe0322e",
   "metadata": {},
   "source": [
    "## 5. strip()\n",
    "## Q: A user entered their name with accidental spaces.\n",
    "## name = \"   Alice   \"\n",
    "## How can you remove unwanted spaces from both ends?\n"
   ]
  },
  {
   "cell_type": "code",
   "execution_count": 17,
   "id": "f2fa6ba7-2bdc-4e35-aabb-89847156bea0",
   "metadata": {},
   "outputs": [],
   "source": [
    "name = \"   Alice   \"\n"
   ]
  },
  {
   "cell_type": "code",
   "execution_count": 18,
   "id": "ddec0060-c095-49f2-a60e-f08fea30bfd9",
   "metadata": {},
   "outputs": [
    {
     "data": {
      "text/plain": [
       "'Alice'"
      ]
     },
     "execution_count": 18,
     "metadata": {},
     "output_type": "execute_result"
    }
   ],
   "source": [
    "\n",
    "name.strip()"
   ]
  },
  {
   "cell_type": "markdown",
   "id": "b439022d-79c2-491c-b2c2-0f1aadcb9388",
   "metadata": {},
   "source": [
    "#### By using strip() method we can remove unwanted spaces from both ends"
   ]
  },
  {
   "cell_type": "markdown",
   "id": "45b62ba8-2cd5-4840-bc4c-324e9ced900d",
   "metadata": {},
   "source": [
    "## 6. rstrip()\n",
    "## Q: You have a list of emails with trailing commas.\n",
    "## email = \"hello@gmail.com,,,,\"\n",
    "## How do you clean only the trailing commas?\n"
   ]
  },
  {
   "cell_type": "code",
   "execution_count": 23,
   "id": "91a8e193-892c-40eb-9774-2ca73a820677",
   "metadata": {},
   "outputs": [
    {
     "data": {
      "text/plain": [
       "'hello@gmail.com'"
      ]
     },
     "execution_count": 23,
     "metadata": {},
     "output_type": "execute_result"
    }
   ],
   "source": [
    "email = \"hello@gmail.com,,,,\"\n",
    "email.rstrip(',')"
   ]
  },
  {
   "cell_type": "markdown",
   "id": "75750eb0-1156-45ed-8a96-a246c40cd1ef",
   "metadata": {},
   "source": [
    "#### By using rstrip() function we can clean only the trailing commas"
   ]
  },
  {
   "cell_type": "markdown",
   "id": "55822616-f7d3-4170-8bdd-f2620ea9515e",
   "metadata": {},
   "source": [
    "## 7. lstrip()\n",
    "## Q: A CSV file has some entries starting with ***.\n",
    "## data = \"***important,2025\"\n",
    "## How do you remove the leading * symbols?\n"
   ]
  },
  {
   "cell_type": "code",
   "execution_count": 25,
   "id": "33b29921-fd43-4f38-a776-d2ce91017b71",
   "metadata": {},
   "outputs": [
    {
     "data": {
      "text/plain": [
       "'important,2025'"
      ]
     },
     "execution_count": 25,
     "metadata": {},
     "output_type": "execute_result"
    }
   ],
   "source": [
    "data = \"***important,2025\"\n",
    "data.lstrip('*')"
   ]
  },
  {
   "cell_type": "markdown",
   "id": "71eb9d76-9fe9-42ab-9565-17ca0a5a9fb9",
   "metadata": {},
   "source": [
    "#### We can remove the leading * symbols by using lstrip() method"
   ]
  },
  {
   "cell_type": "markdown",
   "id": "44eda103-75e5-4944-8349-03bbd9729199",
   "metadata": {},
   "source": [
    "## 8. join()\n",
    "## Q: You have a list of words and want to form a sentence.\n",
    "## words = [\"Python\", \"is\", \"awesome\"]\n",
    "## How can you convert this list into a space-separated string?\n"
   ]
  },
  {
   "cell_type": "code",
   "execution_count": 31,
   "id": "5b433e0f-c581-45d0-b113-5607019e2386",
   "metadata": {},
   "outputs": [
    {
     "data": {
      "text/plain": [
       "'Python is awesome'"
      ]
     },
     "execution_count": 31,
     "metadata": {},
     "output_type": "execute_result"
    }
   ],
   "source": [
    "words = [\"Python\", \"is\", \"awesome\"]\n",
    "result=\" \".join(words)\n",
    "result"
   ]
  },
  {
   "cell_type": "markdown",
   "id": "36e22746-731b-415a-b6bd-2ff93ac18fba",
   "metadata": {},
   "source": [
    "#### By using join() method we can convert this list into a space-separated string"
   ]
  },
  {
   "cell_type": "markdown",
   "id": "d8ce367d-e8d1-482d-9a56-1fb6b535ac58",
   "metadata": {},
   "source": [
    "## 9. removeprefix()\n",
    "## Q: Your log messages start with \"DEBUG:\".\n",
    "## msg = \"DEBUG:Process started\"\n",
    "## How to clean this prefix for better display?\n"
   ]
  },
  {
   "cell_type": "code",
   "execution_count": 29,
   "id": "33f95c7f-2ee2-4b67-9e18-2376732cac78",
   "metadata": {},
   "outputs": [
    {
     "data": {
      "text/plain": [
       "'Process started'"
      ]
     },
     "execution_count": 29,
     "metadata": {},
     "output_type": "execute_result"
    }
   ],
   "source": [
    "msg = \"DEBUG:Process started\"\n",
    "msg.removeprefix(\"DEBUG:\")"
   ]
  },
  {
   "cell_type": "markdown",
   "id": "d66804cd-cd22-4e11-b9d4-3aec8ea4103c",
   "metadata": {},
   "source": [
    "#### We can use removeprefix() method to clean this prefix for better display"
   ]
  },
  {
   "cell_type": "markdown",
   "id": "a52b1735-816b-41cf-8de6-43adab781558",
   "metadata": {},
   "source": [
    "## 10. removesuffix()\n",
    "## Q: File names have a common suffix you don’t want.\n",
    "## file = \"report_final_draft.pdf\"\n",
    "## How to remove the .pdf suffix cleanly?\n"
   ]
  },
  {
   "cell_type": "code",
   "execution_count": 30,
   "id": "eab763f5-90fd-4719-9978-28cd92e58f7b",
   "metadata": {},
   "outputs": [
    {
     "data": {
      "text/plain": [
       "'report_final_draft'"
      ]
     },
     "execution_count": 30,
     "metadata": {},
     "output_type": "execute_result"
    }
   ],
   "source": [
    "file = \"report_final_draft.pdf\"\n",
    "file.removesuffix(\".pdf\")"
   ]
  },
  {
   "cell_type": "markdown",
   "id": "174a0a21-5d8f-4a26-b2cc-02b1387f4fa5",
   "metadata": {},
   "source": [
    "#### We can use removesuffix() method we can remove the .pdf suffix cleanly"
   ]
  },
  {
   "cell_type": "markdown",
   "id": "ac6cac0e-b88b-4d94-a995-e28ae83b9dfc",
   "metadata": {},
   "source": [
    "## 11. isalnum()\n",
    "## Q: Validate if a user input contains only letters and numbers:\n",
    "## input = \"User123\"\n",
    "## How to check if it has no special characters?\n"
   ]
  },
  {
   "cell_type": "code",
   "execution_count": 32,
   "id": "f4d5e0c1-36ca-4315-bd32-d05e678e1043",
   "metadata": {},
   "outputs": [
    {
     "data": {
      "text/plain": [
       "True"
      ]
     },
     "execution_count": 32,
     "metadata": {},
     "output_type": "execute_result"
    }
   ],
   "source": [
    "input = \"User123\"\n",
    "input.isalnum()"
   ]
  },
  {
   "cell_type": "markdown",
   "id": "1e48a7e0-7e45-4f27-91bc-e72176aa5d51",
   "metadata": {},
   "source": [
    "#### By using isalnum() method we can check if it has no special characters, it contains only numbers and letters"
   ]
  },
  {
   "cell_type": "markdown",
   "id": "5e70f1b2-926d-4f6f-8dc8-4c22c7daf86a",
   "metadata": {},
   "source": [
    "## 12. isalpha()\n",
    "## Q: You want to ensure a name field contains only alphabets.\n",
    "## name = \"JohnDoe\"\n",
    "## How can you verify it has no numbers or symbols?\n"
   ]
  },
  {
   "cell_type": "code",
   "execution_count": 33,
   "id": "89bfdb18-eae5-42f9-a767-4b107b8700f6",
   "metadata": {},
   "outputs": [
    {
     "data": {
      "text/plain": [
       "True"
      ]
     },
     "execution_count": 33,
     "metadata": {},
     "output_type": "execute_result"
    }
   ],
   "source": [
    "name = \"JohnDoe\"\n",
    "name. isalpha()"
   ]
  },
  {
   "cell_type": "markdown",
   "id": "9133c6ec-44b1-4311-9d11-5791cf0e6bf0",
   "metadata": {},
   "source": [
    "#### By using  isalpha() method we can verify it has no numbers or symbols"
   ]
  },
  {
   "cell_type": "markdown",
   "id": "0f104b6e-0b40-4c38-b4fd-13e43b5a1e34",
   "metadata": {},
   "source": [
    "## 13. isdecimal()\n",
    "## Q: The user enters a number for quantity.\n",
    "## qty = \"250\"\n",
    "## How will you confirm it contains only decimal digits?\n"
   ]
  },
  {
   "cell_type": "code",
   "execution_count": 34,
   "id": "74934c16-65f6-47df-a374-0f5281ca6faa",
   "metadata": {},
   "outputs": [
    {
     "data": {
      "text/plain": [
       "True"
      ]
     },
     "execution_count": 34,
     "metadata": {},
     "output_type": "execute_result"
    }
   ],
   "source": [
    "qty = \"250\"\n",
    "qty.isdecimal()"
   ]
  },
  {
   "cell_type": "markdown",
   "id": "e6424841-1a25-4e00-b5c7-bd89a838fb85",
   "metadata": {},
   "source": [
    "#### By using  isdecimal() method we can confirm it contains only decimal digits"
   ]
  },
  {
   "cell_type": "markdown",
   "id": "8008865e-2cfb-4cc6-a734-d1293cf56899",
   "metadata": {},
   "source": [
    "## 14. isdigit()\n",
    "## Q: Check if string input from a form is a digit before converting it.\n",
    "## num = \"100\"\n",
    "## How to safely validate this?\n"
   ]
  },
  {
   "cell_type": "code",
   "execution_count": 35,
   "id": "662c6419-0cc8-4c30-8df6-265950a59e48",
   "metadata": {},
   "outputs": [
    {
     "data": {
      "text/plain": [
       "True"
      ]
     },
     "execution_count": 35,
     "metadata": {},
     "output_type": "execute_result"
    }
   ],
   "source": [
    "num = \"100\"\n",
    "num.isdigit()"
   ]
  },
  {
   "cell_type": "markdown",
   "id": "21ed8574-ec67-4737-8553-b1193cef4ec7",
   "metadata": {},
   "source": [
    "#### By using isdigit() method we can check if it is a digit"
   ]
  },
  {
   "cell_type": "markdown",
   "id": "fa7a1b3c-5c62-4567-93ad-34edc5c1b7c7",
   "metadata": {},
   "source": [
    "## 15. isnumeric()\n",
    "## Q: You received a numeric string that may contain Unicode numbers like Ⅳ.\n",
    "## val = \"Ⅳ\"\n",
    "## Which method helps verify if it’s numeric?\n"
   ]
  },
  {
   "cell_type": "code",
   "execution_count": 36,
   "id": "e395af71-d1d8-471d-bf44-80bb213d333f",
   "metadata": {},
   "outputs": [
    {
     "data": {
      "text/plain": [
       "True"
      ]
     },
     "execution_count": 36,
     "metadata": {},
     "output_type": "execute_result"
    }
   ],
   "source": [
    "val = \"Ⅳ\"\n",
    "val.isnumeric()"
   ]
  },
  {
   "cell_type": "markdown",
   "id": "e9544833-dd05-4b6a-8bfc-b83a4157890b",
   "metadata": {},
   "source": [
    "#### By using isnumeric() method we can verify if its numeric"
   ]
  },
  {
   "cell_type": "markdown",
   "id": "ccf642f2-08e2-4785-9b59-e2798527c81d",
   "metadata": {},
   "source": [
    "## 16. isidentifier()\n",
    "## Q: You want to validate whether a variable name is valid in Python.\n",
    "## name = \"2nd_value\"\n",
    "## How can you check if it can be used as a variable?\n"
   ]
  },
  {
   "cell_type": "code",
   "execution_count": 37,
   "id": "5ac6414d-cab2-4b52-bf96-d64c0f33b5b3",
   "metadata": {},
   "outputs": [
    {
     "data": {
      "text/plain": [
       "False"
      ]
     },
     "execution_count": 37,
     "metadata": {},
     "output_type": "execute_result"
    }
   ],
   "source": [
    "name = \"2nd_value\"\n",
    "name.isidentifier()"
   ]
  },
  {
   "cell_type": "markdown",
   "id": "71245de7-2fc3-45fa-b23e-287123bd31f5",
   "metadata": {},
   "source": [
    "#### By using isidentifier() method we can check if it can be used as a variable"
   ]
  },
  {
   "cell_type": "markdown",
   "id": "b59e0954-a0e6-44c0-8303-89b185a2b36d",
   "metadata": {},
   "source": [
    "## 17. istitle()\n",
    "## Q: You are formatting book titles.\n",
    "## title = \"The Great Gatsby\"\n",
    "## How to check if each word starts with a capital letter?\n"
   ]
  },
  {
   "cell_type": "code",
   "execution_count": 40,
   "id": "5949aa26-1922-4e1f-bec9-e7ce251e7963",
   "metadata": {},
   "outputs": [
    {
     "data": {
      "text/plain": [
       "True"
      ]
     },
     "execution_count": 40,
     "metadata": {},
     "output_type": "execute_result"
    }
   ],
   "source": [
    "title = \"The Great Gatsby\"\n",
    "title.istitle()"
   ]
  },
  {
   "cell_type": "markdown",
   "id": "312d6983-4a27-4dbb-971d-bde542068f5d",
   "metadata": {},
   "source": [
    "#### By using  istitle() method we can check if each word starts with a capital letter"
   ]
  },
  {
   "cell_type": "markdown",
   "id": "a782235e-7d10-4034-a053-466bb64d6aa1",
   "metadata": {},
   "source": [
    "## 18. islower()\n",
    "## Q: A comment system only accepts lowercase tags.\n",
    "## tag = \"machinelearning\"\n",
    "## How do you verify this condition?\n"
   ]
  },
  {
   "cell_type": "code",
   "execution_count": 41,
   "id": "728fe8f4-3063-43e3-9c93-06120bfe6420",
   "metadata": {},
   "outputs": [
    {
     "data": {
      "text/plain": [
       "True"
      ]
     },
     "execution_count": 41,
     "metadata": {},
     "output_type": "execute_result"
    }
   ],
   "source": [
    "tag = \"machinelearning\"\n",
    "tag.islower()"
   ]
  },
  {
   "cell_type": "markdown",
   "id": "38132122-1e4b-49b3-a9b8-9109ca276af0",
   "metadata": {},
   "source": [
    "#### By using islower() method we can verify that accepts only lowercase letters"
   ]
  },
  {
   "cell_type": "markdown",
   "id": "de368636-a669-4113-bce3-d7488cbab790",
   "metadata": {},
   "source": [
    "## 19. isupper()\n",
    "## Q: A product code must be in uppercase.\n",
    "## code = \"AB12XYZ\"\n",
    "## How to check if it's in all uppercase?\n"
   ]
  },
  {
   "cell_type": "code",
   "execution_count": 42,
   "id": "de0298a0-fad4-4aa9-bc26-6d2bf733cf3a",
   "metadata": {},
   "outputs": [
    {
     "data": {
      "text/plain": [
       "True"
      ]
     },
     "execution_count": 42,
     "metadata": {},
     "output_type": "execute_result"
    }
   ],
   "source": [
    "code = \"AB12XYZ\"\n",
    "code.isupper()"
   ]
  },
  {
   "cell_type": "markdown",
   "id": "69db6ea7-0b46-441b-b9a6-9d65c7432146",
   "metadata": {},
   "source": [
    "#### By using isupper() method we can check if it's in all uppercase"
   ]
  },
  {
   "cell_type": "markdown",
   "id": "9756dd19-1e8b-4ff1-8f25-afbf0ff259e8",
   "metadata": {},
   "source": [
    "## LIST METHODS\n",
    "## 20. create list\n",
    "## Q: You’re collecting 5 favorite colors into a list from user input:\n",
    "## \"Red, Blue, Green, Yellow, Orange\"\n",
    "## How do you create a list from this?\n"
   ]
  },
  {
   "cell_type": "code",
   "execution_count": 8,
   "id": "11097768-f916-4cf1-8dac-c194e2b6a2ec",
   "metadata": {},
   "outputs": [
    {
     "name": "stdin",
     "output_type": "stream",
     "text": [
      "Enter first colour Red\n",
      "Enter first colour Blue\n",
      "Enter first colour Green\n",
      "Enter first colour Yellow\n",
      "Enter first colour Orange\n"
     ]
    },
    {
     "data": {
      "text/plain": [
       "['Red', 'Blue', 'Green', 'Yellow', 'Orange']"
      ]
     },
     "execution_count": 8,
     "metadata": {},
     "output_type": "execute_result"
    }
   ],
   "source": [
    "List=[]\n",
    "List1=input(\"Enter first colour\")\n",
    "List2=input(\"Enter first colour\")\n",
    "List3=input(\"Enter first colour\")\n",
    "List4=input(\"Enter first colour\")\n",
    "List5=input(\"Enter first colour\")\n",
    "List.append(List1)\n",
    "List.append(List2)\n",
    "List.append(List3)\n",
    "List.append(List4)\n",
    "List.append(List5)\n",
    "List\n"
   ]
  },
  {
   "cell_type": "markdown",
   "id": "7cddde65-9f9c-4dc8-9753-fbeadb679ea0",
   "metadata": {},
   "source": [
    "#### We can create list from this by using append() method"
   ]
  },
  {
   "cell_type": "markdown",
   "id": "ac488016-f1d1-4544-b453-12d38e3e470f",
   "metadata": {},
   "source": [
    "## 21. append()\n",
    "## Q: Add a new score to the existing scores list.\n",
    "## scores = [78, 85, 90]\n",
    "## How do you add 92 to the end?\n"
   ]
  },
  {
   "cell_type": "code",
   "execution_count": 11,
   "id": "efee21b4-da43-4805-a338-5d631a8d6fe5",
   "metadata": {},
   "outputs": [
    {
     "data": {
      "text/plain": [
       "[78, 85, 90, 92]"
      ]
     },
     "execution_count": 11,
     "metadata": {},
     "output_type": "execute_result"
    }
   ],
   "source": [
    "scores = [78, 85, 90]\n",
    "scores.append(92)\n",
    "scores"
   ]
  },
  {
   "cell_type": "markdown",
   "id": "b3a1f226-42a3-4b41-b12e-02770a584cca",
   "metadata": {},
   "source": [
    "#### By using append() method we can add 92 to the end"
   ]
  },
  {
   "cell_type": "markdown",
   "id": "465613dc-4338-4a0e-9272-fa4f09ce8fe7",
   "metadata": {},
   "source": [
    "## 22. remove()\n",
    "## Q: A product is discontinued. Remove it.\n",
    "## products = [\"pen\", \"notebook\", \"pencil\", \"eraser\"]\n",
    "## How to remove \"pencil\"?\n"
   ]
  },
  {
   "cell_type": "code",
   "execution_count": 13,
   "id": "9e118765-0f68-4478-a5fd-7700daaecde7",
   "metadata": {},
   "outputs": [
    {
     "data": {
      "text/plain": [
       "['pen', 'notebook', 'eraser']"
      ]
     },
     "execution_count": 13,
     "metadata": {},
     "output_type": "execute_result"
    }
   ],
   "source": [
    "products = [\"pen\", \"notebook\", \"pencil\", \"eraser\"]\n",
    "products.remove(\"pencil\")\n",
    "products"
   ]
  },
  {
   "cell_type": "markdown",
   "id": "3e31092c-63ed-4201-be92-7b14fd633256",
   "metadata": {},
   "source": [
    "#### By using remove() method we can remove pencil from the list"
   ]
  },
  {
   "cell_type": "markdown",
   "id": "54876fb6-474d-4fee-aadf-78cae27f75d0",
   "metadata": {},
   "source": [
    "## 23. extend()\n",
    "## Q: Combine two lists of fruits.\n",
    "## list1 = [\"apple\", \"banana\"]\n",
    "## list2 = [\"orange\", \"grape\"]\n",
    "## How do you merge list2 into list1?\n"
   ]
  },
  {
   "cell_type": "code",
   "execution_count": 19,
   "id": "587b7622-f438-4bdb-b258-1f0a0dbea22f",
   "metadata": {},
   "outputs": [
    {
     "data": {
      "text/plain": [
       "['apple', 'banana', 'orange', 'grape']"
      ]
     },
     "execution_count": 19,
     "metadata": {},
     "output_type": "execute_result"
    }
   ],
   "source": [
    "\n",
    "list1 = [\"apple\", \"banana\"]\n",
    "list2 = [\"orange\", \"grape\"]\n",
    "list1.extend(list2)\n",
    "list1"
   ]
  },
  {
   "cell_type": "markdown",
   "id": "dceae25c-dad7-415b-af85-388921afa4b3",
   "metadata": {},
   "source": [
    "#### By using extend() method we can merge list2 to list1"
   ]
  },
  {
   "cell_type": "markdown",
   "id": "321dd705-90bc-4d2a-914a-a7da2e90b37d",
   "metadata": {},
   "source": [
    "## 24. insert()\n",
    "## Q: Add \"math\" at index 2 in a subject list.\n",
    "## subjects = [\"science\", \"english\", \"history\"]\n",
    "## Where and how do you insert it?\n"
   ]
  },
  {
   "cell_type": "code",
   "execution_count": 20,
   "id": "8c8ff889-4af4-444a-b51a-9203f8d19f49",
   "metadata": {},
   "outputs": [
    {
     "data": {
      "text/plain": [
       "['science', 'english', 'math', 'history']"
      ]
     },
     "execution_count": 20,
     "metadata": {},
     "output_type": "execute_result"
    }
   ],
   "source": [
    "subjects = [\"science\", \"english\", \"history\"]\n",
    "subjects.insert(2,\"math\")\n",
    "subjects"
   ]
  },
  {
   "cell_type": "markdown",
   "id": "781a5736-e220-4b3a-8a45-6cf7a87d66a3",
   "metadata": {},
   "source": [
    "#### By using insert() method we can insert math at index 2"
   ]
  },
  {
   "cell_type": "markdown",
   "id": "dc62c900-996b-43a6-ad5b-19470582ce37",
   "metadata": {},
   "source": [
    "## 25. pop()\n",
    "## Q: Remove and store the last added task.\n",
    "## tasks = [\"Email\", \"Meeting\", \"Code\"]\n",
    "## How do you remove the last one?\n"
   ]
  },
  {
   "cell_type": "code",
   "execution_count": 32,
   "id": "c1ea1772-7190-4b21-9453-71eaf68b608f",
   "metadata": {},
   "outputs": [
    {
     "data": {
      "text/plain": [
       "'Code'"
      ]
     },
     "execution_count": 32,
     "metadata": {},
     "output_type": "execute_result"
    }
   ],
   "source": [
    "tasks = [\"Email\", \"Meeting\", \"Code\"]\n",
    "a=tasks.pop()\n",
    "a"
   ]
  },
  {
   "cell_type": "code",
   "execution_count": 33,
   "id": "a0ae3f1d-8d28-430c-bb4c-37933c4d0aa9",
   "metadata": {},
   "outputs": [
    {
     "data": {
      "text/plain": [
       "['Email', 'Meeting']"
      ]
     },
     "execution_count": 33,
     "metadata": {},
     "output_type": "execute_result"
    }
   ],
   "source": [
    "tasks"
   ]
  },
  {
   "cell_type": "markdown",
   "id": "c80a8073-0de1-4e30-b191-84a09fbccd6f",
   "metadata": {},
   "source": [
    "#### We can remove the last one by using pop()"
   ]
  },
  {
   "cell_type": "markdown",
   "id": "9fb8d0a1-d449-46a3-8127-1259817fabc5",
   "metadata": {},
   "source": [
    "## 26. clear()\n",
    "## Q: Reset a shopping cart list:\n",
    "## cart = [\"item1\", \"item2\", \"item3\"]\n",
    "## How to empty the cart?\n"
   ]
  },
  {
   "cell_type": "code",
   "execution_count": 22,
   "id": "bac346b0-9a29-4e82-a5ab-6f6eaced88ac",
   "metadata": {},
   "outputs": [
    {
     "data": {
      "text/plain": [
       "[]"
      ]
     },
     "execution_count": 22,
     "metadata": {},
     "output_type": "execute_result"
    }
   ],
   "source": [
    "cart = [\"item1\", \"item2\", \"item3\"]\n",
    "cart.clear()\n",
    "cart"
   ]
  },
  {
   "cell_type": "markdown",
   "id": "85432421-f371-4d53-add4-9303aed37270",
   "metadata": {},
   "source": [
    "#### By using clear() method we can empty the cart"
   ]
  },
  {
   "cell_type": "markdown",
   "id": "fe03d5a7-a0cd-4c2e-9907-34f21bb83e93",
   "metadata": {},
   "source": [
    "## 27. del\n",
    "## Q: Delete the second item in a list.\n",
    "## items = [\"one\", \"two\", \"three\"]\n",
    "## How do you remove \"two\" by index?\n"
   ]
  },
  {
   "cell_type": "code",
   "execution_count": 27,
   "id": "93675803-f50a-4ce0-84f6-4619cff3b306",
   "metadata": {},
   "outputs": [
    {
     "data": {
      "text/plain": [
       "['one', 'three']"
      ]
     },
     "execution_count": 27,
     "metadata": {},
     "output_type": "execute_result"
    }
   ],
   "source": [
    "items = [\"one\", \"two\", \"three\"]\n",
    "del items[1]\n",
    "items"
   ]
  },
  {
   "cell_type": "markdown",
   "id": "5c617e6c-12a1-401b-b3ea-aec3b5b27278",
   "metadata": {},
   "source": [
    "#### By using del() method we can remove \"two\" by index"
   ]
  },
  {
   "cell_type": "markdown",
   "id": "a83d8fd8-efad-4894-88ff-787e4304f704",
   "metadata": {},
   "source": [
    "## 28. index()\n",
    "## Q: Find the position of \"python\" in the list:\n",
    "## skills = [\"java\", \"c++\", \"python\", \"sql\"]\n",
    "## How to get the index of \"python\"?\n"
   ]
  },
  {
   "cell_type": "code",
   "execution_count": 25,
   "id": "ba20f958-5a40-457f-b1e8-5da400beebe0",
   "metadata": {},
   "outputs": [
    {
     "data": {
      "text/plain": [
       "2"
      ]
     },
     "execution_count": 25,
     "metadata": {},
     "output_type": "execute_result"
    }
   ],
   "source": [
    "skills = [\"java\", \"c++\", \"python\", \"sql\"]\n",
    "skills.index(\"python\")"
   ]
  },
  {
   "cell_type": "markdown",
   "id": "85befd92-1297-4e6e-8d06-c860bebe2224",
   "metadata": {},
   "source": [
    "#### We can get the index of python by using index() function"
   ]
  },
  {
   "cell_type": "markdown",
   "id": "66075caf-9b12-4602-bce7-b3dca961a161",
   "metadata": {},
   "source": [
    "## 29. reverse()\n",
    "## Q: You want to display the list in reverse:\n",
    "## names = [\"Anu\", \"Bala\", \"Chitra\"]\n",
    "## How can you reverse it?\n"
   ]
  },
  {
   "cell_type": "code",
   "execution_count": 29,
   "id": "cfc8631f-26dc-483b-9f53-8c08f1e674ee",
   "metadata": {},
   "outputs": [
    {
     "data": {
      "text/plain": [
       "['Chitra', 'Bala', 'Anu']"
      ]
     },
     "execution_count": 29,
     "metadata": {},
     "output_type": "execute_result"
    }
   ],
   "source": [
    "names = [\"Anu\", \"Bala\", \"Chitra\"]\n",
    "names.reverse()\n",
    "names"
   ]
  },
  {
   "cell_type": "markdown",
   "id": "3752718c-7b52-4851-88eb-268afa5f0065",
   "metadata": {},
   "source": [
    "#### By using reverse() method we can reverse it"
   ]
  },
  {
   "cell_type": "markdown",
   "id": "c8396a18-dcf2-412b-a893-111d04018605",
   "metadata": {},
   "source": [
    "## 30. copy()\n",
    "## Q: You want a backup of a list before making changes:\n",
    "## data = [10, 20, 30]\n",
    "## How to copy it safely?\n"
   ]
  },
  {
   "cell_type": "code",
   "execution_count": 30,
   "id": "3221deeb-a043-4fdd-9c78-e1f32e4a8850",
   "metadata": {},
   "outputs": [
    {
     "data": {
      "text/plain": [
       "[10, 20, 30]"
      ]
     },
     "execution_count": 30,
     "metadata": {},
     "output_type": "execute_result"
    }
   ],
   "source": [
    "data = [10, 20, 30]\n",
    "data1=data.copy()\n",
    "data1"
   ]
  },
  {
   "cell_type": "markdown",
   "id": "c1b94d42-2420-4e2d-b20c-fcd36b15975a",
   "metadata": {},
   "source": [
    "#### By using copy() method we can copy it safely"
   ]
  },
  {
   "cell_type": "markdown",
   "id": "71aea59d-b25d-42ae-8e91-bffa87b966b1",
   "metadata": {},
   "source": [
    "## 31. count()\n",
    "## Q: Find how many times \"apple\" appears.\n",
    "## fruits = [\"apple\", \"banana\", \"apple\", \"cherry\"]\n",
    "## How to count occurrences?\n"
   ]
  },
  {
   "cell_type": "code",
   "execution_count": 31,
   "id": "1eb34082-3122-4bf6-adb2-cc3a9f6bc397",
   "metadata": {},
   "outputs": [
    {
     "data": {
      "text/plain": [
       "2"
      ]
     },
     "execution_count": 31,
     "metadata": {},
     "output_type": "execute_result"
    }
   ],
   "source": [
    "fruits = [\"apple\", \"banana\", \"apple\", \"cherry\"]\n",
    "fruits.count(\"apple\")\n",
    "\n"
   ]
  },
  {
   "cell_type": "markdown",
   "id": "a5aa1567-2c6b-4c57-a15c-e9bbc01a3a80",
   "metadata": {},
   "source": [
    "#### By using count() method we can find how many times apple appears in the list"
   ]
  },
  {
   "cell_type": "code",
   "execution_count": null,
   "id": "6311bc0a-3b58-4f88-b93a-9b6cfde50df3",
   "metadata": {},
   "outputs": [],
   "source": []
  }
 ],
 "metadata": {
  "kernelspec": {
   "display_name": "Python 3 (ipykernel)",
   "language": "python",
   "name": "python3"
  },
  "language_info": {
   "codemirror_mode": {
    "name": "ipython",
    "version": 3
   },
   "file_extension": ".py",
   "mimetype": "text/x-python",
   "name": "python",
   "nbconvert_exporter": "python",
   "pygments_lexer": "ipython3",
   "version": "3.13.5"
  }
 },
 "nbformat": 4,
 "nbformat_minor": 5
}
