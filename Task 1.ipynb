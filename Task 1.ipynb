{
 "cells": [
  {
   "cell_type": "markdown",
   "id": "27d8708a-a83e-4eb3-a874-8083c52b8306",
   "metadata": {},
   "source": [
    "# **SURA VARSHA**"
   ]
  },
  {
   "attachments": {
    "d0255c1d-565a-452a-a12f-9fc452da32ba.jpg": {
     "image/jpeg": "[encoded data removed]"
    }
   },
   "cell_type": "markdown",
   "id": "d7befda3-ed92-4e6e-81d0-5155a623e5a8",
   "metadata": {},
   "source": [
    "![Varsha photo (2).jpg](attachment:d0255c1d-565a-452a-a12f-9fc452da32ba.jpg)"
   ]
  },
  {
   "cell_type": "markdown",
   "id": "4fb114ef-c169-4d65-ba16-c342660b3404",
   "metadata": {},
   "source": [
    "### LinkedIn"
   ]
  },
  {
   "cell_type": "markdown",
   "id": "5ce5d304-af79-4d98-a6f3-2acee52f805c",
   "metadata": {},
   "source": [
    "https://www.linkedin.com/in/sura-varsha-a0461a2b2/"
   ]
  },
  {
   "cell_type": "markdown",
   "id": "1c480db2-f651-48e7-9b78-3afd21a7e660",
   "metadata": {},
   "source": [
    "### Github"
   ]
  },
  {
   "cell_type": "markdown",
   "id": "d4469ba9-eb56-4a97-992c-aaa89425f059",
   "metadata": {},
   "source": [
    "https://github.com/gitsura"
   ]
  },
  {
   "cell_type": "markdown",
   "id": "66c8973e-af87-47ec-a80f-93f78e98a341",
   "metadata": {},
   "source": [
    "### **OBJECTIVE**:"
   ]
  },
  {
   "cell_type": "markdown",
   "id": "fee5bdf2-bd68-4d30-9126-7698e87f00af",
   "metadata": {},
   "source": [
    "##### I'm striving to use my expertise in software development and to help create innovative solutions within the technology industry. I'm looking to join a lively work environment where I can use my skills. Eager to join a forward-thinking company to learn, grow, and deliver impactful code."
   ]
  },
  {
   "cell_type": "markdown",
   "id": "e727341b-80fb-473f-baa1-8150722b41a6",
   "metadata": {},
   "source": [
    "### **EDUCATION**:"
   ]
  },
  {
   "cell_type": "markdown",
   "id": "8530a08e-0215-4c13-81ea-bb14673c2370",
   "metadata": {},
   "source": [
    "##### Bachelor of Technology|MREC|Information Technology\n",
    "##### 2021-2025\n",
    "##### CGPA:8.61                                                            "
   ]
  },
  {
   "cell_type": "markdown",
   "id": "7b8f5f4c-e486-4ad7-9e6a-a764421950e4",
   "metadata": {},
   "source": [
    "##### Intermediate | Kshatriya Junior College|MPC\n",
    "##### 2019-2021\n",
    "##### CGPA:9.8 "
   ]
  },
  {
   "cell_type": "markdown",
   "id": "00beb9bd-a389-4372-8d04-9ebf1e029774",
   "metadata": {},
   "source": [
    "##### School | Ganga Vidya Nikethan High School\n",
    "##### 2007-2019\n",
    "##### CGPA:10"
   ]
  },
  {
   "cell_type": "markdown",
   "id": "ca317d4d-6dac-4860-83e4-430073d51fca",
   "metadata": {},
   "source": [
    "### **PROJECTS**:\n"
   ]
  },
  {
   "cell_type": "markdown",
   "id": "afe951ff-7268-4643-8f6f-192a412ef905",
   "metadata": {},
   "source": [
    "##### **Advance Calculator**\n",
    "##### Tools Used: Java, Swing\n",
    "##### The Advance Calculator is a GUI-based calculator application. It supports basic arithmetic operations and square root calculations.\n",
    "\n",
    "\n"
   ]
  },
  {
   "cell_type": "markdown",
   "id": "4183d8e2-b456-4e50-98ca-bcacf7169ef3",
   "metadata": {},
   "source": [
    "##### **Food Ordering System**\n",
    "##### Tools used:C++\n",
    "##### This project is developed by using C++ language.\n"
   ]
  },
  {
   "cell_type": "markdown",
   "id": "fb06111e-ccad-4ee5-af57-67090aec7f81",
   "metadata": {},
   "source": [
    "### **TECHNICAL SKILLS**:"
   ]
  },
  {
   "cell_type": "markdown",
   "id": "3274cdb3-03d6-4a77-a68b-01b297fad265",
   "metadata": {},
   "source": [
    "* Git\n",
    "* Python\n",
    "* Java\n",
    "* HTML\n",
    "* CSS\n",
    "* SQL"
   ]
  },
  {
   "cell_type": "markdown",
   "id": "1c10d189-c889-4f02-bf6f-c1d81bddaeae",
   "metadata": {},
   "source": [
    "### **CERTIFICATIONS**:"
   ]
  },
  {
   "cell_type": "markdown",
   "id": "4d055050-0cee-4a8e-80ce-c3b823bffba8",
   "metadata": {},
   "source": [
    "* Git, Geekster\n",
    "* Java, Udemy\n",
    "* Java, Codechef\n",
    "* SQL, Geekster"
   ]
  },
  {
   "cell_type": "markdown",
   "id": "878de5fa-0477-476b-a96e-d21be3c9a770",
   "metadata": {},
   "source": [
    "### **INTERNSHIPS**:\n"
   ]
  },
  {
   "cell_type": "markdown",
   "id": "731a94a5-c864-4f02-9db7-46052a6d8baf",
   "metadata": {},
   "source": [
    "##### **Forage**\n",
    "> Virtual internship in Web Development"
   ]
  },
  {
   "cell_type": "markdown",
   "id": "7cfa78dd-86fd-4421-ad68-f1bf6d8263b1",
   "metadata": {},
   "source": [
    "### **ACHIEVEMENTS**:"
   ]
  },
  {
   "cell_type": "markdown",
   "id": "305497b1-e952-4abf-b69e-889652c9f23c",
   "metadata": {},
   "source": [
    "##### Completed all the Java Problems in Hacker Rank and achieved 5star Badge."
   ]
  },
  {
   "cell_type": "markdown",
   "id": "cf8539af-fa40-4f49-aa98-bc0a0783366a",
   "metadata": {},
   "source": [
    "### **INTERESTS**:"
   ]
  },
  {
   "cell_type": "markdown",
   "id": "cb3ca091-f750-4877-9d38-6f1b7439e42b",
   "metadata": {},
   "source": [
    "* Cooking\n",
    "* Drawing"
   ]
  },
  {
   "cell_type": "code",
   "execution_count": null,
   "id": "275e2719-1215-41ea-814f-e7c332e95bc2",
   "metadata": {},
   "outputs": [],
   "source": []
  }
 ],
 "metadata": {
  "kernelspec": {
   "display_name": "Python 3 (ipykernel)",
   "language": "python",
   "name": "python3"
  },
  "language_info": {
   "codemirror_mode": {
    "name": "ipython",
    "version": 3
   },
   "file_extension": ".py",
   "mimetype": "text/x-python",
   "name": "python",
   "nbconvert_exporter": "python",
   "pygments_lexer": "ipython3",
   "version": "3.13.5"
  }
 },
 "nbformat": 4,
 "nbformat_minor": 5
}
