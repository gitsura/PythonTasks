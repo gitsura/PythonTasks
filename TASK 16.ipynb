{
 "cells": [
  {
   "cell_type": "markdown",
   "id": "e7a3dbb4-1a3b-42a9-b4f2-f7ea7025cd60",
   "metadata": {},
   "source": [
    "## Functions\n",
    "## Q1.\n",
    "##  Write a function swap_first_last(s) that swaps the first and last character of the string s.\n",
    "##  Hint: Use slicing and string concatenation.\n",
    "##  Expected Output:\n",
    "## swap_first_last(\"python\") → \"nythop\"\n"
   ]
  },
  {
   "cell_type": "code",
   "execution_count": 8,
   "id": "2bf915ff-9b6d-45e8-9eb2-c38d1e79caa8",
   "metadata": {},
   "outputs": [],
   "source": [
    "def swap_first_last(str1):\n",
    "    if len(str1)<=1:\n",
    "        return s\n",
    "    else:\n",
    "        return str1[-1]+str1[1:5]+str1[0]\n",
    "    \n",
    "    "
   ]
  },
  {
   "cell_type": "code",
   "execution_count": 9,
   "id": "1a5e1560-54b9-46fc-a7c2-1b823f259f68",
   "metadata": {},
   "outputs": [
    {
     "name": "stdout",
     "output_type": "stream",
     "text": [
      "nythop\n"
     ]
    }
   ],
   "source": [
    "print(swap_first_last(\"python\"))"
   ]
  },
  {
   "cell_type": "markdown",
   "id": "672b085b-6f5b-4166-9934-d53f5bbd41d2",
   "metadata": {},
   "source": [
    "## Q2.\n",
    "## Define a function char_frequency(s) that returns a dictionary with the count of each character.\n",
    "## Hint: Use a loop and a dictionary.\n",
    "## Expected Output:\n",
    "## char_frequency(\"pop\") → {'p': 2, 'o': 1}\n",
    "\n"
   ]
  },
  {
   "cell_type": "code",
   "execution_count": 10,
   "id": "897d9844-19de-41f6-8c3a-77a4168daed0",
   "metadata": {},
   "outputs": [
    {
     "data": {
      "text/plain": [
       "{'p': 2, 'o': 1}"
      ]
     },
     "execution_count": 10,
     "metadata": {},
     "output_type": "execute_result"
    }
   ],
   "source": [
    "def char_frequency(s):\n",
    "    d={}\n",
    "    for i in s:\n",
    "        if i in d:\n",
    "            d[i]+=1\n",
    "        else:\n",
    "            d[i]=1\n",
    "    return d\n",
    "char_frequency(\"pop\")   "
   ]
  },
  {
   "cell_type": "markdown",
   "id": "e9b356ac-027f-4571-b9cf-7bbd3ecf2200",
   "metadata": {},
   "source": [
    "## Q3.\n",
    "## Create a function common_prefix(s1, s2) that returns the longest common prefix.\n",
    "## Hint: Compare characters from start until they differ.\n",
    "## Expected Output:\n",
    "## common_prefix(\"interview\", \"intermediate\") → \"inter\"\n",
    "\n"
   ]
  },
  {
   "cell_type": "code",
   "execution_count": 20,
   "id": "209e496a-1320-4cfa-ad99-5a5230420ad7",
   "metadata": {},
   "outputs": [
    {
     "name": "stdout",
     "output_type": "stream",
     "text": [
      "inter"
     ]
    }
   ],
   "source": [
    "def common_prefix(s1, s2):\n",
    "    count=0\n",
    "    for i in s1:\n",
    "            if i in s2:\n",
    "            \n",
    "                 print(i,end='')\n",
    "            else:\n",
    "                break\n",
    "common_prefix(\"interview\", \"intermediate\")"
   ]
  },
  {
   "cell_type": "markdown",
   "id": "b3c5c086-fdfc-48e0-baee-0d89d2b19817",
   "metadata": {},
   "source": [
    "## Q4.\n",
    "## Define a function digit_sum(n) that returns the sum of all digits in an integer n.\n",
    "## Hint: Use str() and loop through characters.\n",
    "## Expected Output:\n",
    "## digit_sum(54321) → 15\n"
   ]
  },
  {
   "cell_type": "code",
   "execution_count": 27,
   "id": "27957b17-0f69-450f-9fa5-96933549b39b",
   "metadata": {},
   "outputs": [
    {
     "name": "stdout",
     "output_type": "stream",
     "text": [
      "15\n"
     ]
    }
   ],
   "source": [
    "def digit_sum(n):\n",
    "    sum=0\n",
    "    for i in str(n):\n",
    "        sum+=int(i)\n",
    "    print(sum)\n",
    "digit_sum(54321) "
   ]
  },
  {
   "cell_type": "markdown",
   "id": "2ce63de2-a286-44bc-9ce7-fcb9b953d62f",
   "metadata": {},
   "source": [
    "## Q5.\n",
    "## Write a function is_anagram(s1, s2) that returns True if the strings are anagrams.\n",
    "## Hint: Sort both strings and compare.\n",
    "## Expected Output:\n",
    "## is_anagram(\"listen\", \"silent\") → True  \n",
    "## is_anagram(\"python\", \"typhon\") → True\n"
   ]
  },
  {
   "cell_type": "code",
   "execution_count": 32,
   "id": "aa1dc680-4aa8-43b7-809a-82eade8823a8",
   "metadata": {},
   "outputs": [
    {
     "name": "stdout",
     "output_type": "stream",
     "text": [
      "True\n",
      "True\n"
     ]
    }
   ],
   "source": [
    "def is_anagram(s1, s2):\n",
    "    if sorted(s1)==sorted(s2):\n",
    "        print(\"True\")\n",
    "is_anagram(\"listen\", \"silent\")     \n",
    "is_anagram(\"python\", \"typhon\") "
   ]
  },
  {
   "cell_type": "markdown",
   "id": "4e72c81e-a154-4e2e-9802-b423d1e3f936",
   "metadata": {},
   "source": [
    "## Q6.\n",
    "## Create a function middle_char(s) that returns the middle character of an odd-length string.\n",
    "## Hint: Use integer division and indexing.\n",
    "## Expected Output:\n",
    "## middle_char(\"apple\") → 'p'\n"
   ]
  },
  {
   "cell_type": "code",
   "execution_count": 39,
   "id": "bd860a0c-8441-4e3f-a17f-de7a9c01e347",
   "metadata": {},
   "outputs": [
    {
     "name": "stdout",
     "output_type": "stream",
     "text": [
      "p\n"
     ]
    }
   ],
   "source": [
    "\n",
    "def middle_char(s):\n",
    "    if len(s)%2!=0:\n",
    "        k=len(s)\n",
    "        a=(k//2)\n",
    "        print(s[a])\n",
    "middle_char(\"apple\")          "
   ]
  },
  {
   "cell_type": "markdown",
   "id": "a6429a64-9382-4c83-923d-42d9d7f1e0fe",
   "metadata": {},
   "source": [
    "## Q7.\n",
    "## Define repeat_front_back(s) that returns a new string in format: first 2 chars + last 2 chars.\n",
    "## Hint: Use slicing.\n",
    "## Expected Output:\n",
    "## repeat_front_back(\"function\") → \"funn\"\n",
    "\n"
   ]
  },
  {
   "cell_type": "code",
   "execution_count": 40,
   "id": "c5a4fd4f-11c3-4fcf-a089-418de7cce9db",
   "metadata": {},
   "outputs": [
    {
     "data": {
      "text/plain": [
       "'fuon'"
      ]
     },
     "execution_count": 40,
     "metadata": {},
     "output_type": "execute_result"
    }
   ],
   "source": [
    "def repeat_front_back(s):\n",
    "    return s[0:2]+s[-2::1]\n",
    "repeat_front_back(\"function\")"
   ]
  },
  {
   "cell_type": "markdown",
   "id": "a611250e-7f7d-447d-9128-0938e68427c3",
   "metadata": {},
   "source": [
    "## Q8.\n",
    "## Write a function count_upper_lower(s) that returns a tuple of uppercase and lowercase letter counts.\n",
    "## Hint: Use isupper() and islower() inside a loop.\n",
    "## Expected Output:\n",
    "## count_upper_lower(\"Hello World\") → (2, 8)\n"
   ]
  },
  {
   "cell_type": "code",
   "execution_count": 45,
   "id": "f8504ea8-20b8-41f1-a903-b4d2c308fc55",
   "metadata": {},
   "outputs": [
    {
     "name": "stdout",
     "output_type": "stream",
     "text": [
      "(2, 8)\n"
     ]
    }
   ],
   "source": [
    "def count_upper_lower(s):\n",
    "    upper=0\n",
    "    lower=0\n",
    "    for i in s:\n",
    "        if i.isupper():\n",
    "            upper+=1\n",
    "        elif i.islower():\n",
    "            lower+=1\n",
    "    c=(upper,lower)\n",
    "    return c       \n",
    "    \n",
    "print(count_upper_lower(\"Hello World\")) "
   ]
  },
  {
   "cell_type": "markdown",
   "id": "a2471ad2-cdf4-4279-8382-c6e044df7da1",
   "metadata": {},
   "source": [
    "## Q9.\n",
    "## Define a function remove_consecutive_duplicates(s) that removes consecutive repeating characters.\n",
    "## Hint: Compare current character with previous.\n",
    "## Expected Output:\n",
    "## remove_consecutive_duplicates(\"aabbccdaa\") → \"abcda\"\n",
    "\n"
   ]
  },
  {
   "cell_type": "code",
   "execution_count": 58,
   "id": "ae437721-7065-42e8-b852-3fd765fa2796",
   "metadata": {},
   "outputs": [
    {
     "name": "stdout",
     "output_type": "stream",
     "text": [
      "abcda\n"
     ]
    }
   ],
   "source": [
    "def remove_consecutive_duplicates(s):\n",
    "    \n",
    "    if not s:\n",
    "        return \"\"\n",
    "    str1=s[0]\n",
    "    for i in range(1,len(s)):\n",
    "        if s[i]!=s[i-1]:\n",
    "            str1+=s[i]\n",
    "    return str1\n",
    "print(remove_consecutive_duplicates(\"aabbccdaa\"))"
   ]
  },
  {
   "cell_type": "markdown",
   "id": "9a917f8b-70d8-40ea-8631-865e81cd098c",
   "metadata": {},
   "source": [
    "## Q10.\n",
    "## Create find_longest_word(sentence) that returns the longest word in a sentence.\n",
    "## Hint: Use split() and a loop with length check.\n",
    "## Expected Output:\n",
    "\n",
    "## find_longest_word(\"Python makes programming easier\") → \"programming\"\n",
    "\n"
   ]
  },
  {
   "cell_type": "code",
   "execution_count": 64,
   "id": "2a7edc2c-675e-404a-8b26-95d7bd322cca",
   "metadata": {},
   "outputs": [
    {
     "data": {
      "text/plain": [
       "'programming'"
      ]
     },
     "execution_count": 64,
     "metadata": {},
     "output_type": "execute_result"
    }
   ],
   "source": [
    "def find_longest_word(sentence):\n",
    "    s=sentence.split()\n",
    "    large=s[0]\n",
    "    for i in s:\n",
    "        \n",
    "        if len(i)>len(large):\n",
    "            large=i\n",
    "    return large\n",
    "find_longest_word(\"Python makes programming easier\")            "
   ]
  },
  {
   "cell_type": "markdown",
   "id": "2875bc07-0cf9-4890-b0a7-2a11f4a7bf8c",
   "metadata": {},
   "source": [
    "## 🔹 Lambda Functions (10 Questions, without list/map/filter)\n",
    "\n",
    "## Q11.\n",
    "##  Create a lambda function that returns True if a year is a leap year.\n",
    "##  Hint: A year divisible by 4 and not by 100 unless also divisible by 400.\n",
    "##  Expected Output:\n",
    "## is_leap = lambda y: (y % 4 == 0 and y % 100 != 0) or (y % 400 == 0)  \n",
    "## is_leap(2000) → True  \n",
    "## is_leap(1900) → False\n"
   ]
  },
  {
   "cell_type": "code",
   "execution_count": 75,
   "id": "18a06a3e-1efd-4a31-bb84-759879284392",
   "metadata": {},
   "outputs": [
    {
     "name": "stdout",
     "output_type": "stream",
     "text": [
      "True\n",
      "False\n"
     ]
    }
   ],
   "source": [
    "\n",
    "is_leap = lambda y: (y % 4 == 0 and y % 100 != 0) or (y % 400 == 0)\n",
    "    \n",
    "print(is_leap(2000))\n",
    "print(is_leap(1900))     "
   ]
  },
  {
   "cell_type": "markdown",
   "id": "86a8e612-195f-49ed-aecb-2f973261bdc7",
   "metadata": {},
   "source": [
    "## Q12.\n",
    "## Write a lambda to check if a string is in uppercase.\n",
    "## Hint: Use isupper() method.\n",
    "## Expected Output:\n",
    "## check_upper = lambda s: s.isupper()  \n",
    "## check_upper(\"HELLO\") → True  \n",
    "## check_upper(\"Hello\") → False\n"
   ]
  },
  {
   "cell_type": "code",
   "execution_count": 77,
   "id": "e6c84361-b8d0-4757-8dc6-d22e15e1368d",
   "metadata": {},
   "outputs": [
    {
     "data": {
      "text/plain": [
       "True"
      ]
     },
     "execution_count": 77,
     "metadata": {},
     "output_type": "execute_result"
    }
   ],
   "source": [
    "check_upper = lambda s: s.isupper()\n",
    "check_upper(\"HELLO\") \n"
   ]
  },
  {
   "cell_type": "code",
   "execution_count": 78,
   "id": "fe9bc9a1-4f3b-4446-b23f-152a025b1aaa",
   "metadata": {},
   "outputs": [
    {
     "data": {
      "text/plain": [
       "False"
      ]
     },
     "execution_count": 78,
     "metadata": {},
     "output_type": "execute_result"
    }
   ],
   "source": [
    "check_upper(\"Hello\") "
   ]
  },
  {
   "cell_type": "markdown",
   "id": "83b4972d-5098-4f2a-b541-56ba25bedd49",
   "metadata": {},
   "source": [
    "## Q13.\n",
    "## Create a lambda to return the larger of two numbers.\n",
    "## Hint: Use ternary operator.\n",
    "## Expected Output:\n",
    "\n",
    "## max_two = lambda a, b: a if a > b else b  \n",
    "## max_two(4, 7) → 7\n"
   ]
  },
  {
   "cell_type": "code",
   "execution_count": 80,
   "id": "62ad3eb6-0fd4-4348-8bb3-17b2b6ef732e",
   "metadata": {},
   "outputs": [
    {
     "data": {
      "text/plain": [
       "7"
      ]
     },
     "execution_count": 80,
     "metadata": {},
     "output_type": "execute_result"
    }
   ],
   "source": [
    "max_two = lambda a, b: a if a > b else b\n",
    "max_two(4, 7) "
   ]
  },
  {
   "cell_type": "markdown",
   "id": "b4f3c5c6-ccca-4916-9284-fdb845e0a229",
   "metadata": {},
   "source": [
    "## Q14.\n",
    "## Use a lambda to check if a character is a vowel.\n",
    "## Hint: Use in with a string of vowels.\n",
    "## Expected Output:\n",
    "\n",
    "## is_vowel = lambda c: c.lower() in 'aeiou'  \n",
    "## is_vowel('E') → True  \n",
    "## is_vowel('z') → False\n"
   ]
  },
  {
   "cell_type": "code",
   "execution_count": 83,
   "id": "29481a65-3770-4111-b1c7-869f7a1d1ab7",
   "metadata": {},
   "outputs": [
    {
     "data": {
      "text/plain": [
       "True"
      ]
     },
     "execution_count": 83,
     "metadata": {},
     "output_type": "execute_result"
    }
   ],
   "source": [
    "is_vowel = lambda c: c.lower() in 'aeiou'\n",
    "is_vowel('E') \n"
   ]
  },
  {
   "cell_type": "code",
   "execution_count": 84,
   "id": "cd01d1c8-aa29-4838-a7da-6b8488fcadf5",
   "metadata": {},
   "outputs": [
    {
     "data": {
      "text/plain": [
       "False"
      ]
     },
     "execution_count": 84,
     "metadata": {},
     "output_type": "execute_result"
    }
   ],
   "source": [
    "is_vowel('z') "
   ]
  },
  {
   "cell_type": "markdown",
   "id": "37bda66c-8492-4086-94ac-b633c72caf1c",
   "metadata": {},
   "source": [
    "## Q15.\n",
    "## Create a lambda to extract the domain from an email address.\n",
    "## Hint: Use split('@')[1]\n",
    "## Expected Output:\n",
    "## get_domain = lambda email: email.split('@')[1]  \n",
    "## get_domain(\"john@example.com\") → \"example.com\"\n"
   ]
  },
  {
   "cell_type": "code",
   "execution_count": 86,
   "id": "7d37f951-0e16-411a-9e40-e8fa14e55976",
   "metadata": {},
   "outputs": [
    {
     "data": {
      "text/plain": [
       "'example.com'"
      ]
     },
     "execution_count": 86,
     "metadata": {},
     "output_type": "execute_result"
    }
   ],
   "source": [
    "get_domain = lambda email: email.split('@')[1]\n",
    "get_domain(\"john@example.com\") "
   ]
  },
  {
   "cell_type": "markdown",
   "id": "ecd517a0-ee6c-4c3f-8511-480a271f9e44",
   "metadata": {},
   "source": [
    "## Q16.\n",
    "## Write a lambda to return the absolute difference between two numbers.\n",
    "## Hint: Use abs() function.\n",
    "## Expected Output:\n",
    "\n",
    "## abs_diff = lambda a, b: abs(a - b)  \n",
    "## abs_diff(10, 7) → 3\n",
    "\n"
   ]
  },
  {
   "cell_type": "code",
   "execution_count": 87,
   "id": "01217fd4-0df5-47a8-ad99-22fdab831f2a",
   "metadata": {},
   "outputs": [
    {
     "data": {
      "text/plain": [
       "3"
      ]
     },
     "execution_count": 87,
     "metadata": {},
     "output_type": "execute_result"
    }
   ],
   "source": [
    "abs_diff = lambda a, b: abs(a - b)\n",
    "abs_diff(10, 7) \n"
   ]
  },
  {
   "cell_type": "markdown",
   "id": "c04484e9-1639-4fdb-88cd-afa04ad6727e",
   "metadata": {},
   "source": [
    "## Q17.\n",
    "## Define a lambda that checks if a number is a perfect square.\n",
    "## Hint: Square root and check if result is an integer.\n",
    "## Expected Output:\n",
    "## is_perfect_square = lambda n: int(n ** 0.5) ** 2 == n  \n",
    "## is_perfect_square(16) → True  \n",
    "## is_perfect_square(20) → False\n"
   ]
  },
  {
   "cell_type": "code",
   "execution_count": 89,
   "id": "ee201103-2dd8-4462-ad71-40720ad6d1a7",
   "metadata": {},
   "outputs": [
    {
     "data": {
      "text/plain": [
       "True"
      ]
     },
     "execution_count": 89,
     "metadata": {},
     "output_type": "execute_result"
    }
   ],
   "source": [
    "is_perfect_square = lambda n: int(n ** 0.5) ** 2 == n\n",
    "is_perfect_square(16) \n"
   ]
  },
  {
   "cell_type": "code",
   "execution_count": 90,
   "id": "3e9c5138-d2e3-4836-9551-07417a719a02",
   "metadata": {},
   "outputs": [
    {
     "data": {
      "text/plain": [
       "False"
      ]
     },
     "execution_count": 90,
     "metadata": {},
     "output_type": "execute_result"
    }
   ],
   "source": [
    "is_perfect_square(20) "
   ]
  },
  {
   "cell_type": "markdown",
   "id": "f83bef42-b52f-4bcc-adfd-32dc06658f73",
   "metadata": {},
   "source": [
    "## Q18.\n",
    "## Create a lambda that returns the last n characters of a string.\n",
    "## Hint: Use slicing with negative index.\n",
    "## Expected Output:\n",
    "## last_n = lambda s, n: s[-n:]  \n",
    "## last_n(\"abcdef\", 3) → \"def\"\n",
    "\n"
   ]
  },
  {
   "cell_type": "code",
   "execution_count": 93,
   "id": "a4d5ac89-6228-4d7a-900f-17f8da0b0dba",
   "metadata": {},
   "outputs": [
    {
     "data": {
      "text/plain": [
       "'def'"
      ]
     },
     "execution_count": 93,
     "metadata": {},
     "output_type": "execute_result"
    }
   ],
   "source": [
    "last_n = lambda s, n: s[-n:]\n",
    "last_n(\"abcdef\", 3) "
   ]
  },
  {
   "cell_type": "markdown",
   "id": "2a3f448e-5eb2-4e2a-8102-22d60d5ff71e",
   "metadata": {},
   "source": [
    "## Q19.\n",
    "## Write a lambda that returns the number of digits in an integer.\n",
    "## Hint: Convert number to string and use len()\n",
    "## Expected Output:\n",
    "\n",
    "## digit_count = lambda x: len(str(abs(x)))  \n",
    "## digit_count(1234) → 4\n"
   ]
  },
  {
   "cell_type": "code",
   "execution_count": 94,
   "id": "6c4ed7ab-b8fa-4254-b46f-1f43fbfb9c2f",
   "metadata": {},
   "outputs": [
    {
     "data": {
      "text/plain": [
       "4"
      ]
     },
     "execution_count": 94,
     "metadata": {},
     "output_type": "execute_result"
    }
   ],
   "source": [
    "digit_count = lambda x: len(str(abs(x)))\n",
    "digit_count(1234) "
   ]
  },
  {
   "cell_type": "markdown",
   "id": "cba963a9-4667-4ac1-bba4-352d8e6d7776",
   "metadata": {},
   "source": [
    "## Q20.\n",
    "## Create a lambda that checks whether a string contains only alphanumeric characters.\n",
    "## Hint: Use isalnum()\n",
    "## Expected Output:\n",
    "\n",
    "## is_alnum = lambda s: s.isalnum()  \n",
    "## is_alnum(\"abc123\") → True  \n",
    "## is_alnum(\"abc 123\") → False\n"
   ]
  },
  {
   "cell_type": "code",
   "execution_count": null,
   "id": "8ec48a34-624c-49c1-9409-af96b7b1c1d8",
   "metadata": {},
   "outputs": [],
   "source": [
    "is_alnum = lambda s: s.isalnum()\n",
    "is_alnum(\"abc123\") \n",
    "is_alnum(\"abc 123\") → False\n"
   ]
  }
 ],
 "metadata": {
  "kernelspec": {
   "display_name": "Python 3 (ipykernel)",
   "language": "python",
   "name": "python3"
  },
  "language_info": {
   "codemirror_mode": {
    "name": "ipython",
    "version": 3
   },
   "file_extension": ".py",
   "mimetype": "text/x-python",
   "name": "python",
   "nbconvert_exporter": "python",
   "pygments_lexer": "ipython3",
   "version": "3.13.5"
  }
 },
 "nbformat": 4,
 "nbformat_minor": 5
}
