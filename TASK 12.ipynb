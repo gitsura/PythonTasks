{
 "cells": [
  {
   "cell_type": "markdown",
   "id": "ec6d3b62-c553-4397-ba69-c1690957526b",
   "metadata": {},
   "source": [
    "## 1. Classroom Attendance Sheet\n",
    "## Scenario:\n",
    "## A teacher needs to mark attendance for 3 classes.\n",
    "## Each class has 4 students.\n",
    "## The program should print: Class 1 → Student 1, Class 1 → Student 2 … until all classes and students are covered.\n",
    "## Hint:\n",
    "## Outer loop: Goes through classes (1 to 3).\n",
    "## Inner loop: Goes through students in that class (1 to 4).\n",
    "\n",
    "\n"
   ]
  },
  {
   "cell_type": "code",
   "execution_count": 1,
   "id": "90d6b47b-3ab7-46d6-afe6-153f12749f59",
   "metadata": {},
   "outputs": [
    {
     "name": "stdout",
     "output_type": "stream",
     "text": [
      "Class 1 Student 1\n",
      "Class 1 Student 2\n",
      "Class 1 Student 3\n",
      "Class 1 Student 4\n",
      "Class 2 Student 1\n",
      "Class 2 Student 2\n",
      "Class 2 Student 3\n",
      "Class 2 Student 4\n",
      "Class 3 Student 1\n",
      "Class 3 Student 2\n",
      "Class 3 Student 3\n",
      "Class 3 Student 4\n"
     ]
    }
   ],
   "source": [
    "for i in range(1,4):\n",
    "    for j in range(1,5):\n",
    "        print(\"Class\",i,\"Student\",j)"
   ]
  },
  {
   "cell_type": "markdown",
   "id": "97c54ed6-7a19-4861-a209-354c79f6c6aa",
   "metadata": {},
   "source": [
    "## 2. Train Seat Booking\n",
    "## Scenario:\n",
    "## A train has 5 coaches, and each coach has 8 seats.\n",
    "## Write a program to display seat labels like Coach 1 Seat 1, Coach 1 Seat 2 … until Coach 5 Seat 8.\n",
    "## Hint:\n",
    "## Outer loop: Coaches (1 to 5).\n",
    "## Inner loop: Seats (1 to 8).\n"
   ]
  },
  {
   "cell_type": "code",
   "execution_count": 2,
   "id": "cd2cdd35-b3ed-48cc-857f-bafc365a071a",
   "metadata": {},
   "outputs": [
    {
     "name": "stdout",
     "output_type": "stream",
     "text": [
      "Coach 1 Seat 1\n",
      "Coach 1 Seat 2\n",
      "Coach 1 Seat 3\n",
      "Coach 1 Seat 4\n",
      "Coach 1 Seat 5\n",
      "Coach 1 Seat 6\n",
      "Coach 1 Seat 7\n",
      "Coach 1 Seat 8\n",
      "Coach 2 Seat 1\n",
      "Coach 2 Seat 2\n",
      "Coach 2 Seat 3\n",
      "Coach 2 Seat 4\n",
      "Coach 2 Seat 5\n",
      "Coach 2 Seat 6\n",
      "Coach 2 Seat 7\n",
      "Coach 2 Seat 8\n",
      "Coach 3 Seat 1\n",
      "Coach 3 Seat 2\n",
      "Coach 3 Seat 3\n",
      "Coach 3 Seat 4\n",
      "Coach 3 Seat 5\n",
      "Coach 3 Seat 6\n",
      "Coach 3 Seat 7\n",
      "Coach 3 Seat 8\n",
      "Coach 4 Seat 1\n",
      "Coach 4 Seat 2\n",
      "Coach 4 Seat 3\n",
      "Coach 4 Seat 4\n",
      "Coach 4 Seat 5\n",
      "Coach 4 Seat 6\n",
      "Coach 4 Seat 7\n",
      "Coach 4 Seat 8\n",
      "Coach 5 Seat 1\n",
      "Coach 5 Seat 2\n",
      "Coach 5 Seat 3\n",
      "Coach 5 Seat 4\n",
      "Coach 5 Seat 5\n",
      "Coach 5 Seat 6\n",
      "Coach 5 Seat 7\n",
      "Coach 5 Seat 8\n"
     ]
    }
   ],
   "source": [
    "for i in range(1,6):\n",
    "    for j in range(1,9):\n",
    "        print(\"Coach\",i,\"Seat\",j)"
   ]
  },
  {
   "cell_type": "markdown",
   "id": "3e6dce25-a12a-43a0-9fab-b3c77a10ac5f",
   "metadata": {},
   "source": [
    "## 3. Monthly Expense Tracker\n",
    "## Scenario:\n",
    "## You want to store expenses for 4 months.\n",
    "## For each month, you need to enter expenses for 3 categories: Food, Transport, and Entertainment.\n",
    "## The program should print each month’s category expenses.\n",
    "## Hint:\n",
    "## Outer loop: Months (1 to 4).\n",
    "## Inner loop: Categories (1 to 3).\n",
    "\n",
    "\n"
   ]
  },
  {
   "cell_type": "code",
   "execution_count": 6,
   "id": "43004086-6252-4660-82d4-defd3c5ac3be",
   "metadata": {},
   "outputs": [
    {
     "name": "stdin",
     "output_type": "stream",
     "text": [
      "On what we spent Food\n",
      "Enter expenses 1500\n"
     ]
    },
    {
     "name": "stdout",
     "output_type": "stream",
     "text": [
      "month 1 Food expense 1500\n"
     ]
    },
    {
     "name": "stdin",
     "output_type": "stream",
     "text": [
      "On what we spent Transport\n",
      "Enter expenses 300\n"
     ]
    },
    {
     "name": "stdout",
     "output_type": "stream",
     "text": [
      "month 1 Transport expense 300\n"
     ]
    },
    {
     "name": "stdin",
     "output_type": "stream",
     "text": [
      "On what we spent Entertainment\n",
      "Enter expenses 1000\n"
     ]
    },
    {
     "name": "stdout",
     "output_type": "stream",
     "text": [
      "month 1 Entertainment expense 1000\n"
     ]
    },
    {
     "name": "stdin",
     "output_type": "stream",
     "text": [
      "On what we spent Food\n",
      "Enter expenses 3000\n"
     ]
    },
    {
     "name": "stdout",
     "output_type": "stream",
     "text": [
      "month 2 Food expense 3000\n"
     ]
    },
    {
     "name": "stdin",
     "output_type": "stream",
     "text": [
      "On what we spent Transport\n",
      "Enter expenses 500\n"
     ]
    },
    {
     "name": "stdout",
     "output_type": "stream",
     "text": [
      "month 2 Transport expense 500\n"
     ]
    },
    {
     "name": "stdin",
     "output_type": "stream",
     "text": [
      "On what we spent Entertainment\n",
      "Enter expenses 400\n"
     ]
    },
    {
     "name": "stdout",
     "output_type": "stream",
     "text": [
      "month 2 Entertainment expense 400\n"
     ]
    },
    {
     "name": "stdin",
     "output_type": "stream",
     "text": [
      "On what we spent Food\n",
      "Enter expenses 900\n"
     ]
    },
    {
     "name": "stdout",
     "output_type": "stream",
     "text": [
      "month 3 Food expense 900\n"
     ]
    },
    {
     "name": "stdin",
     "output_type": "stream",
     "text": [
      "On what we spent Transport\n",
      "Enter expenses 400\n"
     ]
    },
    {
     "name": "stdout",
     "output_type": "stream",
     "text": [
      "month 3 Transport expense 400\n"
     ]
    },
    {
     "name": "stdin",
     "output_type": "stream",
     "text": [
      "On what we spent Entertainment\n",
      "Enter expenses 450\n"
     ]
    },
    {
     "name": "stdout",
     "output_type": "stream",
     "text": [
      "month 3 Entertainment expense 450\n"
     ]
    },
    {
     "name": "stdin",
     "output_type": "stream",
     "text": [
      "On what we spent Food\n",
      "Enter expenses 500\n"
     ]
    },
    {
     "name": "stdout",
     "output_type": "stream",
     "text": [
      "month 4 Food expense 500\n"
     ]
    },
    {
     "name": "stdin",
     "output_type": "stream",
     "text": [
      "On what we spent Transport\n",
      "Enter expenses 300\n"
     ]
    },
    {
     "name": "stdout",
     "output_type": "stream",
     "text": [
      "month 4 Transport expense 300\n"
     ]
    },
    {
     "name": "stdin",
     "output_type": "stream",
     "text": [
      "On what we spent Entertainment\n",
      "Enter expenses 2000\n"
     ]
    },
    {
     "name": "stdout",
     "output_type": "stream",
     "text": [
      "month 4 Entertainment expense 2000\n"
     ]
    }
   ],
   "source": [
    "for i in range(1,5):\n",
    "   for j in range(1,4):\n",
    "         expense_on=input(\"On what we spent\")\n",
    "         exp=int(input(\"Enter expenses\"))\n",
    "         print(\"month\",i,expense_on,\"expense\",exp)"
   ]
  },
  {
   "cell_type": "markdown",
   "id": "73b4d2fd-fa87-4ff5-9ee0-61c1739c39d6",
   "metadata": {},
   "source": [
    "## 4. Exam Results Report\n",
    "## Scenario:\n",
    "## A school has 2 sections (A and B).\n",
    "## Each section has 5 students, and you need to print their marks for Math and Science.\n",
    "## Hint:\n",
    "## Outer loop: Sections (A to B).\n",
    "## Inner loop: Students (1 to 5).\n",
    "## Inside the inner loop: print marks for 2 subjects.\n",
    "\n",
    "\n"
   ]
  },
  {
   "cell_type": "code",
   "execution_count": 7,
   "id": "95f07c37-de6f-4594-b3cf-b7e8f7810b87",
   "metadata": {},
   "outputs": [
    {
     "name": "stdin",
     "output_type": "stream",
     "text": [
      "Enter marks 89\n",
      "Enter marks 89\n"
     ]
    },
    {
     "name": "stdout",
     "output_type": "stream",
     "text": [
      "Section A Student 1 Math 89 Science 89\n"
     ]
    },
    {
     "name": "stdin",
     "output_type": "stream",
     "text": [
      "Enter marks 70\n",
      "Enter marks 71\n"
     ]
    },
    {
     "name": "stdout",
     "output_type": "stream",
     "text": [
      "Section A Student 2 Math 70 Science 71\n"
     ]
    },
    {
     "name": "stdin",
     "output_type": "stream",
     "text": [
      "Enter marks 80\n",
      "Enter marks 86\n"
     ]
    },
    {
     "name": "stdout",
     "output_type": "stream",
     "text": [
      "Section A Student 3 Math 80 Science 86\n"
     ]
    },
    {
     "name": "stdin",
     "output_type": "stream",
     "text": [
      "Enter marks 79\n",
      "Enter marks 56\n"
     ]
    },
    {
     "name": "stdout",
     "output_type": "stream",
     "text": [
      "Section A Student 4 Math 79 Science 56\n"
     ]
    },
    {
     "name": "stdin",
     "output_type": "stream",
     "text": [
      "Enter marks 78\n",
      "Enter marks 45\n"
     ]
    },
    {
     "name": "stdout",
     "output_type": "stream",
     "text": [
      "Section A Student 5 Math 78 Science 45\n"
     ]
    },
    {
     "name": "stdin",
     "output_type": "stream",
     "text": [
      "Enter marks 76\n",
      "Enter marks 87\n"
     ]
    },
    {
     "name": "stdout",
     "output_type": "stream",
     "text": [
      "Section B Student 1 Math 76 Science 87\n"
     ]
    },
    {
     "name": "stdin",
     "output_type": "stream",
     "text": [
      "Enter marks 34\n",
      "Enter marks 65\n"
     ]
    },
    {
     "name": "stdout",
     "output_type": "stream",
     "text": [
      "Section B Student 2 Math 34 Science 65\n"
     ]
    },
    {
     "name": "stdin",
     "output_type": "stream",
     "text": [
      "Enter marks 89\n",
      "Enter marks 98\n"
     ]
    },
    {
     "name": "stdout",
     "output_type": "stream",
     "text": [
      "Section B Student 3 Math 89 Science 98\n"
     ]
    },
    {
     "name": "stdin",
     "output_type": "stream",
     "text": [
      "Enter marks 99\n",
      "Enter marks 45\n"
     ]
    },
    {
     "name": "stdout",
     "output_type": "stream",
     "text": [
      "Section B Student 4 Math 99 Science 45\n"
     ]
    },
    {
     "name": "stdin",
     "output_type": "stream",
     "text": [
      "Enter marks 57\n",
      "Enter marks 45\n"
     ]
    },
    {
     "name": "stdout",
     "output_type": "stream",
     "text": [
      "Section B Student 5 Math 57 Science 45\n"
     ]
    }
   ],
   "source": [
    "for i in range(65,67):\n",
    "   for j in range(1,6):\n",
    "           Math=int(input(\"Enter marks\"))\n",
    "           Science=int(input(\"Enter marks\"))\n",
    "           print(\"Section\",chr(i),\"Student\",j,\"Math\",Math,\"Science\",Science)"
   ]
  },
  {
   "cell_type": "markdown",
   "id": "6afe3f9d-8288-4da0-abae-8aa2d981509d",
   "metadata": {},
   "source": [
    "## 5. Supermarket Price List\n",
    "## Scenario:\n",
    "## A supermarket has 3 departments: Fruits, Vegetables, and Dairy.\n",
    "## Each department has 4 items.\n",
    "## The program should print the department name followed by each item’s price.\n",
    "## Hint:\n",
    "## Outer loop: Departments (1 to 3).\n",
    "## Inner loop: Items in that department (1 to 4).\n"
   ]
  },
  {
   "cell_type": "code",
   "execution_count": 3,
   "id": "c4b9664b-628a-4f90-83e7-8aa1af081905",
   "metadata": {},
   "outputs": [
    {
     "name": "stdin",
     "output_type": "stream",
     "text": [
      "Enter item apple\n",
      "Enter item price 100\n"
     ]
    },
    {
     "name": "stdout",
     "output_type": "stream",
     "text": [
      "Department 1 apple Price 100\n"
     ]
    },
    {
     "name": "stdin",
     "output_type": "stream",
     "text": [
      "Enter item mango\n",
      "Enter item price 80\n"
     ]
    },
    {
     "name": "stdout",
     "output_type": "stream",
     "text": [
      "Department 1 mango Price 80\n"
     ]
    },
    {
     "name": "stdin",
     "output_type": "stream",
     "text": [
      "Enter item sapota\n",
      "Enter item price 25\n"
     ]
    },
    {
     "name": "stdout",
     "output_type": "stream",
     "text": [
      "Department 1 sapota Price 25\n"
     ]
    },
    {
     "name": "stdin",
     "output_type": "stream",
     "text": [
      "Enter item pineapple\n",
      "Enter item price 70\n"
     ]
    },
    {
     "name": "stdout",
     "output_type": "stream",
     "text": [
      "Department 1 pineapple Price 70\n"
     ]
    },
    {
     "name": "stdin",
     "output_type": "stream",
     "text": [
      "Enter item beans\n",
      "Enter item price 30\n"
     ]
    },
    {
     "name": "stdout",
     "output_type": "stream",
     "text": [
      "Department 2 beans Price 30\n"
     ]
    },
    {
     "name": "stdin",
     "output_type": "stream",
     "text": [
      "Enter item potato\n",
      "Enter item price 40\n"
     ]
    },
    {
     "name": "stdout",
     "output_type": "stream",
     "text": [
      "Department 2 potato Price 40\n"
     ]
    },
    {
     "name": "stdin",
     "output_type": "stream",
     "text": [
      "Enter item tomato\n",
      "Enter item price 20\n"
     ]
    },
    {
     "name": "stdout",
     "output_type": "stream",
     "text": [
      "Department 2 tomato Price 20\n"
     ]
    },
    {
     "name": "stdin",
     "output_type": "stream",
     "text": [
      "Enter item chillies\n",
      "Enter item price 30\n"
     ]
    },
    {
     "name": "stdout",
     "output_type": "stream",
     "text": [
      "Department 2 chillies Price 30\n"
     ]
    },
    {
     "name": "stdin",
     "output_type": "stream",
     "text": [
      "Enter item milk\n",
      "Enter item price 10\n"
     ]
    },
    {
     "name": "stdout",
     "output_type": "stream",
     "text": [
      "Department 3 milk Price 10\n"
     ]
    },
    {
     "name": "stdin",
     "output_type": "stream",
     "text": [
      "Enter item panner\n",
      "Enter item price 200\n"
     ]
    },
    {
     "name": "stdout",
     "output_type": "stream",
     "text": [
      "Department 3 panner Price 200\n"
     ]
    },
    {
     "name": "stdin",
     "output_type": "stream",
     "text": [
      "Enter item ghee\n",
      "Enter item price 250\n"
     ]
    },
    {
     "name": "stdout",
     "output_type": "stream",
     "text": [
      "Department 3 ghee Price 250\n"
     ]
    },
    {
     "name": "stdin",
     "output_type": "stream",
     "text": [
      "Enter item oil\n",
      "Enter item price 250\n"
     ]
    },
    {
     "name": "stdout",
     "output_type": "stream",
     "text": [
      "Department 3 oil Price 250\n"
     ]
    }
   ],
   "source": [
    "for i in range(1,4):\n",
    "        for j in range(1,5):\n",
    "            item=input(\"Enter item\")\n",
    "            item_price=int(input(\"Enter item price\"))\n",
    "            print(\"Department\",i,item,\"Price\",item_price)"
   ]
  },
  {
   "cell_type": "markdown",
   "id": "1e59a894-22fd-41fe-a3b6-6228b0d34181",
   "metadata": {},
   "source": [
    "## 6. Hotel Room Availability\n",
    "## Scenario:\n",
    "## A hotel has 4 floors, and each floor has 6 rooms.\n",
    "## Write a program to list each room’s status like Floor 1 - Room 1: Available.\n",
    "## Hint:\n",
    "## Outer loop: Floors (1 to 4).\n",
    "## Inner loop: Rooms (1 to 6).\n",
    "\n",
    "\n"
   ]
  },
  {
   "cell_type": "code",
   "execution_count": 1,
   "id": "6928548c-e0bc-4b5f-a5df-c10a08a2fe3b",
   "metadata": {},
   "outputs": [
    {
     "name": "stdin",
     "output_type": "stream",
     "text": [
      "Enter room status avaliable\n"
     ]
    },
    {
     "name": "stdout",
     "output_type": "stream",
     "text": [
      "Floor 1 Room 1 avaliable\n"
     ]
    },
    {
     "name": "stdin",
     "output_type": "stream",
     "text": [
      "Enter room status available\n"
     ]
    },
    {
     "name": "stdout",
     "output_type": "stream",
     "text": [
      "Floor 1 Room 2 available\n"
     ]
    },
    {
     "name": "stdin",
     "output_type": "stream",
     "text": [
      "Enter room status avaliable\n"
     ]
    },
    {
     "name": "stdout",
     "output_type": "stream",
     "text": [
      "Floor 1 Room 3 avaliable\n"
     ]
    },
    {
     "name": "stdin",
     "output_type": "stream",
     "text": [
      "Enter room status not avaliable\n"
     ]
    },
    {
     "name": "stdout",
     "output_type": "stream",
     "text": [
      "Floor 1 Room 4 not avaliable\n"
     ]
    },
    {
     "name": "stdin",
     "output_type": "stream",
     "text": [
      "Enter room status not avaliable\n"
     ]
    },
    {
     "name": "stdout",
     "output_type": "stream",
     "text": [
      "Floor 1 Room 5 not avaliable\n"
     ]
    },
    {
     "name": "stdin",
     "output_type": "stream",
     "text": [
      "Enter room status avaliable\n"
     ]
    },
    {
     "name": "stdout",
     "output_type": "stream",
     "text": [
      "Floor 1 Room 6 avaliable\n"
     ]
    },
    {
     "name": "stdin",
     "output_type": "stream",
     "text": [
      "Enter room status avaliable\n"
     ]
    },
    {
     "name": "stdout",
     "output_type": "stream",
     "text": [
      "Floor 2 Room 1 avaliable\n"
     ]
    },
    {
     "name": "stdin",
     "output_type": "stream",
     "text": [
      "Enter room status avaliable\n"
     ]
    },
    {
     "name": "stdout",
     "output_type": "stream",
     "text": [
      "Floor 2 Room 2 avaliable\n"
     ]
    },
    {
     "name": "stdin",
     "output_type": "stream",
     "text": [
      "Enter room status avaliable\n"
     ]
    },
    {
     "name": "stdout",
     "output_type": "stream",
     "text": [
      "Floor 2 Room 3 avaliable\n"
     ]
    },
    {
     "name": "stdin",
     "output_type": "stream",
     "text": [
      "Enter room status avaliable\n"
     ]
    },
    {
     "name": "stdout",
     "output_type": "stream",
     "text": [
      "Floor 2 Room 4 avaliable\n"
     ]
    },
    {
     "name": "stdin",
     "output_type": "stream",
     "text": [
      "Enter room status not avaliable\n"
     ]
    },
    {
     "name": "stdout",
     "output_type": "stream",
     "text": [
      "Floor 2 Room 5 not avaliable\n"
     ]
    },
    {
     "name": "stdin",
     "output_type": "stream",
     "text": [
      "Enter room status avaliable\n"
     ]
    },
    {
     "name": "stdout",
     "output_type": "stream",
     "text": [
      "Floor 2 Room 6 avaliable\n"
     ]
    },
    {
     "name": "stdin",
     "output_type": "stream",
     "text": [
      "Enter room status avaliable\n"
     ]
    },
    {
     "name": "stdout",
     "output_type": "stream",
     "text": [
      "Floor 3 Room 1 avaliable\n"
     ]
    },
    {
     "name": "stdin",
     "output_type": "stream",
     "text": [
      "Enter room status avaliable\n"
     ]
    },
    {
     "name": "stdout",
     "output_type": "stream",
     "text": [
      "Floor 3 Room 2 avaliable\n"
     ]
    },
    {
     "name": "stdin",
     "output_type": "stream",
     "text": [
      "Enter room status not avaliable\n"
     ]
    },
    {
     "name": "stdout",
     "output_type": "stream",
     "text": [
      "Floor 3 Room 3 not avaliable\n"
     ]
    },
    {
     "name": "stdin",
     "output_type": "stream",
     "text": [
      "Enter room status not avaliable\n"
     ]
    },
    {
     "name": "stdout",
     "output_type": "stream",
     "text": [
      "Floor 3 Room 4 not avaliable\n"
     ]
    },
    {
     "name": "stdin",
     "output_type": "stream",
     "text": [
      "Enter room status avaliable\n"
     ]
    },
    {
     "name": "stdout",
     "output_type": "stream",
     "text": [
      "Floor 3 Room 5 avaliable\n"
     ]
    },
    {
     "name": "stdin",
     "output_type": "stream",
     "text": [
      "Enter room status avaliable\n"
     ]
    },
    {
     "name": "stdout",
     "output_type": "stream",
     "text": [
      "Floor 3 Room 6 avaliable\n"
     ]
    },
    {
     "name": "stdin",
     "output_type": "stream",
     "text": [
      "Enter room status avaliable\n"
     ]
    },
    {
     "name": "stdout",
     "output_type": "stream",
     "text": [
      "Floor 4 Room 1 avaliable\n"
     ]
    },
    {
     "name": "stdin",
     "output_type": "stream",
     "text": [
      "Enter room status not avaliable\n"
     ]
    },
    {
     "name": "stdout",
     "output_type": "stream",
     "text": [
      "Floor 4 Room 2 not avaliable\n"
     ]
    },
    {
     "name": "stdin",
     "output_type": "stream",
     "text": [
      "Enter room status avaliable\n"
     ]
    },
    {
     "name": "stdout",
     "output_type": "stream",
     "text": [
      "Floor 4 Room 3 avaliable\n"
     ]
    },
    {
     "name": "stdin",
     "output_type": "stream",
     "text": [
      "Enter room status avaliable\n"
     ]
    },
    {
     "name": "stdout",
     "output_type": "stream",
     "text": [
      "Floor 4 Room 4 avaliable\n"
     ]
    },
    {
     "name": "stdin",
     "output_type": "stream",
     "text": [
      "Enter room status avaliable\n"
     ]
    },
    {
     "name": "stdout",
     "output_type": "stream",
     "text": [
      "Floor 4 Room 5 avaliable\n"
     ]
    },
    {
     "name": "stdin",
     "output_type": "stream",
     "text": [
      "Enter room status avaliable\n"
     ]
    },
    {
     "name": "stdout",
     "output_type": "stream",
     "text": [
      "Floor 4 Room 6 avaliable\n"
     ]
    }
   ],
   "source": [
    "for i in range(1,5):\n",
    "    for j in range(1,7):\n",
    "        status=input(\"Enter room status\")\n",
    "        print(\"Floor\",i,\"Room\",j,status)"
   ]
  },
  {
   "cell_type": "markdown",
   "id": "8c4b9f1e-dab7-4d38-8d17-cad79e76ddb7",
   "metadata": {},
   "source": [
    "## 7. Flight Passenger List\n",
    "## Scenario:\n",
    "## An airline has 3 flights today.\n",
    "## Each flight has 5 passengers booked.\n",
    "## Write a program to display: Flight 1 → Passenger 1, and so on.\n",
    "## Hint:\n",
    "## Outer loop: Flights (1 to 3).\n",
    "## Inner loop: Passengers (1 to 5).\n"
   ]
  },
  {
   "cell_type": "code",
   "execution_count": 2,
   "id": "111ff49f-30ea-4276-aa6f-c58073252b7e",
   "metadata": {},
   "outputs": [
    {
     "name": "stdout",
     "output_type": "stream",
     "text": [
      "Flight 1 Passenger 1\n",
      "Flight 1 Passenger 2\n",
      "Flight 1 Passenger 3\n",
      "Flight 1 Passenger 4\n",
      "Flight 1 Passenger 5\n",
      "Flight 2 Passenger 1\n",
      "Flight 2 Passenger 2\n",
      "Flight 2 Passenger 3\n",
      "Flight 2 Passenger 4\n",
      "Flight 2 Passenger 5\n",
      "Flight 3 Passenger 1\n",
      "Flight 3 Passenger 2\n",
      "Flight 3 Passenger 3\n",
      "Flight 3 Passenger 4\n",
      "Flight 3 Passenger 5\n"
     ]
    }
   ],
   "source": [
    "for i in range(1,4):\n",
    "    for j in range(1,6):\n",
    "        print(\"Flight\",i,\"Passenger\",j)"
   ]
  },
  {
   "cell_type": "markdown",
   "id": "917b60ba-a407-4ad2-a52c-cc5306f006e8",
   "metadata": {},
   "source": [
    "## 8. School Timetable\n",
    "## Scenario:\n",
    "## Your school week has 5 days.\n",
    "## Each day has 6 periods.\n",
    "## Write a program to print the day number and the period number for all classes.\n",
    "## Hint:\n",
    "## Outer loop: Days (1 to 5).\n",
    "## Inner loop: Periods (1 to 6)."
   ]
  },
  {
   "cell_type": "code",
   "execution_count": 4,
   "id": "fc2a7698-8666-45ff-b0d0-9b38a117fdee",
   "metadata": {},
   "outputs": [
    {
     "name": "stdout",
     "output_type": "stream",
     "text": [
      "Day 1 Period Number 1\n",
      "Day 1 Period Number 2\n",
      "Day 1 Period Number 3\n",
      "Day 1 Period Number 4\n",
      "Day 1 Period Number 5\n",
      "Day 1 Period Number 6\n",
      "Day 2 Period Number 1\n",
      "Day 2 Period Number 2\n",
      "Day 2 Period Number 3\n",
      "Day 2 Period Number 4\n",
      "Day 2 Period Number 5\n",
      "Day 2 Period Number 6\n",
      "Day 3 Period Number 1\n",
      "Day 3 Period Number 2\n",
      "Day 3 Period Number 3\n",
      "Day 3 Period Number 4\n",
      "Day 3 Period Number 5\n",
      "Day 3 Period Number 6\n",
      "Day 4 Period Number 1\n",
      "Day 4 Period Number 2\n",
      "Day 4 Period Number 3\n",
      "Day 4 Period Number 4\n",
      "Day 4 Period Number 5\n",
      "Day 4 Period Number 6\n",
      "Day 5 Period Number 1\n",
      "Day 5 Period Number 2\n",
      "Day 5 Period Number 3\n",
      "Day 5 Period Number 4\n",
      "Day 5 Period Number 5\n",
      "Day 5 Period Number 6\n"
     ]
    }
   ],
   "source": [
    "for i in range(1,6):\n",
    "    for j in range(1,7):\n",
    "        print(\"Day\",i,\"Period Number\",j)"
   ]
  },
  {
   "cell_type": "markdown",
   "id": "f622aa1d-e549-4a65-8ba6-adc2389bfa95",
   "metadata": {},
   "source": [
    "## 9. Library Borrowed Books\n",
    "## Scenario:\n",
    "## A library has 4 members, and each member borrows 3 books.\n",
    "## Write a program to display each member’s borrowed book list.\n",
    "## Hint:\n",
    "## Outer loop: Members (1 to 4).\n",
    "## Inner loop: Books (1 to 3).\n",
    "\n",
    "\n"
   ]
  },
  {
   "cell_type": "code",
   "execution_count": 9,
   "id": "4e8afa96-6edd-4cf7-b280-8b3b0971e126",
   "metadata": {},
   "outputs": [
    {
     "name": "stdin",
     "output_type": "stream",
     "text": [
      "Enter book maths\n"
     ]
    },
    {
     "name": "stdout",
     "output_type": "stream",
     "text": [
      "Member 1 Book 1 maths\n"
     ]
    },
    {
     "name": "stdin",
     "output_type": "stream",
     "text": [
      "Enter book science\n"
     ]
    },
    {
     "name": "stdout",
     "output_type": "stream",
     "text": [
      "Member 1 Book 2 science\n"
     ]
    },
    {
     "name": "stdin",
     "output_type": "stream",
     "text": [
      "Enter book social\n"
     ]
    },
    {
     "name": "stdout",
     "output_type": "stream",
     "text": [
      "Member 1 Book 3 social\n"
     ]
    },
    {
     "name": "stdin",
     "output_type": "stream",
     "text": [
      "Enter book telugu\n"
     ]
    },
    {
     "name": "stdout",
     "output_type": "stream",
     "text": [
      "Member 2 Book 1 telugu\n"
     ]
    },
    {
     "name": "stdin",
     "output_type": "stream",
     "text": [
      "Enter book hindi\n"
     ]
    },
    {
     "name": "stdout",
     "output_type": "stream",
     "text": [
      "Member 2 Book 2 hindi\n"
     ]
    },
    {
     "name": "stdin",
     "output_type": "stream",
     "text": [
      "Enter book english\n"
     ]
    },
    {
     "name": "stdout",
     "output_type": "stream",
     "text": [
      "Member 2 Book 3 english\n"
     ]
    },
    {
     "name": "stdin",
     "output_type": "stream",
     "text": [
      "Enter book english\n"
     ]
    },
    {
     "name": "stdout",
     "output_type": "stream",
     "text": [
      "Member 3 Book 1 english\n"
     ]
    },
    {
     "name": "stdin",
     "output_type": "stream",
     "text": [
      "Enter book maths\n"
     ]
    },
    {
     "name": "stdout",
     "output_type": "stream",
     "text": [
      "Member 3 Book 2 maths\n"
     ]
    },
    {
     "name": "stdin",
     "output_type": "stream",
     "text": [
      "Enter book social\n"
     ]
    },
    {
     "name": "stdout",
     "output_type": "stream",
     "text": [
      "Member 3 Book 3 social\n"
     ]
    },
    {
     "name": "stdin",
     "output_type": "stream",
     "text": [
      "Enter book science\n"
     ]
    },
    {
     "name": "stdout",
     "output_type": "stream",
     "text": [
      "Member 4 Book 1 science\n"
     ]
    },
    {
     "name": "stdin",
     "output_type": "stream",
     "text": [
      "Enter book maths\n"
     ]
    },
    {
     "name": "stdout",
     "output_type": "stream",
     "text": [
      "Member 4 Book 2 maths\n"
     ]
    },
    {
     "name": "stdin",
     "output_type": "stream",
     "text": [
      "Enter book social\n"
     ]
    },
    {
     "name": "stdout",
     "output_type": "stream",
     "text": [
      "Member 4 Book 3 social\n"
     ]
    }
   ],
   "source": [
    "for i in range(1,5):\n",
    "    for j in range(1,4):\n",
    "        book=input(\"Enter book\")\n",
    "        print(\"Member\",i,\"Book\",j,book)"
   ]
  },
  {
   "cell_type": "markdown",
   "id": "7067dcd9-c8cf-42be-9872-55881aabcee7",
   "metadata": {},
   "source": [
    "## 10. Restaurant Menu Prices\n",
    "## Scenario:\n",
    "## A restaurant has 3 menus: Breakfast, Lunch, and Dinner.\n",
    "## Each menu has 5 items.\n",
    "## Write a program to display: Menu Name → Item Name → Price.\n",
    "## Hint:\n",
    "## Outer loop: Menus (1 to 3).\n",
    "## Inner loop: Items (1 to 5).\n"
   ]
  },
  {
   "cell_type": "code",
   "execution_count": 2,
   "id": "5043560a-3a8d-4a09-90dd-441c564a8200",
   "metadata": {},
   "outputs": [
    {
     "name": "stdin",
     "output_type": "stream",
     "text": [
      "Enter menu Breakfast\n",
      "Enter item Idly\n",
      "Enter Price 30\n"
     ]
    },
    {
     "name": "stdout",
     "output_type": "stream",
     "text": [
      "Breakfast Idly 30\n"
     ]
    },
    {
     "name": "stdin",
     "output_type": "stream",
     "text": [
      "Enter item Dosa\n",
      "Enter Price 40\n"
     ]
    },
    {
     "name": "stdout",
     "output_type": "stream",
     "text": [
      "Breakfast Dosa 40\n"
     ]
    },
    {
     "name": "stdin",
     "output_type": "stream",
     "text": [
      "Enter item Pesarattu\n",
      "Enter Price 50\n"
     ]
    },
    {
     "name": "stdout",
     "output_type": "stream",
     "text": [
      "Breakfast Pesarattu 50\n"
     ]
    },
    {
     "name": "stdin",
     "output_type": "stream",
     "text": [
      "Enter item Wada\n",
      "Enter Price 35\n"
     ]
    },
    {
     "name": "stdout",
     "output_type": "stream",
     "text": [
      "Breakfast Wada 35\n"
     ]
    },
    {
     "name": "stdin",
     "output_type": "stream",
     "text": [
      "Enter item Upma\n",
      "Enter Price 30\n"
     ]
    },
    {
     "name": "stdout",
     "output_type": "stream",
     "text": [
      "Breakfast Upma 30\n"
     ]
    },
    {
     "name": "stdin",
     "output_type": "stream",
     "text": [
      "Enter menu Lunch\n",
      "Enter item Brinjal\n",
      "Enter Price 40\n"
     ]
    },
    {
     "name": "stdout",
     "output_type": "stream",
     "text": [
      "Lunch Brinjal 40\n"
     ]
    },
    {
     "name": "stdin",
     "output_type": "stream",
     "text": [
      "Enter item Egg\n",
      "Enter Price 30\n"
     ]
    },
    {
     "name": "stdout",
     "output_type": "stream",
     "text": [
      "Lunch Egg 30\n"
     ]
    },
    {
     "name": "stdin",
     "output_type": "stream",
     "text": [
      "Enter item Chicken \n",
      "Enter Price 100\n"
     ]
    },
    {
     "name": "stdout",
     "output_type": "stream",
     "text": [
      "Lunch Chicken  100\n"
     ]
    },
    {
     "name": "stdin",
     "output_type": "stream",
     "text": [
      "Enter item panner\n",
      "Enter Price 150\n"
     ]
    },
    {
     "name": "stdout",
     "output_type": "stream",
     "text": [
      "Lunch panner 150\n"
     ]
    },
    {
     "name": "stdin",
     "output_type": "stream",
     "text": [
      "Enter item Beans\n",
      "Enter Price 35\n"
     ]
    },
    {
     "name": "stdout",
     "output_type": "stream",
     "text": [
      "Lunch Beans 35\n"
     ]
    },
    {
     "name": "stdin",
     "output_type": "stream",
     "text": [
      "Enter menu Dinner\n",
      "Enter item chapathi\n",
      "Enter Price 20\n"
     ]
    },
    {
     "name": "stdout",
     "output_type": "stream",
     "text": [
      "Dinner chapathi 20\n"
     ]
    },
    {
     "name": "stdin",
     "output_type": "stream",
     "text": [
      "Enter item Rumali roti\n",
      "Enter Price 15\n"
     ]
    },
    {
     "name": "stdout",
     "output_type": "stream",
     "text": [
      "Dinner Rumali roti 15\n"
     ]
    },
    {
     "name": "stdin",
     "output_type": "stream",
     "text": [
      "Enter item Milmaker\n",
      "Enter Price 20\n"
     ]
    },
    {
     "name": "stdout",
     "output_type": "stream",
     "text": [
      "Dinner Milmaker 20\n"
     ]
    },
    {
     "name": "stdin",
     "output_type": "stream",
     "text": [
      "Enter item Omlet\n",
      "Enter Price 15\n"
     ]
    },
    {
     "name": "stdout",
     "output_type": "stream",
     "text": [
      "Dinner Omlet 15\n"
     ]
    },
    {
     "name": "stdin",
     "output_type": "stream",
     "text": [
      "Enter item Mutton\n",
      "Enter Price 200\n"
     ]
    },
    {
     "name": "stdout",
     "output_type": "stream",
     "text": [
      "Dinner Mutton 200\n"
     ]
    }
   ],
   "source": [
    "for i in range(1,4):\n",
    "    name1=input(\"Enter menu\")\n",
    "    for j in range(1,6):\n",
    "        item1=input(\"Enter item\")\n",
    "       \n",
    "        price1=int(input(\"Enter Price\"))\n",
    "        \n",
    "        print(name1,item1,price1)\n",
    "        "
   ]
  },
  {
   "cell_type": "code",
   "execution_count": null,
   "id": "cc8d6c4e-e5d4-4fd8-bf4b-8624c5845337",
   "metadata": {},
   "outputs": [],
   "source": []
  }
 ],
 "metadata": {
  "kernelspec": {
   "display_name": "Python 3 (ipykernel)",
   "language": "python",
   "name": "python3"
  },
  "language_info": {
   "codemirror_mode": {
    "name": "ipython",
    "version": 3
   },
   "file_extension": ".py",
   "mimetype": "text/x-python",
   "name": "python",
   "nbconvert_exporter": "python",
   "pygments_lexer": "ipython3",
   "version": "3.13.5"
  }
 },
 "nbformat": 4,
 "nbformat_minor": 5
}
