{
 "cells": [
  {
   "cell_type": "markdown",
   "id": "8c68846a-f0a9-44a9-9f86-9120294fbb77",
   "metadata": {},
   "source": [
    "## 1. What is the result when you add an int and a float?\n"
   ]
  },
  {
   "cell_type": "code",
   "execution_count": 1,
   "id": "e23767ce-95d2-46a8-8265-e2986f422c43",
   "metadata": {},
   "outputs": [
    {
     "data": {
      "text/plain": [
       "11.0"
      ]
     },
     "execution_count": 1,
     "metadata": {},
     "output_type": "execute_result"
    }
   ],
   "source": [
    "a=5\n",
    "b=6.0\n",
    "a+b"
   ]
  },
  {
   "cell_type": "markdown",
   "id": "17516118-aedd-4ab5-acba-f1bac4831b34",
   "metadata": {},
   "source": [
    "#### Result is 11.0, It is float "
   ]
  },
  {
   "cell_type": "markdown",
   "id": "6dc3b9f0-dcdd-4aae-8395-dad7af114509",
   "metadata": {},
   "source": [
    "## 2. If you multiply True with an int, what is the output?"
   ]
  },
  {
   "cell_type": "code",
   "execution_count": 2,
   "id": "200aec4b-fc38-44da-8bbb-f8c17e2a82f7",
   "metadata": {},
   "outputs": [
    {
     "data": {
      "text/plain": [
       "5"
      ]
     },
     "execution_count": 2,
     "metadata": {},
     "output_type": "execute_result"
    }
   ],
   "source": [
    "True*5"
   ]
  },
  {
   "cell_type": "markdown",
   "id": "cac06b3e-289d-4dcf-bacd-4df00be1fee9",
   "metadata": {},
   "source": [
    "#### Output is 5 It is Integer, because True is 1 in python so 1 multiplied by 5 we get 5"
   ]
  },
  {
   "cell_type": "markdown",
   "id": "c3cdd19a-6677-4ae1-8525-972f01ed740e",
   "metadata": {},
   "source": [
    "## 3. What type of value results from dividing two integers using /?"
   ]
  },
  {
   "cell_type": "code",
   "execution_count": 3,
   "id": "745d473d-d36a-48a4-b146-d0f8ac9c9ec2",
   "metadata": {},
   "outputs": [
    {
     "data": {
      "text/plain": [
       "2.0"
      ]
     },
     "execution_count": 3,
     "metadata": {},
     "output_type": "execute_result"
    }
   ],
   "source": [
    "8/4"
   ]
  },
  {
   "cell_type": "markdown",
   "id": "e9be75c1-495f-45d0-911c-b0fbfe6d2743",
   "metadata": {},
   "source": [
    "#### Type of value result is Float, it gives exact value."
   ]
  },
  {
   "cell_type": "markdown",
   "id": "564cc19a-003c-40d0-9ae9-5ec55989af69",
   "metadata": {},
   "source": [
    "## 4. Is 0.1 + 0.2 == 0.3 in Python? Why or why not?"
   ]
  },
  {
   "cell_type": "code",
   "execution_count": 7,
   "id": "ec46b841-db58-44fe-880e-e5430723f291",
   "metadata": {},
   "outputs": [
    {
     "data": {
      "text/plain": [
       "False"
      ]
     },
     "execution_count": 7,
     "metadata": {},
     "output_type": "execute_result"
    }
   ],
   "source": [
    "0.1+0.2==0.3"
   ]
  },
  {
   "cell_type": "markdown",
   "id": "58a3329f-ba8d-471a-8808-b1787917cf15",
   "metadata": {},
   "source": [
    "#### In python the values taken in binary numbers. So Output is False."
   ]
  },
  {
   "cell_type": "code",
   "execution_count": 12,
   "id": "cc624d36-9d2e-4b1c-81f6-e7a9794984ea",
   "metadata": {},
   "outputs": [
    {
     "data": {
      "text/plain": [
       "0.30000000000000004"
      ]
     },
     "execution_count": 12,
     "metadata": {},
     "output_type": "execute_result"
    }
   ],
   "source": [
    "0.1+0.2"
   ]
  },
  {
   "cell_type": "markdown",
   "id": "16f45a62-9f18-4f9c-a2ad-32d13feab4f5",
   "metadata": {},
   "source": [
    "## 5. What is the boolean value of a 0.0 float?"
   ]
  },
  {
   "cell_type": "markdown",
   "id": "e65781df-f650-4914-96ad-c9a5db781414",
   "metadata": {},
   "source": [
    "#### In python boolean value of 0.0 is float"
   ]
  },
  {
   "cell_type": "markdown",
   "id": "de733b44-378a-4441-a1eb-6b4c17e59ac7",
   "metadata": {},
   "source": [
    "## 6. What happens when you subtract two complex numbers?"
   ]
  },
  {
   "cell_type": "code",
   "execution_count": 14,
   "id": "6ddb4da2-1519-4b0e-8ca9-e9e6b97883d0",
   "metadata": {},
   "outputs": [
    {
     "data": {
      "text/plain": [
       "(1+1j)"
      ]
     },
     "execution_count": 14,
     "metadata": {},
     "output_type": "execute_result"
    }
   ],
   "source": [
    "a=3+3j\n",
    "b=2+2j\n",
    "a-b"
   ]
  },
  {
   "cell_type": "markdown",
   "id": "3c721141-c468-4b7e-80da-560cf4dc6678",
   "metadata": {},
   "source": [
    "#### It subtracts b from a we get 1+1j"
   ]
  },
  {
   "cell_type": "markdown",
   "id": "8853d11c-5257-4970-a28a-c9272cb00269",
   "metadata": {},
   "source": [
    "## 7. What is the output of 3 // 2 * 2 == 2? Explain why."
   ]
  },
  {
   "cell_type": "code",
   "execution_count": 15,
   "id": "22bef933-80a7-4695-89f3-9144b06427fb",
   "metadata": {},
   "outputs": [
    {
     "data": {
      "text/plain": [
       "True"
      ]
     },
     "execution_count": 15,
     "metadata": {},
     "output_type": "execute_result"
    }
   ],
   "source": [
    "3 // 2 * 2 == 2"
   ]
  },
  {
   "cell_type": "markdown",
   "id": "a2fff697-6820-4674-9da5-fbefb3807d2d",
   "metadata": {},
   "source": [
    "#### Because first it performs floor divison we get 1 then it is multiplied by 2 so answer is 2. Both are equal."
   ]
  },
  {
   "cell_type": "markdown",
   "id": "d53eda16-8f97-43d1-8df0-f6622be625f1",
   "metadata": {},
   "source": [
    "## 8. If True + True + False is evaluated, what’s the result?\n"
   ]
  },
  {
   "cell_type": "code",
   "execution_count": 18,
   "id": "5bfa600b-f2f9-4fb5-a126-db4ec1a4c169",
   "metadata": {},
   "outputs": [
    {
     "data": {
      "text/plain": [
       "2"
      ]
     },
     "execution_count": 18,
     "metadata": {},
     "output_type": "execute_result"
    }
   ],
   "source": [
    "True + True + False"
   ]
  },
  {
   "cell_type": "markdown",
   "id": "9a5fe7bb-79c2-4573-af00-520b8d975108",
   "metadata": {},
   "source": [
    "#### Result is 2. Because in python True is taken as 1 and False taken as 0. So 1+1+0 is 2"
   ]
  },
  {
   "cell_type": "markdown",
   "id": "39b69d6b-f118-4a1c-b6a3-2162c0a2205b",
   "metadata": {},
   "source": [
    "## 9. Does 3 + 4j == 3 + 4.0j evaluate to True or False?"
   ]
  },
  {
   "cell_type": "code",
   "execution_count": 19,
   "id": "8995e94f-9a28-4272-93b8-ce57cfe6c3ed",
   "metadata": {},
   "outputs": [
    {
     "data": {
      "text/plain": [
       "True"
      ]
     },
     "execution_count": 19,
     "metadata": {},
     "output_type": "execute_result"
    }
   ],
   "source": [
    "3 + 4j == 3 + 4.0j"
   ]
  },
  {
   "cell_type": "markdown",
   "id": "71012474-1c6f-4178-bf12-c90ba8f33676",
   "metadata": {},
   "source": [
    "#### Output is True"
   ]
  },
  {
   "cell_type": "markdown",
   "id": "fb04bead-4767-428f-b908-ec5811ef348e",
   "metadata": {},
   "source": [
    "## 10. What is the result when a complex number is multiplied by a real number?"
   ]
  },
  {
   "cell_type": "code",
   "execution_count": 20,
   "id": "cade57ac-c3b1-4af8-8602-6b0e7d2bc551",
   "metadata": {},
   "outputs": [
    {
     "data": {
      "text/plain": [
       "(6+6j)"
      ]
     },
     "execution_count": 20,
     "metadata": {},
     "output_type": "execute_result"
    }
   ],
   "source": [
    "a=3+3j\n",
    "b=2\n",
    "a*b"
   ]
  },
  {
   "cell_type": "markdown",
   "id": "dd880b1d-a70f-4b39-a108-54026e4a04cd",
   "metadata": {},
   "source": [
    "#### Output is in complex number. We got 6+6j"
   ]
  },
  {
   "cell_type": "markdown",
   "id": "9b6b9907-2918-4ef2-a15e-2f77517c2a11",
   "metadata": {},
   "source": [
    "## 11. Can a comparison between an int and a bool return True? Give an example.\n"
   ]
  },
  {
   "cell_type": "code",
   "execution_count": 21,
   "id": "2485a2ac-ed2b-444e-9158-a60f4e07894f",
   "metadata": {},
   "outputs": [
    {
     "name": "stdout",
     "output_type": "stream",
     "text": [
      "True\n",
      "True\n"
     ]
    }
   ],
   "source": [
    "print(1==True)\n",
    "print(0==False)"
   ]
  },
  {
   "cell_type": "markdown",
   "id": "8be358eb-0ed8-40f1-8023-6dbf7b1054c7",
   "metadata": {},
   "source": [
    "#### Yes. Because in python True is taken as 1 and False is taken as 0. When we compare 1==True we get True and 0==False we get True"
   ]
  },
  {
   "cell_type": "markdown",
   "id": "a636acdd-2b2e-41a8-960a-91ede48c0fb0",
   "metadata": {},
   "source": [
    "## 12. What happens when you multiply a bool with a float?"
   ]
  },
  {
   "cell_type": "code",
   "execution_count": 22,
   "id": "f960ef38-b92c-4c5d-930e-c140caf65519",
   "metadata": {},
   "outputs": [
    {
     "data": {
      "text/plain": [
       "4.0"
      ]
     },
     "execution_count": 22,
     "metadata": {},
     "output_type": "execute_result"
    }
   ],
   "source": [
    "a=True\n",
    "b=4.0\n",
    "a*b"
   ]
  },
  {
   "cell_type": "markdown",
   "id": "4550501f-67a9-4fea-80d3-85f9eb81de66",
   "metadata": {},
   "source": [
    "#### We get float value because True is considered as 1 in python"
   ]
  },
  {
   "cell_type": "markdown",
   "id": "778dcc44-a79c-41ea-90bf-b7fa87369783",
   "metadata": {},
   "source": [
    "## 13. What type is returned when you add a complex and a float?\n"
   ]
  },
  {
   "cell_type": "code",
   "execution_count": 23,
   "id": "d28cc727-e048-464f-8176-923c02023475",
   "metadata": {},
   "outputs": [
    {
     "data": {
      "text/plain": [
       "(8+2j)"
      ]
     },
     "execution_count": 23,
     "metadata": {},
     "output_type": "execute_result"
    }
   ],
   "source": [
    "a=3+2j\n",
    "b=5.0\n",
    "a+b"
   ]
  },
  {
   "cell_type": "markdown",
   "id": "c2be9877-5a54-40cb-9090-0aecd7168c7e",
   "metadata": {},
   "source": [
    "#### we get complex value"
   ]
  },
  {
   "cell_type": "markdown",
   "id": "2cacb1c6-7f2a-48d4-89c6-a7a0475eda64",
   "metadata": {},
   "source": [
    "## 14. Does 3 + 4.0 == 7 evaluate to True? Why?\n"
   ]
  },
  {
   "cell_type": "code",
   "execution_count": 24,
   "id": "e5edf862-7b37-418c-9b9a-115376db2aaf",
   "metadata": {},
   "outputs": [
    {
     "data": {
      "text/plain": [
       "True"
      ]
     },
     "execution_count": 24,
     "metadata": {},
     "output_type": "execute_result"
    }
   ],
   "source": [
    "3 + 4.0 == 7 \n"
   ]
  },
  {
   "cell_type": "markdown",
   "id": "24b98510-f712-4dc1-a833-68d3dc23856f",
   "metadata": {},
   "source": [
    "#### It compares values values 3+4.0=7.0 and 7 (int)converted(type conversion) to float this is done by python. So both are equal result is True"
   ]
  },
  {
   "cell_type": "markdown",
   "id": "1f037b01-6a09-4803-9f5d-47039e045e63",
   "metadata": {},
   "source": [
    "## 15. Will (5 // 2) * 2 == 4 evaluate to True or False?\n"
   ]
  },
  {
   "cell_type": "code",
   "execution_count": 27,
   "id": "f9559fcb-791a-4801-9ccd-a401c55dbb16",
   "metadata": {},
   "outputs": [
    {
     "data": {
      "text/plain": [
       "True"
      ]
     },
     "execution_count": 27,
     "metadata": {},
     "output_type": "execute_result"
    }
   ],
   "source": [
    "(5 // 2) * 2 == 4 "
   ]
  },
  {
   "cell_type": "markdown",
   "id": "c7600bcf-6e81-45f7-a3c8-cc1c341a45cb",
   "metadata": {},
   "source": [
    "#### True 5//2 is 2 then 2 is multiplied by 2 it gives 4. So both are equal, result is True"
   ]
  },
  {
   "cell_type": "markdown",
   "id": "fa109caa-a3d4-46ac-ba53-ef5980748ca7",
   "metadata": {},
   "source": [
    "## 16. What does True and False or True evaluate to?\n"
   ]
  },
  {
   "cell_type": "code",
   "execution_count": 28,
   "id": "7374bb6b-567b-415d-8cc6-40d20fc134e5",
   "metadata": {},
   "outputs": [
    {
     "data": {
      "text/plain": [
       "True"
      ]
     },
     "execution_count": 28,
     "metadata": {},
     "output_type": "execute_result"
    }
   ],
   "source": [
    "True and False or True"
   ]
  },
  {
   "cell_type": "markdown",
   "id": "efccfa35-1b59-4e60-ab9b-087dbc4c1824",
   "metadata": {},
   "source": [
    "#### Output is True"
   ]
  },
  {
   "cell_type": "markdown",
   "id": "c6bde1d6-af00-4edb-909d-2873b18f155e",
   "metadata": {},
   "source": [
    "## 17. Can a complex number be used in a comparison using > or <?\n"
   ]
  },
  {
   "cell_type": "code",
   "execution_count": 29,
   "id": "219fd2d6-b916-46be-9813-d53bf9a884c8",
   "metadata": {},
   "outputs": [
    {
     "ename": "TypeError",
     "evalue": "'>' not supported between instances of 'complex' and 'complex'",
     "output_type": "error",
     "traceback": [
      "\u001b[1;31m---------------------------------------------------------------------------\u001b[0m",
      "\u001b[1;31mTypeError\u001b[0m                                 Traceback (most recent call last)",
      "Cell \u001b[1;32mIn[29], line 1\u001b[0m\n\u001b[1;32m----> 1\u001b[0m \u001b[38;5;241m3\u001b[39m\u001b[38;5;241m+\u001b[39m\u001b[38;5;241m3\u001b[39mj\u001b[38;5;241m>\u001b[39m\u001b[38;5;241m2\u001b[39m\u001b[38;5;241m+\u001b[39m\u001b[38;5;241m2\u001b[39mj\n",
      "\u001b[1;31mTypeError\u001b[0m: '>' not supported between instances of 'complex' and 'complex'"
     ]
    }
   ],
   "source": [
    "3+3j>2+2j"
   ]
  },
  {
   "cell_type": "code",
   "execution_count": 30,
   "id": "3eca0813-9232-4f4a-a489-d42c814a8d77",
   "metadata": {},
   "outputs": [
    {
     "ename": "TypeError",
     "evalue": "'<' not supported between instances of 'complex' and 'complex'",
     "output_type": "error",
     "traceback": [
      "\u001b[1;31m---------------------------------------------------------------------------\u001b[0m",
      "\u001b[1;31mTypeError\u001b[0m                                 Traceback (most recent call last)",
      "Cell \u001b[1;32mIn[30], line 1\u001b[0m\n\u001b[1;32m----> 1\u001b[0m \u001b[38;5;241m3\u001b[39m\u001b[38;5;241m+\u001b[39m\u001b[38;5;241m3\u001b[39mj\u001b[38;5;241m<\u001b[39m\u001b[38;5;241m2\u001b[39m\u001b[38;5;241m+\u001b[39m\u001b[38;5;241m2\u001b[39mj\n",
      "\u001b[1;31mTypeError\u001b[0m: '<' not supported between instances of 'complex' and 'complex'"
     ]
    }
   ],
   "source": [
    "3+3j<2+2j"
   ]
  },
  {
   "cell_type": "markdown",
   "id": "6f8cdc29-ebd4-443c-a56e-c2f96e5a4159",
   "metadata": {},
   "source": [
    "#### No. Comparison operator is not supported between complex and complex"
   ]
  },
  {
   "cell_type": "markdown",
   "id": "7688aa6e-5ab9-4d57-9e1d-9feaaba17633",
   "metadata": {},
   "source": [
    "## 18. Is 0 + 0j considered False in a boolean context?\n"
   ]
  },
  {
   "cell_type": "markdown",
   "id": "69edb3ff-1e59-45d3-a3d0-f58618bef3ee",
   "metadata": {},
   "source": [
    "#### Yes. 0+0j considered False in a boolean context"
   ]
  },
  {
   "cell_type": "markdown",
   "id": "09be4966-45de-400d-9f4e-ff99174d970a",
   "metadata": {},
   "source": [
    "## 19. What will (3 + 4.0) > 6 and (3 + 4.0) < 8 evaluate to?\n"
   ]
  },
  {
   "cell_type": "code",
   "execution_count": 33,
   "id": "6d7da900-1968-4f71-999c-0a8883ff6e22",
   "metadata": {},
   "outputs": [
    {
     "data": {
      "text/plain": [
       "True"
      ]
     },
     "execution_count": 33,
     "metadata": {},
     "output_type": "execute_result"
    }
   ],
   "source": [
    "(3 + 4.0) > 6 and (3 + 4.0) < 8"
   ]
  },
  {
   "cell_type": "markdown",
   "id": "cdf81961-e0ca-4e86-8b56-e86b6ff449c2",
   "metadata": {},
   "source": [
    "#### Output is True"
   ]
  },
  {
   "cell_type": "markdown",
   "id": "4504b330-7b32-4c37-b6c8-b1027a3793c8",
   "metadata": {},
   "source": [
    "## 20. When 10 / 2 * 2 is evaluated, is the result exactly 10.0?"
   ]
  },
  {
   "cell_type": "code",
   "execution_count": 34,
   "id": "54d91fdf-7294-4841-917f-b042d3ab7536",
   "metadata": {},
   "outputs": [
    {
     "data": {
      "text/plain": [
       "10.0"
      ]
     },
     "execution_count": 34,
     "metadata": {},
     "output_type": "execute_result"
    }
   ],
   "source": [
    "10 / 2 * 2 "
   ]
  },
  {
   "cell_type": "markdown",
   "id": "94816428-76fc-4c04-a8ab-4a264e209da8",
   "metadata": {},
   "source": [
    "#### Yes result is exactly 10.0"
   ]
  },
  {
   "cell_type": "markdown",
   "id": "440de468-a22d-4bbb-866c-0462dbcaa433",
   "metadata": {},
   "source": [
    "## 21. What is the output type of True + 4.5 in Python?\n"
   ]
  },
  {
   "cell_type": "code",
   "execution_count": 35,
   "id": "9f088436-adc9-4161-855a-601ec74b1376",
   "metadata": {},
   "outputs": [
    {
     "data": {
      "text/plain": [
       "5.5"
      ]
     },
     "execution_count": 35,
     "metadata": {},
     "output_type": "execute_result"
    }
   ],
   "source": [
    "True+4.5"
   ]
  },
  {
   "cell_type": "markdown",
   "id": "9cbda327-0b3e-465e-8927-181154287145",
   "metadata": {},
   "source": [
    "#### Ouput is 5.5 because True is 1 in python so 1+4.5 is 5.5"
   ]
  },
  {
   "cell_type": "markdown",
   "id": "59f0f16b-0a7e-490f-9735-f2955e01a818",
   "metadata": {},
   "source": [
    "## 22. If you evaluate 3 + 2j - 2j, what type and value do you get?\n"
   ]
  },
  {
   "cell_type": "code",
   "execution_count": 36,
   "id": "2ca0e7bd-cc6a-4da8-9d1b-4fd7f3bda61a",
   "metadata": {},
   "outputs": [
    {
     "data": {
      "text/plain": [
       "(3+0j)"
      ]
     },
     "execution_count": 36,
     "metadata": {},
     "output_type": "execute_result"
    }
   ],
   "source": [
    " 3 + 2j - 2j"
   ]
  },
  {
   "cell_type": "markdown",
   "id": "2eea76c8-a848-4f87-a476-4e31b9a5b25b",
   "metadata": {},
   "source": [
    "#### Value is 3+0j type is complex"
   ]
  },
  {
   "cell_type": "markdown",
   "id": "921432ab-7422-4e58-907f-01f366371ecf",
   "metadata": {},
   "source": [
    "## 23. Does 10 / 3 * 3 == 10 always return True in Python? Why or why not?"
   ]
  },
  {
   "cell_type": "code",
   "execution_count": 37,
   "id": "f72c267b-e4fe-4aae-b579-1431de2ec2e7",
   "metadata": {},
   "outputs": [
    {
     "data": {
      "text/plain": [
       "True"
      ]
     },
     "execution_count": 37,
     "metadata": {},
     "output_type": "execute_result"
    }
   ],
   "source": [
    "10 / 3 * 3 == 10"
   ]
  },
  {
   "cell_type": "markdown",
   "id": "0439f8cc-b791-4479-a3ed-5d842faf4b1b",
   "metadata": {},
   "source": [
    "#### Because python converts 10.0 to 10( type conversion)"
   ]
  },
  {
   "cell_type": "markdown",
   "id": "cd7f64d8-f9fe-4b73-800a-b3c5ed7eb27e",
   "metadata": {},
   "source": [
    "## 24. What will be the result of multiplying False with any number?"
   ]
  },
  {
   "cell_type": "code",
   "execution_count": 44,
   "id": "b86271be-d1d1-4262-86f7-2d9cae45d868",
   "metadata": {},
   "outputs": [
    {
     "data": {
      "text/plain": [
       "0"
      ]
     },
     "execution_count": 44,
     "metadata": {},
     "output_type": "execute_result"
    }
   ],
   "source": [
    "False*9"
   ]
  },
  {
   "cell_type": "markdown",
   "id": "a9dbf0da-16f4-493c-929c-b11bf24fdf40",
   "metadata": {},
   "source": [
    "#### Result is 0"
   ]
  },
  {
   "cell_type": "markdown",
   "id": "a125450f-6f42-4600-856b-17dd874e9b61",
   "metadata": {},
   "source": [
    "## 25. Can the expression 3 + 4j == 3.0 + 4j return True?\n"
   ]
  },
  {
   "cell_type": "code",
   "execution_count": 43,
   "id": "4f8167b9-5207-4021-a993-00e5112a78ed",
   "metadata": {},
   "outputs": [
    {
     "data": {
      "text/plain": [
       "True"
      ]
     },
     "execution_count": 43,
     "metadata": {},
     "output_type": "execute_result"
    }
   ],
   "source": [
    "3 + 4j == 3.0 + 4j"
   ]
  },
  {
   "cell_type": "markdown",
   "id": "f92ce69e-4e0d-4c07-b1c4-e0978bc71c08",
   "metadata": {},
   "source": [
    "#### Yes It returns True"
   ]
  },
  {
   "cell_type": "code",
   "execution_count": null,
   "id": "d7d146ef-9354-430e-8b7e-b14a42e1a75d",
   "metadata": {},
   "outputs": [],
   "source": []
  }
 ],
 "metadata": {
  "kernelspec": {
   "display_name": "Python 3 (ipykernel)",
   "language": "python",
   "name": "python3"
  },
  "language_info": {
   "codemirror_mode": {
    "name": "ipython",
    "version": 3
   },
   "file_extension": ".py",
   "mimetype": "text/x-python",
   "name": "python",
   "nbconvert_exporter": "python",
   "pygments_lexer": "ipython3",
   "version": "3.13.5"
  }
 },
 "nbformat": 4,
 "nbformat_minor": 5
}
