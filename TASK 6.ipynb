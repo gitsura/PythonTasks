{
 "cells": [
  {
   "cell_type": "markdown",
   "id": "612b03c6-0795-40a2-bdce-6db318d50975",
   "metadata": {},
   "source": [
    "## Q1. Multiline Character Discovery\n",
    "## s = \"\"\"Hello\n",
    "## World\n",
    "## \"\"\"\n",
    "## Find the characters at index positions: 5, 6, 11, and -1.\n",
    "## What characters do you expect at these positions?\n"
   ]
  },
  {
   "cell_type": "code",
   "execution_count": 18,
   "id": "d9dee840-7676-4673-9315-9bca8b60b124",
   "metadata": {},
   "outputs": [],
   "source": [
    "s = \"\"\"Hello\n",
    "World\n",
    "\"\"\""
   ]
  },
  {
   "cell_type": "code",
   "execution_count": 19,
   "id": "f964dc12-d649-418a-8d61-66bf927b9d55",
   "metadata": {},
   "outputs": [
    {
     "data": {
      "text/plain": [
       "'\\n'"
      ]
     },
     "execution_count": 19,
     "metadata": {},
     "output_type": "execute_result"
    }
   ],
   "source": [
    "s[5]"
   ]
  },
  {
   "cell_type": "code",
   "execution_count": 20,
   "id": "3fca3007-642a-4dab-a2ba-71063634a3f6",
   "metadata": {},
   "outputs": [
    {
     "data": {
      "text/plain": [
       "'W'"
      ]
     },
     "execution_count": 20,
     "metadata": {},
     "output_type": "execute_result"
    }
   ],
   "source": [
    "s[6]"
   ]
  },
  {
   "cell_type": "code",
   "execution_count": 21,
   "id": "5701a098-9a94-4ca9-9fe5-6d5aad029c09",
   "metadata": {},
   "outputs": [
    {
     "data": {
      "text/plain": [
       "'\\n'"
      ]
     },
     "execution_count": 21,
     "metadata": {},
     "output_type": "execute_result"
    }
   ],
   "source": [
    "s[11]"
   ]
  },
  {
   "cell_type": "code",
   "execution_count": 22,
   "id": "1b0866fd-7fc6-4339-8af7-19e872752db7",
   "metadata": {},
   "outputs": [
    {
     "data": {
      "text/plain": [
       "'\\n'"
      ]
     },
     "execution_count": 22,
     "metadata": {},
     "output_type": "execute_result"
    }
   ],
   "source": [
    "s[-1]"
   ]
  },
  {
   "cell_type": "markdown",
   "id": "3cc42263-481c-46c1-96fd-6bdf88838df0",
   "metadata": {},
   "source": [
    "## Q2. Multiline Full Reverse\n",
    "## s = \"\"\"Data\n",
    "## Science\n",
    "## Rocks\"\"\"\n",
    "## Write a single slice that prints the entire string in reverse.\n",
    "## Predict how newlines will appear.\n"
   ]
  },
  {
   "cell_type": "markdown",
   "id": "3a85f073-d26b-4f42-8c9d-2ac42be8c824",
   "metadata": {},
   "source": [
    "#### New lines will appear as \\n"
   ]
  },
  {
   "cell_type": "code",
   "execution_count": 76,
   "id": "74c7f44c-3d43-4cf0-ae80-a425e9e1fae8",
   "metadata": {},
   "outputs": [],
   "source": [
    "s = \"\"\"Data\n",
    "Science\n",
    "Rocks\"\"\""
   ]
  },
  {
   "cell_type": "code",
   "execution_count": 77,
   "id": "89216ecc-dca7-4b37-835d-9a851ee5d6b5",
   "metadata": {},
   "outputs": [
    {
     "name": "stdout",
     "output_type": "stream",
     "text": [
      "skcoR\n",
      "ecneicS\n",
      "ataD\n"
     ]
    }
   ],
   "source": [
    "print(s[: :-1])"
   ]
  },
  {
   "cell_type": "markdown",
   "id": "a813de92-9699-4996-8cfc-904f2fd6213d",
   "metadata": {},
   "source": [
    "#### Prints rocks in reverse order then in new line it prints science in reverse order then in new line it prints  data in reverse order"
   ]
  },
  {
   "cell_type": "markdown",
   "id": "347c8764-756b-43d9-bfbe-095333bfe4db",
   "metadata": {},
   "source": [
    "## Q3. Multiline Length Challenge\n",
    "## s = \"\"\"AI\n",
    "## is\n",
    "## fun\"\"\"\n",
    "## How many total characters does the string have?\n",
    "## Then:\n",
    "## What will s[2] be?\n",
    "## What about s[-1] and s[5]?\n"
   ]
  },
  {
   "cell_type": "code",
   "execution_count": 31,
   "id": "1ef24cfa-30ed-4b53-9b1a-f39918edc030",
   "metadata": {},
   "outputs": [],
   "source": [
    "s = \"\"\"AI\n",
    "is\n",
    "fun\"\"\""
   ]
  },
  {
   "cell_type": "code",
   "execution_count": 32,
   "id": "1bedaec5-9a02-4aed-b15f-1623d0106a50",
   "metadata": {},
   "outputs": [
    {
     "data": {
      "text/plain": [
       "9"
      ]
     },
     "execution_count": 32,
     "metadata": {},
     "output_type": "execute_result"
    }
   ],
   "source": [
    "len(s)"
   ]
  },
  {
   "cell_type": "code",
   "execution_count": 33,
   "id": "a5fd4069-98fc-4d10-ba1f-665cb287e2e1",
   "metadata": {},
   "outputs": [
    {
     "data": {
      "text/plain": [
       "'\\n'"
      ]
     },
     "execution_count": 33,
     "metadata": {},
     "output_type": "execute_result"
    }
   ],
   "source": [
    "s[2]"
   ]
  },
  {
   "cell_type": "code",
   "execution_count": 35,
   "id": "bb486cfe-5574-4819-b1fd-72b36a4414c4",
   "metadata": {},
   "outputs": [
    {
     "data": {
      "text/plain": [
       "'n'"
      ]
     },
     "execution_count": 35,
     "metadata": {},
     "output_type": "execute_result"
    }
   ],
   "source": [
    "s[-1]"
   ]
  },
  {
   "cell_type": "code",
   "execution_count": 34,
   "id": "f813970a-5dd2-46e1-8495-56d8c246f443",
   "metadata": {},
   "outputs": [
    {
     "data": {
      "text/plain": [
       "'\\n'"
      ]
     },
     "execution_count": 34,
     "metadata": {},
     "output_type": "execute_result"
    }
   ],
   "source": [
    "s[5]"
   ]
  },
  {
   "cell_type": "markdown",
   "id": "2e184676-f447-44da-9620-2421c273990f",
   "metadata": {},
   "source": [
    "## Q4. Reverse Part of Word\n",
    "## s = \"revolutionary\"\n",
    "## Write a slicing expression that gives 'tion' in reverse order.\n",
    "## Use only slicing (not indexing one-by-one).\n"
   ]
  },
  {
   "cell_type": "code",
   "execution_count": 39,
   "id": "932901ea-4242-4187-bfdd-ac73e0373476",
   "metadata": {},
   "outputs": [],
   "source": [
    "s = \"revolutionary\""
   ]
  },
  {
   "cell_type": "code",
   "execution_count": 52,
   "id": "8e1e7848-11d8-43ad-b053-5e5ed058a10b",
   "metadata": {},
   "outputs": [
    {
     "data": {
      "text/plain": [
       "'noit'"
      ]
     },
     "execution_count": 52,
     "metadata": {},
     "output_type": "execute_result"
    }
   ],
   "source": [
    "s[9:5:-1]"
   ]
  },
  {
   "cell_type": "markdown",
   "id": "da5fb097-c030-4d04-a855-0d9fde1e9c31",
   "metadata": {},
   "source": [
    "## Q5. Slice With Only Negative Indexes\n",
    "## s = \"microprocessor\"\n",
    "## Use only negative indexes to extract the word 'processor' using slicing.\n"
   ]
  },
  {
   "cell_type": "code",
   "execution_count": 53,
   "id": "7a68bd93-4484-49ba-baa8-4d63f509a267",
   "metadata": {},
   "outputs": [],
   "source": [
    "s = \"microprocessor\""
   ]
  },
  {
   "cell_type": "code",
   "execution_count": 55,
   "id": "6f0f91ec-1d2b-4bb6-a978-8391265c7124",
   "metadata": {},
   "outputs": [
    {
     "data": {
      "text/plain": [
       "'processor'"
      ]
     },
     "execution_count": 55,
     "metadata": {},
     "output_type": "execute_result"
    }
   ],
   "source": [
    "s[-9: :]"
   ]
  },
  {
   "cell_type": "markdown",
   "id": "220af731-4b66-4cb2-8e73-49ed02556f20",
   "metadata": {},
   "source": [
    "## Q6. Pick Even Indexed Characters\n",
    "## s = \"programming\"\n",
    "## Print a slice that returns every even-positioned character (indexes: 0, 2, 4...).\n",
    "## Use slicing with proper step.\n"
   ]
  },
  {
   "cell_type": "code",
   "execution_count": 56,
   "id": "c98743d8-b9aa-4f3b-bf64-6b45bad1cd33",
   "metadata": {},
   "outputs": [],
   "source": [
    "s = \"programming\""
   ]
  },
  {
   "cell_type": "code",
   "execution_count": 57,
   "id": "18dea1bf-4e73-48e4-94c5-b9bfa7c0a5d9",
   "metadata": {},
   "outputs": [
    {
     "data": {
      "text/plain": [
       "'pormig'"
      ]
     },
     "execution_count": 57,
     "metadata": {},
     "output_type": "execute_result"
    }
   ],
   "source": [
    "s[0::2]"
   ]
  },
  {
   "cell_type": "markdown",
   "id": "2e1ca6d5-9e1a-401b-b495-9ecd71594008",
   "metadata": {},
   "source": [
    "## Q7. Slice a Substring in Reverse\n",
    "## s = \"classification\"\n",
    "## Extract the substring 'fic' in reverse order using slicing only.\n"
   ]
  },
  {
   "cell_type": "code",
   "execution_count": 58,
   "id": "65254a23-66a9-4ad2-81ce-1fbd6bbccdad",
   "metadata": {},
   "outputs": [],
   "source": [
    "s = \"classification\""
   ]
  },
  {
   "cell_type": "code",
   "execution_count": 59,
   "id": "521f7f13-997b-4a21-b00c-6fb60d8ad3b1",
   "metadata": {},
   "outputs": [
    {
     "data": {
      "text/plain": [
       "'cif'"
      ]
     },
     "execution_count": 59,
     "metadata": {},
     "output_type": "execute_result"
    }
   ],
   "source": [
    "s[-6:-9:-1]"
   ]
  },
  {
   "cell_type": "markdown",
   "id": "71d035fd-ed1e-4c4f-88e5-7fad0994c0fc",
   "metadata": {},
   "source": [
    "## Q8. Slicing Beyond String Length\n",
    "## s = \"psychology\"\n",
    "## What do you expect from:\n",
    "## s[3:300]\n",
    "## s[300:3]\n",
    "## Try predicting before running."
   ]
  },
  {
   "cell_type": "markdown",
   "id": "7acfb23d-f445-41e0-9e7c-3372753746e9",
   "metadata": {},
   "source": [
    "#### s[3:300] output is 'chology'\n",
    "#### s[300:3] output is ''(empty string)"
   ]
  },
  {
   "cell_type": "code",
   "execution_count": 64,
   "id": "96a39b33-7db9-460c-8d5d-3b8a5bb88cd7",
   "metadata": {},
   "outputs": [],
   "source": [
    "s = \"psychology\""
   ]
  },
  {
   "cell_type": "code",
   "execution_count": 65,
   "id": "731753a6-36d2-4a3a-944a-49f012fc08a5",
   "metadata": {},
   "outputs": [
    {
     "data": {
      "text/plain": [
       "'chology'"
      ]
     },
     "execution_count": 65,
     "metadata": {},
     "output_type": "execute_result"
    }
   ],
   "source": [
    "s[3:300]"
   ]
  },
  {
   "cell_type": "code",
   "execution_count": 66,
   "id": "ba43217a-f804-4c4b-95b5-7963259663e7",
   "metadata": {},
   "outputs": [
    {
     "data": {
      "text/plain": [
       "''"
      ]
     },
     "execution_count": 66,
     "metadata": {},
     "output_type": "execute_result"
    }
   ],
   "source": [
    "s[300:3]"
   ]
  },
  {
   "cell_type": "markdown",
   "id": "3002e223-683f-4b0e-8ed0-7e45eadbb593",
   "metadata": {},
   "source": [
    "## Q9. Reverse With Negative Step & Indices\n",
    "## s = \"mathematics\"\n",
    "## What will s[-2:-7:-2] return?\n",
    "## Explain your prediction.\n"
   ]
  },
  {
   "cell_type": "markdown",
   "id": "d7138732-452b-43f0-970c-c717156d2244",
   "metadata": {},
   "source": [
    "#### output is 'ctm' first it prints -2 index value then -2+(-2)=-4 then prints -4 index value then -4+(-2)=-6 it prints -6 index value after it stops because end is -6 only"
   ]
  },
  {
   "cell_type": "code",
   "execution_count": 67,
   "id": "bab10a1c-19c2-49ca-a134-6cdf618a244b",
   "metadata": {},
   "outputs": [],
   "source": [
    "s = \"mathematics\""
   ]
  },
  {
   "cell_type": "code",
   "execution_count": 68,
   "id": "2aafa72f-5123-42c8-be2b-1117cede309f",
   "metadata": {},
   "outputs": [
    {
     "data": {
      "text/plain": [
       "'ctm'"
      ]
     },
     "execution_count": 68,
     "metadata": {},
     "output_type": "execute_result"
    }
   ],
   "source": [
    " s[-2:-7:-2] "
   ]
  },
  {
   "cell_type": "markdown",
   "id": "47232d93-ea7d-4dc9-a249-d1a41bcb69a5",
   "metadata": {},
   "source": [
    "## Q10. Skip Every 3rd Character\n",
    "## s = \"intelligence\"\n",
    "## Write a slicing expression that starts at index 1 and ends at 10, skipping every 3rd character.\n"
   ]
  },
  {
   "cell_type": "code",
   "execution_count": 80,
   "id": "33d233aa-ef2d-45dd-8f01-cfbc9e510290",
   "metadata": {},
   "outputs": [],
   "source": [
    "s = \"intelligence\""
   ]
  },
  {
   "cell_type": "code",
   "execution_count": 93,
   "id": "dfccb87a-0f0c-4680-ab5a-ba5d5b96017a",
   "metadata": {},
   "outputs": [
    {
     "data": {
      "text/plain": [
       "'nlg'"
      ]
     },
     "execution_count": 93,
     "metadata": {},
     "output_type": "execute_result"
    }
   ],
   "source": [
    "part=s[1:10:3]\n",
    "part"
   ]
  },
  {
   "cell_type": "markdown",
   "id": "e67e6e42-1e33-406c-ac7d-9b6a344c40c0",
   "metadata": {},
   "source": [
    "## Q11. upper()\n",
    "## You’re writing a program that should shout out a username regardless of how it's entered.\n",
    "## username = \"rAmAn\"\n",
    "## How will you convert this to all caps before printing:\n",
    "## WELCOME, RAMAN! — using only string methods?\n"
   ]
  },
  {
   "cell_type": "code",
   "execution_count": 104,
   "id": "fa0e6486-38d6-4acd-bb60-605ea1639a0a",
   "metadata": {},
   "outputs": [
    {
     "name": "stdout",
     "output_type": "stream",
     "text": [
      "WELCOME, RAMAN!\n"
     ]
    }
   ],
   "source": [
    "username = \"rAmAn!\"\n",
    "print(\"WELCOME,\",username.upper())"
   ]
  },
  {
   "cell_type": "markdown",
   "id": "32f11dc2-2246-4b02-acc3-a78a79f0d819",
   "metadata": {},
   "source": [
    "## Q12. lower()\n",
    "## You are comparing email addresses case-insensitively:\n",
    "## email1 = \"User@domain.COM\"\n",
    "## email2 = \"user@DOMAIN.com\"\n",
    "## How would you check if these two emails are identical, ignoring case?\n"
   ]
  },
  {
   "cell_type": "code",
   "execution_count": 114,
   "id": "1e1ccff2-c649-4800-944f-a0c879375058",
   "metadata": {},
   "outputs": [
    {
     "name": "stdout",
     "output_type": "stream",
     "text": [
      "True\n"
     ]
    }
   ],
   "source": [
    "email1 = \"User@domain.COM\"\n",
    "email2 = \"user@DOMAIN.com\"\n",
    "print(email1.lower()==email2.lower())\n"
   ]
  },
  {
   "cell_type": "markdown",
   "id": "fe849c7b-fa4d-4773-a527-357f1081bd8f",
   "metadata": {},
   "source": [
    "## Q13. swapcase()\n",
    "## msg = \"HeLLo WorLD\"\n",
    "## You want to flip the case of every letter — upper becomes lower, and vice versa.\n",
    "## What method will do this in one line?\n"
   ]
  },
  {
   "cell_type": "code",
   "execution_count": 115,
   "id": "de7726f7-de30-4966-a7e1-6fa22b0e8407",
   "metadata": {},
   "outputs": [
    {
     "data": {
      "text/plain": [
       "'hEllO wORld'"
      ]
     },
     "execution_count": 115,
     "metadata": {},
     "output_type": "execute_result"
    }
   ],
   "source": [
    "msg = \"HeLLo WorLD\"\n",
    "msg.swapcase()"
   ]
  },
  {
   "cell_type": "markdown",
   "id": "6dba2121-274f-445a-8081-7626a6c44c70",
   "metadata": {},
   "source": [
    "#### swapcase method do this"
   ]
  },
  {
   "cell_type": "markdown",
   "id": "c75417cd-82e2-4ab8-9548-f92d9f1edae2",
   "metadata": {},
   "source": [
    "## Q14. find()\n",
    "## Given:\n",
    "## quote = \"The early bird catches the worm\"\n",
    "## How do you find the first position of the word \"the\"?\n",
    "## (Hint: consider case sensitivity.)\n"
   ]
  },
  {
   "cell_type": "code",
   "execution_count": 121,
   "id": "bad3fe06-ea26-41b9-b960-0ac8b5717449",
   "metadata": {},
   "outputs": [
    {
     "data": {
      "text/plain": [
       "23"
      ]
     },
     "execution_count": 121,
     "metadata": {},
     "output_type": "execute_result"
    }
   ],
   "source": [
    "quote = \"The early bird catches the worm\"\n",
    "quote.find(\"the\")"
   ]
  },
  {
   "cell_type": "markdown",
   "id": "5a32ce58-075e-4bb9-bf12-a1a0455dcf81",
   "metadata": {},
   "source": [
    "#### Use find() method to find the position of the word"
   ]
  },
  {
   "cell_type": "markdown",
   "id": "9c96eaa6-91ac-43af-badd-94b644aae1d4",
   "metadata": {},
   "source": [
    "## Q15. replace()\n",
    "## story = \"He is good. He is kind. He is smart.\"\n",
    "## Replace only the first occurrence of \"He\" with \"She\".\n",
    "## What argument in replace() helps you control that?\n"
   ]
  },
  {
   "cell_type": "code",
   "execution_count": 122,
   "id": "6ac4e6c6-bab3-4a9d-b4a0-ec0aa861bff3",
   "metadata": {},
   "outputs": [],
   "source": [
    "story = \"He is good. He is kind. He is smart.\""
   ]
  },
  {
   "cell_type": "code",
   "execution_count": 123,
   "id": "15a5c661-246c-40cc-a2af-b3de75eec1f4",
   "metadata": {},
   "outputs": [
    {
     "data": {
      "text/plain": [
       "'She is good. He is kind. He is smart.'"
      ]
     },
     "execution_count": 123,
     "metadata": {},
     "output_type": "execute_result"
    }
   ],
   "source": [
    "story.replace(\"He\",\"She\",1)"
   ]
  },
  {
   "cell_type": "markdown",
   "id": "a9067ec1-95b3-41c1-ac24-00b70060ea7b",
   "metadata": {},
   "source": [
    "#### count argument helps me to control that"
   ]
  },
  {
   "cell_type": "markdown",
   "id": "3c2ab5c0-a528-4838-b198-4a5a919f1e6d",
   "metadata": {},
   "source": [
    "## Q16. capitalize()\n",
    "## line = \"hello from the other side\"\n",
    "## You want only the first character of the string capitalized (not each word).\n",
    "## Which method does this?"
   ]
  },
  {
   "cell_type": "code",
   "execution_count": 124,
   "id": "ff275a47-4a34-4744-a020-d7623a5c6a57",
   "metadata": {},
   "outputs": [],
   "source": [
    "line = \"hello from the other side\""
   ]
  },
  {
   "cell_type": "code",
   "execution_count": 125,
   "id": "10af4321-093e-4092-a2f5-77eed1ec3ef7",
   "metadata": {},
   "outputs": [
    {
     "data": {
      "text/plain": [
       "'Hello from the other side'"
      ]
     },
     "execution_count": 125,
     "metadata": {},
     "output_type": "execute_result"
    }
   ],
   "source": [
    "line.capitalize()"
   ]
  },
  {
   "cell_type": "markdown",
   "id": "a7b51ca6-b991-403d-8d22-761c7a8ecc03",
   "metadata": {},
   "source": [
    "#### capitalize() method does this"
   ]
  },
  {
   "cell_type": "markdown",
   "id": "2b9074d6-8dbf-4568-b50f-89e7d2edb8ab",
   "metadata": {},
   "source": [
    "## Q17 count()\n",
    "## s = \"banana\"\n",
    "## How many times does the letter 'a' appear?\n",
    "## What method returns that count?\n"
   ]
  },
  {
   "cell_type": "code",
   "execution_count": 126,
   "id": "ac87f1e8-e93f-45ec-a3ec-f3af19c5b345",
   "metadata": {},
   "outputs": [],
   "source": [
    "s = \"banana\""
   ]
  },
  {
   "cell_type": "code",
   "execution_count": 127,
   "id": "26997d30-d7e3-4f63-93bf-d24542c4b407",
   "metadata": {},
   "outputs": [
    {
     "data": {
      "text/plain": [
       "3"
      ]
     },
     "execution_count": 127,
     "metadata": {},
     "output_type": "execute_result"
    }
   ],
   "source": [
    "s.count('a')"
   ]
  },
  {
   "cell_type": "markdown",
   "id": "83f1f717-e5e9-42bb-a4b1-f39f2c65aa1f",
   "metadata": {},
   "source": [
    "#### count() method returns that count"
   ]
  },
  {
   "cell_type": "markdown",
   "id": "4317fc87-b3c4-4606-830d-e4710d538682",
   "metadata": {},
   "source": [
    "## Q18. rfind()\n",
    "## s = \"This is the end, this is not the beginning\"\n",
    "## You want the last occurrence of \"the\" — not the first.\n",
    "## Which method should you use and how?\n"
   ]
  },
  {
   "cell_type": "code",
   "execution_count": 129,
   "id": "d864c824-b45c-4d02-9c98-9a179f4deb4e",
   "metadata": {},
   "outputs": [],
   "source": [
    "s = \"This is the end, this is not the beginning\""
   ]
  },
  {
   "cell_type": "code",
   "execution_count": 130,
   "id": "696ea2e4-11ea-497e-b119-d0531b3e96a9",
   "metadata": {},
   "outputs": [
    {
     "data": {
      "text/plain": [
       "29"
      ]
     },
     "execution_count": 130,
     "metadata": {},
     "output_type": "execute_result"
    }
   ],
   "source": [
    "s.rfind(\"the\")"
   ]
  },
  {
   "cell_type": "markdown",
   "id": "0eb9db64-debf-4cef-835b-08f7d6e06960",
   "metadata": {},
   "source": [
    "#### rfind() method we should use because it works finds the word(the) from right to left"
   ]
  },
  {
   "cell_type": "markdown",
   "id": "86252da2-2604-49f6-8846-59df68405827",
   "metadata": {},
   "source": [
    "## Q19. index()\n",
    "## msg = \"welcome to python\"\n",
    "## You want to find the position of 'p' using index().\n",
    "## What happens if 'p' is not in the string?\n"
   ]
  },
  {
   "cell_type": "code",
   "execution_count": 132,
   "id": "e3492d4b-27b0-4cc7-92cd-2a27c5522f84",
   "metadata": {},
   "outputs": [
    {
     "data": {
      "text/plain": [
       "11"
      ]
     },
     "execution_count": 132,
     "metadata": {},
     "output_type": "execute_result"
    }
   ],
   "source": [
    "msg = \"welcome to python\"\n",
    "msg.index('p')"
   ]
  },
  {
   "cell_type": "markdown",
   "id": "707c75fc-9a4d-46b8-b4fc-8b9344177c2a",
   "metadata": {},
   "source": [
    "### if 'p' is not in the string it throws value error"
   ]
  },
  {
   "cell_type": "markdown",
   "id": "3ac2a6e9-114c-4e9c-900d-152b04220935",
   "metadata": {},
   "source": [
    "##  Q20. startswith()\n",
    "## word = \"unbelievable\"\n",
    "## How can you check if the word starts with 'un'?"
   ]
  },
  {
   "cell_type": "code",
   "execution_count": 133,
   "id": "30a85307-fb70-4aae-91cb-b5a71e91c2c2",
   "metadata": {},
   "outputs": [
    {
     "data": {
      "text/plain": [
       "True"
      ]
     },
     "execution_count": 133,
     "metadata": {},
     "output_type": "execute_result"
    }
   ],
   "source": [
    "word = \"unbelievable\"\n",
    "word.startswith('un')"
   ]
  },
  {
   "cell_type": "markdown",
   "id": "6eed6c7c-f232-4154-8bc0-1513f93ef341",
   "metadata": {},
   "source": [
    "#### use startswith() method to check if word starts with 'un'"
   ]
  },
  {
   "cell_type": "markdown",
   "id": "05ea0250-17a3-4520-a07a-a413f19dec9e",
   "metadata": {},
   "source": [
    "## Q21. endswith()\n",
    "## filename = \"report.pdf\"\n",
    "## Write a condition to check if the file ends with .pdf.\n"
   ]
  },
  {
   "cell_type": "code",
   "execution_count": 136,
   "id": "7e3c0ec4-73c1-4ea9-b250-52e81b3df455",
   "metadata": {},
   "outputs": [
    {
     "data": {
      "text/plain": [
       "True"
      ]
     },
     "execution_count": 136,
     "metadata": {},
     "output_type": "execute_result"
    }
   ],
   "source": [
    "filename = \"report.pdf\"\n",
    "filename.endswith(\".pdf\")"
   ]
  },
  {
   "cell_type": "markdown",
   "id": "b7f3a9b7-aa7b-46ef-a9d7-1000cb9f9bc4",
   "metadata": {},
   "source": [
    "#### use endswith() method to check if the file ends with .pdf"
   ]
  },
  {
   "cell_type": "markdown",
   "id": "ecce1e46-f337-4f5a-9a3a-18a409ec1869",
   "metadata": {},
   "source": [
    "## Q22. title()\n",
    "## sentence = \"once upon a time in hollywood\"\n",
    "## Convert the entire sentence to title case (every word starts capitalized).\n"
   ]
  },
  {
   "cell_type": "code",
   "execution_count": 137,
   "id": "2c6af0e1-90e4-4558-9bc5-05dc94f7b6d8",
   "metadata": {},
   "outputs": [
    {
     "data": {
      "text/plain": [
       "'Once Upon A Time In Hollywood'"
      ]
     },
     "execution_count": 137,
     "metadata": {},
     "output_type": "execute_result"
    }
   ],
   "source": [
    "sentence = \"once upon a time in hollywood\"\n",
    "sentence.title()"
   ]
  },
  {
   "cell_type": "markdown",
   "id": "d5c13358-5b40-4e01-9064-5a08c9507f6e",
   "metadata": {},
   "source": [
    "#### use title() method to convert the entire sentence to title case (every word starts capitalized)."
   ]
  },
  {
   "cell_type": "markdown",
   "id": "3d58d89b-5be7-42bd-9000-dd0d46855e70",
   "metadata": {},
   "source": [
    "## Q23. find() (Extra logic)\n",
    "## msg = \"banana\"\n",
    "## How can you find the second occurrence of 'a' using find()?\n",
    "\n"
   ]
  },
  {
   "cell_type": "code",
   "execution_count": 140,
   "id": "ce4b742b-8d02-42c5-81a1-ca227bace6db",
   "metadata": {},
   "outputs": [
    {
     "data": {
      "text/plain": [
       "3"
      ]
     },
     "execution_count": 140,
     "metadata": {},
     "output_type": "execute_result"
    }
   ],
   "source": [
    "msg = \"banana\"\n",
    "msg.find('a',2)"
   ]
  },
  {
   "cell_type": "markdown",
   "id": "b000e604-35ff-489f-ae2b-0d3de9d20554",
   "metadata": {},
   "source": [
    "#### use this find('a',2) to find the second occurence of 'a'"
   ]
  },
  {
   "cell_type": "code",
   "execution_count": null,
   "id": "13dc8de8-05fd-4400-bbd5-386388149190",
   "metadata": {},
   "outputs": [],
   "source": []
  },
  {
   "cell_type": "code",
   "execution_count": null,
   "id": "f518444c-b494-430c-8984-706c8d8aa642",
   "metadata": {},
   "outputs": [],
   "source": []
  },
  {
   "cell_type": "code",
   "execution_count": null,
   "id": "d4afb5bf-5d9c-4bfe-951a-0aa2e1df20bf",
   "metadata": {},
   "outputs": [],
   "source": [
    "                                                                                                                                                                                                                                                                                                                                "
   ]
  }
 ],
 "metadata": {
  "kernelspec": {
   "display_name": "Python 3 (ipykernel)",
   "language": "python",
   "name": "python3"
  },
  "language_info": {
   "codemirror_mode": {
    "name": "ipython",
    "version": 3
   },
   "file_extension": ".py",
   "mimetype": "text/x-python",
   "name": "python",
   "nbconvert_exporter": "python",
   "pygments_lexer": "ipython3",
   "version": "3.13.5"
  }
 },
 "nbformat": 4,
 "nbformat_minor": 5
}
