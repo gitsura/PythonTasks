{
 "cells": [
  {
   "cell_type": "markdown",
   "id": "33801735-f646-4c17-a1d7-b943518f8fe5",
   "metadata": {},
   "source": [
    "## Conditional Statements - 2\n",
    "## NESTED CONDITIONAL STATEMENTS\n",
    "## 1. 🔹 Travel Fare Calculator\n",
    "## Task:\n",
    "## If it’s a weekday:\n",
    "## If the person is a student → 50% fare\n",
    "## If senior citizen → 30% fare\n",
    "## Else (weekend) → everyone gets 25% off\n",
    "## Hint: Use nested if-else inside a check for weekday/weekend.\n"
   ]
  },
  {
   "cell_type": "code",
   "execution_count": 7,
   "id": "5ed47149-8ffc-4bdf-bad7-c6582c7f361b",
   "metadata": {},
   "outputs": [
    {
     "name": "stdin",
     "output_type": "stream",
     "text": [
      "enter day monday\n",
      "enter person student\n"
     ]
    },
    {
     "name": "stdout",
     "output_type": "stream",
     "text": [
      "50% fare\n"
     ]
    }
   ],
   "source": [
    "day=input(\"enter day\").lower()\n",
    "person=input(\"enter person\").lower()\n",
    "if day==\"monday\" or day==\"tuesday\" or day==\"wednesday\" or day==\"thursday\" or day==\"friday\":\n",
    "    if person==\"student\":\n",
    "        print(\"50% fare\")\n",
    "    elif person==\"senior citizen\":\n",
    "        print(\"30% fare\")\n",
    "    else:\n",
    "        print(\"no fare\")\n",
    "else:\n",
    "    print(\"everyone gets 25% off\")\n"
   ]
  },
  {
   "cell_type": "markdown",
   "id": "fe80d502-66fa-4dea-8451-75f3c8324a4a",
   "metadata": {},
   "source": [
    "## 2. 🔹 Online Exam Eligibility\n",
    "## Task:\n",
    "## If the candidate is registered:\n",
    "## If today is the exam date → allow login\n",
    "## Else → show “Come back on exam date”\n",
    "## Else → show “Access denied”\n",
    "## Hint: First check if registered, then handle date conditions.\n"
   ]
  },
  {
   "cell_type": "code",
   "execution_count": 10,
   "id": "e1b4245b-c0a3-4e30-b91b-2ca6ba85c991",
   "metadata": {},
   "outputs": [
    {
     "name": "stdin",
     "output_type": "stream",
     "text": [
      "registered or not registered\n",
      "enter date 6/8/2025\n"
     ]
    },
    {
     "name": "stdout",
     "output_type": "stream",
     "text": [
      "allow login\n"
     ]
    }
   ],
   "source": [
    "candidate=input(\"registered or not\").lower()\n",
    "today=input(\"enter date\")\n",
    "exam_date=\"6/8/2025\"\n",
    "if candidate==\"registered\":\n",
    "     if today==exam_date:\n",
    "        print(\"allow login\")\n",
    "     else:\n",
    "         print(\"Come back on exam date\")\n",
    "else:\n",
    "    print(\"Access denied\")\n",
    "  "
   ]
  },
  {
   "cell_type": "markdown",
   "id": "ddc2f09b-e469-4537-a6a2-21d1125694d0",
   "metadata": {},
   "source": [
    "## 3. 🔹 Cab Fare Engine\n",
    "## Task:\n",
    "## If it’s peak hours:\n",
    "## If demand is high → 2x fare\n",
    "## Else → 1.5x fare\n",
    "## Else:\n",
    "## If it’s raining → 1.2x fare\n",
    "## Else → normal fare\n",
    "## Hint: Carefully nest fare modifiers based on time and weather.\n"
   ]
  },
  {
   "cell_type": "code",
   "execution_count": 11,
   "id": "d166740d-edec-4122-a561-f202feb1d9d1",
   "metadata": {},
   "outputs": [
    {
     "name": "stdout",
     "output_type": "stream",
     "text": [
      "2x fare\n"
     ]
    }
   ],
   "source": [
    "peak_hours=True\n",
    "demand=\"High\"\n",
    "raining=False\n",
    "if peak_hours:\n",
    "    if demand==\"High\":\n",
    "        print(\"2x fare\")\n",
    "    else:\n",
    "        print(\"1.5x fare\")\n",
    "else:\n",
    "    if raining:\n",
    "        print(\"1.2x fare\")\n",
    "    else:\n",
    "        print(\"normal fare\")"
   ]
  },
  {
   "cell_type": "markdown",
   "id": "bd93abd9-1874-4cfc-9ab4-bf65febfc041",
   "metadata": {},
   "source": [
    "## 4. 🔹 Library Fine Calculation\n",
    "## Task:\n",
    "## If the book is returned late:\n",
    "## If days late <= 5 → ₹5 per day\n",
    "## If days late > 5 → ₹10 per day\n",
    "## If the book is lost → flat ₹500\n",
    "## If returned on time → no fine\n",
    "## Hint: Use a top-level if-elif-else with inner conditions.\n"
   ]
  },
  {
   "cell_type": "code",
   "execution_count": 38,
   "id": "319815c1-a8a6-4e3a-951e-123c2d795dec",
   "metadata": {},
   "outputs": [
    {
     "name": "stdin",
     "output_type": "stream",
     "text": [
      "enter book status returned\n"
     ]
    },
    {
     "name": "stdout",
     "output_type": "stream",
     "text": [
      "no fine\n"
     ]
    }
   ],
   "source": [
    "book=input(\"enter book status\").lower()\n",
    "days_late=7\n",
    "if book==\"late\":\n",
    "    if days_late<=5:\n",
    "        print(\"₹5 per day\")\n",
    "    elif days_late>5:\n",
    "        print(\"₹10 per day\")\n",
    "if book==\"lost\":\n",
    "    print(\"flat ₹500\")\n",
    "if book==\"returned\":\n",
    "    print(\"no fine\")\n",
    "    "
   ]
  },
  {
   "cell_type": "markdown",
   "id": "d8a132a7-dfea-4cff-bc06-99ca1641ae22",
   "metadata": {},
   "source": [
    "## 5. 🔹 Flight Baggage Charge\n",
    "## Task:\n",
    "## If international flight:\n",
    "## If baggage > 30kg → extra charge\n",
    "## Else → free\n",
    "## If domestic:\n",
    "## If baggage > 15kg → extra charge\n",
    "## Else → free\n",
    "## Hint: First check flight type, then baggage weight.\n"
   ]
  },
  {
   "cell_type": "code",
   "execution_count": 16,
   "id": "2fd7ee74-103a-4c63-a587-2670fa2e0634",
   "metadata": {},
   "outputs": [
    {
     "name": "stdin",
     "output_type": "stream",
     "text": [
      "enter which flight international\n",
      "Enter baggage 20\n"
     ]
    },
    {
     "name": "stdout",
     "output_type": "stream",
     "text": [
      "free\n"
     ]
    }
   ],
   "source": [
    "flight=input(\"enter which flight\").lower()\n",
    "baggage=int(input(\"Enter baggage\"))\n",
    "if flight==\"international\":\n",
    "    if baggage>30:\n",
    "        print(\"extra charge\")\n",
    "    else:\n",
    "        print('free')\n",
    "if flight==\"domestic\":\n",
    "    if baggage>15:\n",
    "        print(\"extra charge\")\n",
    "    else:\n",
    "        print('free')"
   ]
  },
  {
   "cell_type": "markdown",
   "id": "75266d0f-30cd-4ec2-88da-755cb5eb996b",
   "metadata": {},
   "source": [
    "## 6. 🔹 Password Validator\n",
    "## Task:\n",
    "## If password length >= 8:\n",
    "## If it contains a digit and a capital letter → Strong\n",
    "## Else → Weak\n",
    "## Else → Too Short\n",
    "## Hint: Use len() and string checks in nested structure.\n"
   ]
  },
  {
   "cell_type": "code",
   "execution_count": 52,
   "id": "69027488-36fa-43e2-bde8-b6f1cc32b2b4",
   "metadata": {},
   "outputs": [
    {
     "name": "stdin",
     "output_type": "stream",
     "text": [
      "enter password Varsha123\n"
     ]
    },
    {
     "name": "stdout",
     "output_type": "stream",
     "text": [
      "strong\n"
     ]
    }
   ],
   "source": [
    "password=input(\"enter password\")\n",
    "\n",
    "if len(password)>=8:\n",
    "    has_digit=False\n",
    "    has_upper=False\n",
    "    for char in password:\n",
    "        if char.isdigit():\n",
    "            has_digit=True\n",
    "        if char.isupper():\n",
    "             has_upper=True\n",
    "    if has_digit and has_upper:\n",
    "            print(\"strong\")\n",
    "           \n",
    "    else:\n",
    "            print(\"weak\")\n",
    "           \n",
    "            \n",
    "else:\n",
    "    print(\"Too Short\")"
   ]
  },
  {
   "cell_type": "markdown",
   "id": "9762adcb-1436-4597-9851-f108ab2cf67b",
   "metadata": {},
   "source": [
    "## 7. 🔹 Performance Bonus\n",
    "## Task:\n",
    "## If employee performance is \"Excellent\":\n",
    "## If team target is met → 25% bonus\n",
    "## Else → 10% bonus\n",
    "## If performance is \"Good\":\n",
    "## If target met → 15%\n",
    "## Else → 5%\n",
    "## Hint: Nested if inside performance level.\n"
   ]
  },
  {
   "cell_type": "code",
   "execution_count": 34,
   "id": "c2a664e6-0db9-4683-be8c-153b6543ed0f",
   "metadata": {},
   "outputs": [
    {
     "name": "stdout",
     "output_type": "stream",
     "text": [
      "15\n"
     ]
    }
   ],
   "source": [
    "performance=\"good\"\n",
    "target_met=True\n",
    "if performance==\"excellent\":\n",
    "    if target_met:\n",
    "        print('25% bonus')\n",
    "    else:\n",
    "        print(\"10% bonus\")\n",
    "elif performance==\"good\":\n",
    "    if target_met:\n",
    "        print(\"15\")\n",
    "    else:\n",
    "        print(\"5%\")"
   ]
  },
  {
   "cell_type": "markdown",
   "id": "35c3a5a2-bf39-40cd-ae26-d86e35229455",
   "metadata": {},
   "source": [
    "## 8. 🔹 Smartwatch Alert System\n",
    "## Task:\n",
    "## If heart rate > 100:\n",
    "## If age < 50 → “Exercise Alert”\n",
    "## Else → “High Heart Rate - Check Up”\n",
    "## Else → “Normal”\n",
    "## Hint: First check heart rate, then consider age.\n"
   ]
  },
  {
   "cell_type": "code",
   "execution_count": 35,
   "id": "d4944874-7d7b-4e3a-b0f5-135e43325170",
   "metadata": {},
   "outputs": [
    {
     "name": "stdout",
     "output_type": "stream",
     "text": [
      "Exercise Alert\n"
     ]
    }
   ],
   "source": [
    "\n",
    "age=30\n",
    "heart_rate=400\n",
    "if heart_rate>100:\n",
    "    if age<50:\n",
    "        print(\"Exercise Alert\")\n",
    "    else:\n",
    "        print(\"High Heart Rate-Check Up\")\n",
    "else:\n",
    "    print(\"Normal\")\n",
    "        "
   ]
  },
  {
   "cell_type": "markdown",
   "id": "6a0c4752-db78-4bc3-8a86-eea042537887",
   "metadata": {},
   "source": [
    "## 9. 🔹 Online Class Attendance\n",
    "## Task:\n",
    "## If it's a weekday:\n",
    "## If class is scheduled → Join class\n",
    "## Else → No class today\n",
    "## If it's weekend:\n",
    "## If workshop scheduled → Join workshop\n",
    "## Else → Free day\n",
    "## Hint: Use nested day + event checks.\n"
   ]
  },
  {
   "cell_type": "code",
   "execution_count": 39,
   "id": "d2273f84-ea68-4633-a5a6-b8fd4df31b9a",
   "metadata": {},
   "outputs": [
    {
     "name": "stdout",
     "output_type": "stream",
     "text": [
      "Free day\n"
     ]
    }
   ],
   "source": [
    "day=\"sunday\"\n",
    "class_scheduled=True\n",
    "worksshop_scheduled=False\n",
    "if day==\"monday\" or day==\"tuesday\" or day==\"wednesday\" or day==\"thursday\" or day==\"friday\":\n",
    "    if class_scheduled:\n",
    "        print(\"Join class\")\n",
    "    else:\n",
    "        print(\"No class today\")\n",
    "if day==\"sunday\" or day==\"saturday\":\n",
    "    if worksshop_scheduled:\n",
    "        print(\"Join workshop\")\n",
    "    else:\n",
    "        print(\"Free day\")"
   ]
  },
  {
   "cell_type": "markdown",
   "id": "e161579f-8705-4cb7-8f27-210161852985",
   "metadata": {},
   "source": [
    "## 10. 🔹 Gaming Reward Unlock\n",
    "## Task:\n",
    "## If player level >= 10:\n",
    "## If score > 1000 → Unlock rare item\n",
    "## Else → Unlock common item\n",
    "## Else:\n",
    "## If has premium membership → Unlock bonus item\n",
    "## Else → No item\n",
    "## Hint: Combine level and score/membership in conditions.\n"
   ]
  },
  {
   "cell_type": "code",
   "execution_count": 49,
   "id": "f5fd18c8-3ac2-4f3e-80c8-dd5eac2204d0",
   "metadata": {},
   "outputs": [
    {
     "name": "stdout",
     "output_type": "stream",
     "text": [
      "Unlock rare item\n"
     ]
    }
   ],
   "source": [
    "player_level=13\n",
    "score=1500\n",
    "premium=False\n",
    "if player_level>=10:\n",
    "    if score>1000:\n",
    "        print(\"Unlock rare item\")\n",
    "    else:\n",
    "        print(\"Unlock common item\")\n",
    "else:\n",
    "    if premium:\n",
    "        print(\"Unlock bonus item\")\n",
    "    else:\n",
    "        print(\"No item\")"
   ]
  },
  {
   "cell_type": "markdown",
   "id": "44e3b68d-392c-4f09-981f-09b6c6cad9e0",
   "metadata": {},
   "source": [
    "## 11. 🔹 Job Application Filter\n",
    "## Task:\n",
    "## If candidate has a degree:\n",
    "## If experience > 3 years → Eligible\n",
    "## Else → Needs more experience\n",
    "## If no degree:\n",
    "## If certified → Proceed to test\n",
    "## Else → Not eligible\n",
    "## Hint: Education and experience checks are key.\n"
   ]
  },
  {
   "cell_type": "code",
   "execution_count": 43,
   "id": "7090ee19-a91e-48af-825d-110b655759cb",
   "metadata": {},
   "outputs": [
    {
     "name": "stdout",
     "output_type": "stream",
     "text": [
      "Eligible\n"
     ]
    }
   ],
   "source": [
    "candidate_has_degree=True\n",
    "experience=5\n",
    "certified=True\n",
    "if candidate_has_degree:\n",
    "    if experience>3:\n",
    "        print(\"Eligible\")\n",
    "    else:\n",
    "        print(\"Needs more experience\")\n",
    "else:\n",
    "    if certified:\n",
    "        print(\"Proceed to test\")\n",
    "    else:\n",
    "        print(\"Not eligible\")\n",
    "    "
   ]
  },
  {
   "cell_type": "markdown",
   "id": "6998f653-4394-406e-95c5-1caa3f770473",
   "metadata": {},
   "source": [
    "## 12. 🔹 Electricity Bill Category\n",
    "## Task:\n",
    "## If consumption > 500 units:\n",
    "## If it's summer → ₹8/unit\n",
    "## Else → ₹6/unit\n",
    "## If ≤ 500 units:\n",
    "## If usage is night-time → ₹4/unit\n",
    "## Else → ₹5/unit\n",
    "## Hint: Consider season and time of use in a layered logic.\n"
   ]
  },
  {
   "cell_type": "code",
   "execution_count": 44,
   "id": "fa83aae1-ee39-4460-b32d-d62e38b72641",
   "metadata": {},
   "outputs": [
    {
     "name": "stdout",
     "output_type": "stream",
     "text": [
      "₹4/unit\n"
     ]
    }
   ],
   "source": [
    "consumption=300\n",
    "summer=False\n",
    "night_time=True\n",
    "if consumption>500:\n",
    "    if summer:\n",
    "        print(\"₹8/unit\")\n",
    "    else:\n",
    "        print(\"₹6/unit\")\n",
    "if consumption<=500:\n",
    "    if night_time:\n",
    "        print(\"₹4/unit\")\n",
    "    else:\n",
    "        print(\"₹5/unit\")"
   ]
  },
  {
   "cell_type": "markdown",
   "id": "38b8fd29-b64c-4756-9086-9e839d1bb162",
   "metadata": {},
   "source": [
    "## 13. 🔹 Hotel Booking Discounts\n",
    "## Task:\n",
    "## If booking is online:\n",
    "## If it’s more than 5 nights → 20% off\n",
    "## Else → 10% off\n",
    "## If walk-in:\n",
    "## If weekday → 5%\n",
    "## Else → No discount\n",
    "## Hint: Mode of booking leads to discount tiers.\n"
   ]
  },
  {
   "cell_type": "code",
   "execution_count": 45,
   "id": "8048fa1c-f8ec-4d05-8a93-79559c5478e7",
   "metadata": {},
   "outputs": [
    {
     "name": "stdout",
     "output_type": "stream",
     "text": [
      "20% off\n"
     ]
    }
   ],
   "source": [
    "booking=\"online\"\n",
    "nights=6\n",
    "day=\"sunday\"\n",
    "if booking==\"online\":\n",
    "    if nights>5:\n",
    "        print(\"20% off\")\n",
    "    else:\n",
    "        print(\"10% off\")\n",
    "else:\n",
    "    if day==\"monday\" or day==\"tuesday\" or day==\"wednesday\" or day==\"thursday\" or day==\"friday\":\n",
    "        print(\"5%\")\n",
    "    else:\n",
    "        print(\"No discount\")"
   ]
  },
  {
   "cell_type": "markdown",
   "id": "08ff042a-f4fb-4630-ae9e-ddc953458030",
   "metadata": {},
   "source": [
    "## 14. 🔹 Cinema Entry Rules\n",
    "## Task:\n",
    "## If user has ticket:\n",
    "## If age < 18 and movie is “A-rated” → Deny entry\n",
    "## Else → Allow\n",
    "## Else → Show “No Entry - Buy Ticket”\n",
    "## Hint: Handle ticket status first, then movie rating & age.\n"
   ]
  },
  {
   "cell_type": "code",
   "execution_count": 46,
   "id": "aa409f05-a8f4-4472-8a04-8502b1b0c6b8",
   "metadata": {},
   "outputs": [
    {
     "name": "stdout",
     "output_type": "stream",
     "text": [
      "Deny entry\n"
     ]
    }
   ],
   "source": [
    "ticket=True\n",
    "age=12\n",
    "movie=\"A-rated\"\n",
    "if ticket:\n",
    "    if age<18 and movie==\"A-rated\":\n",
    "        print(\"Deny entry\")\n",
    "    else:\n",
    "        print(\"Allow\")\n",
    "else:\n",
    "    print(\"No Entry-Buy Ticket\")\n",
    "    \n",
    "        "
   ]
  },
  {
   "cell_type": "markdown",
   "id": "678b267c-f1d0-4720-8525-515607e3b5d2",
   "metadata": {},
   "source": [
    "## 15. 🔹 Online Shopping Loyalty\n",
    "## Task:\n",
    "## If customer is a member:\n",
    "## If cart value > ₹5000 → 20% discount\n",
    "## Else → 10%\n",
    "## If not a member:\n",
    "## If cart value > ₹5000 → 5%\n",
    "## Else → No discount\n",
    "## Hint: Membership status leads to a different discount tree.\n",
    "\n"
   ]
  },
  {
   "cell_type": "code",
   "execution_count": 47,
   "id": "90857647-555b-4918-9133-27174dd949cb",
   "metadata": {},
   "outputs": [
    {
     "name": "stdout",
     "output_type": "stream",
     "text": [
      "20% discount\n"
     ]
    }
   ],
   "source": [
    "customer_is_member=True\n",
    "cart_value=30000\n",
    "if customer_is_member:\n",
    "    if cart_value>5000:\n",
    "        print(\"20% discount\")\n",
    "    else:\n",
    "        print(\"10% discount\")\n",
    "else:\n",
    "    if cart_value>5000:\n",
    "        print(\"5% discount\")\n",
    "    else:\n",
    "        print(\"No discount\")"
   ]
  },
  {
   "cell_type": "code",
   "execution_count": null,
   "id": "66acdf97-eba2-4bb6-9b6d-8d4d5de65813",
   "metadata": {},
   "outputs": [],
   "source": []
  }
 ],
 "metadata": {
  "kernelspec": {
   "display_name": "Python 3 (ipykernel)",
   "language": "python",
   "name": "python3"
  },
  "language_info": {
   "codemirror_mode": {
    "name": "ipython",
    "version": 3
   },
   "file_extension": ".py",
   "mimetype": "text/x-python",
   "name": "python",
   "nbconvert_exporter": "python",
   "pygments_lexer": "ipython3",
   "version": "3.13.5"
  }
 },
 "nbformat": 4,
 "nbformat_minor": 5
}
