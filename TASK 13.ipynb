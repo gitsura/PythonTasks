{
 "cells": [
  {
   "cell_type": "markdown",
   "id": "3fc0f0d6-afa0-4477-b970-4bfdd9a6cfc6",
   "metadata": {},
   "source": [
    "## For Loop\n",
    "## 1. Multiply on the Run\n",
    "## Print the square of numbers from 1 to 10 using a for loop.\n",
    "## Expected Output:\n",
    "## 1 4 9 16 25 36 49 64 81 100\n",
    "## Hint: Multiply the loop variable with itself inside the loop.\n"
   ]
  },
  {
   "cell_type": "code",
   "execution_count": 2,
   "id": "43b76f2d-892d-47f0-90ec-d98587788c1a",
   "metadata": {},
   "outputs": [
    {
     "name": "stdout",
     "output_type": "stream",
     "text": [
      "1 4 9 16 25 36 49 64 81 100 "
     ]
    }
   ],
   "source": [
    "for i in range(1,11):\n",
    "    print(i*i,end=' ')\n",
    "    "
   ]
  },
  {
   "cell_type": "markdown",
   "id": "c0102764-df73-464d-9047-4905a596c7ad",
   "metadata": {},
   "source": [
    "## 2. Backward by Two\n",
    "## Print all even numbers from 20 to 2 in reverse using a for loop.\n",
    "## Expected Output:\n",
    "## 20 18 16 14 12 10 8 6 4 2\n",
    "## Hint: Use range(start, stop, step) with negative step.\n"
   ]
  },
  {
   "cell_type": "code",
   "execution_count": 8,
   "id": "e7a9ee2e-4ff7-4c85-befd-96f4ae3171c0",
   "metadata": {},
   "outputs": [
    {
     "name": "stdout",
     "output_type": "stream",
     "text": [
      "20 18 16 14 12 10 8 6 4 2 "
     ]
    }
   ],
   "source": [
    "for i in reversed(range(2,21,2)):\n",
    "    if i%2==0:\n",
    "        print(i,end=' ')"
   ]
  },
  {
   "cell_type": "markdown",
   "id": "b09a2585-bbad-4386-9e74-5586cb5f8a70",
   "metadata": {},
   "source": [
    "## 3. Letters in Order\n",
    "## Print the characters of the string \"\" one by one using a for loop.\n",
    "## Expected Output:\n",
    "## P  \n",
    "## y  \n",
    "## t  \n",
    "## h  \n",
    "## o  \n",
    "## n\n",
    "\n",
    "## Hint: Loop directly through the string.\n"
   ]
  },
  {
   "cell_type": "code",
   "execution_count": 9,
   "id": "b9814813-e1fb-43eb-9337-bfaf5759b684",
   "metadata": {},
   "outputs": [
    {
     "name": "stdout",
     "output_type": "stream",
     "text": [
      "P\n",
      "y\n",
      "t\n",
      "h\n",
      "o\n",
      "n\n"
     ]
    }
   ],
   "source": [
    "string=\"Python\"\n",
    "for i in string:\n",
    "    print(i)"
   ]
  },
  {
   "cell_type": "markdown",
   "id": "f6086bbf-d679-4b28-af09-cf425171ecc0",
   "metadata": {},
   "source": [
    "## 4. Total Characters in List\n",
    "## You are given:\n",
    "## words = [\"hi\", \"code\", \"ok\", \"world\"]\n",
    "## Count how many total characters are in the list and print the result.\n",
    "## Expected Output:\n",
    "## 13\n",
    "## (\"hi\"=2, \"code\"=4, \"ok\"=2, \"world\"=5 → total 13)\n",
    "## Hint: Use len() for each word and add to a variable."
   ]
  },
  {
   "cell_type": "code",
   "execution_count": 14,
   "id": "aedce772-e18c-45fa-87d7-9b2350aa564d",
   "metadata": {},
   "outputs": [
    {
     "name": "stdout",
     "output_type": "stream",
     "text": [
      "13\n"
     ]
    }
   ],
   "source": [
    "words = [\"hi\", \"code\", \"ok\", \"world\"]\n",
    "sum=0\n",
    "for i in words:\n",
    "    for j in i:\n",
    "     sum=sum+len(j)\n",
    "print(sum)"
   ]
  },
  {
   "cell_type": "markdown",
   "id": "fbd1184d-766d-4237-874e-cb324b49d950",
   "metadata": {},
   "source": [
    "## 5. Print in Reverse Without Reversing\n",
    "## You have a list:\n",
    "## nums = [11, 22, 33, 44, 55]\n",
    "## Print the elements from last to first using indexing and for loop.\n",
    "## Expected Output:\n",
    "## 55 44 33 22 11\n",
    "## Hint: Use range() with len(nums)-1 to 0 and negative step.\n"
   ]
  },
  {
   "cell_type": "code",
   "execution_count": 17,
   "id": "bacc592c-0dd5-4b6e-ab94-750815f02f2a",
   "metadata": {},
   "outputs": [
    {
     "name": "stdout",
     "output_type": "stream",
     "text": [
      "55 44 33 22 11 "
     ]
    }
   ],
   "source": [
    "nums = [11, 22, 33, 44, 55]\n",
    "for i in range(len(nums)-1,-1,-1):\n",
    "    print(nums[i],end=' ')\n",
    "    "
   ]
  },
  {
   "cell_type": "markdown",
   "id": "0c6b3945-0882-48aa-9943-1059e9db1407",
   "metadata": {},
   "source": [
    "## 6. Count the Vowels\n",
    "## Given a word \"information\", count how many vowels it contains.\n",
    "## Expected Output:\n",
    "## 5\n",
    "## Hint: Loop through the string, and check if each character is in 'aeiou'.\n"
   ]
  },
  {
   "cell_type": "code",
   "execution_count": 18,
   "id": "859b8007-0ddb-4b86-b3d5-20c450e52d40",
   "metadata": {},
   "outputs": [
    {
     "name": "stdout",
     "output_type": "stream",
     "text": [
      "5\n"
     ]
    }
   ],
   "source": [
    "word=\"information\"\n",
    "vowels='aeiou'\n",
    "count=0\n",
    "for i in word:\n",
    "    if i in vowels:\n",
    "        count+=1\n",
    "print(count)"
   ]
  },
  {
   "cell_type": "markdown",
   "id": "26de6586-9b46-4e5a-a5ba-e5eeb54c61cf",
   "metadata": {},
   "source": [
    "## 7. Double the List\n",
    "## You are given:\n",
    "## numbers = [1, 2, 3, 4, 5]\n",
    "## Create a new list that contains each number multiplied by 2. Print the new list.\n",
    "## Expected Output:\n",
    "## [2, 4, 6, 8, 10]\n",
    "## Hint: Use an empty list and append inside the loop.\n"
   ]
  },
  {
   "cell_type": "code",
   "execution_count": 20,
   "id": "c824a78c-a950-4203-aa6a-ecd32d4603bf",
   "metadata": {},
   "outputs": [
    {
     "name": "stdout",
     "output_type": "stream",
     "text": [
      "[2, 4, 6, 8, 10]\n"
     ]
    }
   ],
   "source": [
    "numbers = [1, 2, 3, 4, 5]\n",
    "list1=[]\n",
    "for i in numbers:\n",
    "    list1.append(i*2)\n",
    "print(list1)"
   ]
  },
  {
   "cell_type": "markdown",
   "id": "a0781da1-4dfd-4481-b19d-303596ee44d9",
   "metadata": {},
   "source": [
    "## 8. Compare Lengths\n",
    "## Given:\n",
    "## names = [\"Raj\", \"Simran\", \"Aman\", \"Vikram\"]\n",
    "## Print all names from the list that are longer than 4 characters.\n",
    "## Expected Output:\n",
    "## Simran Vikram\n",
    "## Hint: Use len(name) in an if condition inside the loop.\n"
   ]
  },
  {
   "cell_type": "code",
   "execution_count": 22,
   "id": "030609d5-7a4c-499b-aae3-0033bd031cbd",
   "metadata": {},
   "outputs": [
    {
     "name": "stdout",
     "output_type": "stream",
     "text": [
      "Simran Vikram "
     ]
    }
   ],
   "source": [
    "names = [\"Raj\", \"Simran\", \"Aman\", \"Vikram\"]\n",
    "for i in names:\n",
    "    if len(i)>4:\n",
    "        print(i,end=' ')"
   ]
  },
  {
   "cell_type": "markdown",
   "id": "f754a2f9-d36c-44d8-ae64-2f4ea8c0c88b",
   "metadata": {},
   "source": [
    "## 9. Replace Values by Square\n",
    "## You are given:\n",
    "## data = [2, 3, 4, 5]\n",
    "## Modify the list so that each element becomes its square. Print the modified list.\n",
    "## Expected Output:\n",
    "## [4, 9, 16, 25]\n",
    "## Hint: Use indexing to update values inside the loop.\n"
   ]
  },
  {
   "cell_type": "code",
   "execution_count": 27,
   "id": "a647b4d2-8b22-4b42-bd52-cac7c892fa74",
   "metadata": {},
   "outputs": [
    {
     "name": "stdout",
     "output_type": "stream",
     "text": [
      "[4, 9, 16, 25]\n"
     ]
    }
   ],
   "source": [
    "data = [2, 3, 4, 5]\n",
    "count=0\n",
    "for i in data:\n",
    "    data[count]=i*i\n",
    "    count=count+1\n",
    "print(data)"
   ]
  },
  {
   "cell_type": "markdown",
   "id": "dd249b50-4f85-49cd-b21e-fd32f187caeb",
   "metadata": {},
   "source": [
    "## 10. Build a Word from Characters\n",
    "## Given:\n",
    "## chars = ['c', 'o', 'd', 'e']\n",
    "## Use a loop to join the characters into a word and print it.\n",
    "## Expected Output:\n",
    "## Hint: Start with an empty string and keep adding each character inside the loop.\n"
   ]
  },
  {
   "cell_type": "code",
   "execution_count": 29,
   "id": "70264ee2-13ea-4f2d-a7f4-cad0fe868acd",
   "metadata": {},
   "outputs": [
    {
     "name": "stdout",
     "output_type": "stream",
     "text": [
      "code\n"
     ]
    }
   ],
   "source": [
    "chars = ['c', 'o', 'd', 'e']\n",
    "string=\"\"\n",
    "for i in chars:\n",
    "    string+=i\n",
    "print(string)"
   ]
  },
  {
   "cell_type": "code",
   "execution_count": null,
   "id": "b3815d60-a88f-4897-9b7f-6eb8e9ad7f27",
   "metadata": {},
   "outputs": [],
   "source": []
  }
 ],
 "metadata": {
  "kernelspec": {
   "display_name": "Python 3 (ipykernel)",
   "language": "python",
   "name": "python3"
  },
  "language_info": {
   "codemirror_mode": {
    "name": "ipython",
    "version": 3
   },
   "file_extension": ".py",
   "mimetype": "text/x-python",
   "name": "python",
   "nbconvert_exporter": "python",
   "pygments_lexer": "ipython3",
   "version": "3.13.5"
  }
 },
 "nbformat": 4,
 "nbformat_minor": 5
}
