{
 "cells": [
  {
   "cell_type": "markdown",
   "id": "9c77f3d9-d4dc-445c-882a-6470f460623d",
   "metadata": {},
   "source": [
    "## While Loop\n",
    "\n",
    "## 1. The Countdown Bomb\n",
    "## Task: Countdown from 30 to 1, skipping numbers divisible by 4.\n",
    "## Hint: Use while and an if condition to skip divisible-by-4 values.\n",
    "## Expected Output (partial):\n",
    "## 29 28 27 26 25 23 22 ... (no multiples of 4 like 28, 24, 20...)\n"
   ]
  },
  {
   "cell_type": "code",
   "execution_count": 2,
   "id": "d2debfa0-074a-4d03-ab6a-f342d9e7cfc8",
   "metadata": {},
   "outputs": [
    {
     "name": "stdout",
     "output_type": "stream",
     "text": [
      "30 29 27 26 25 23 22 21 19 18 17 15 14 13 11 10 9 7 6 5 3 2 1 "
     ]
    }
   ],
   "source": [
    "i=30\n",
    "while i>=1:\n",
    "    if i%4!=0:\n",
    "       print(i,end=' ')\n",
    "    i-=1"
   ]
  },
  {
   "cell_type": "markdown",
   "id": "32e855fc-ddc0-4b22-9556-219158f7d182",
   "metadata": {},
   "source": [
    "## 2. Digit Race\n",
    "## Task: Keep subtracting the sum of a number’s digits from itself until a single-digit remains.\n",
    "## Input Example: 987\n",
    "## Hint: Use a helper loop to calculate digit sum.\n",
    "## Expected Output:\n",
    "## 987 → 963 → 945 → ... → 9\n"
   ]
  },
  {
   "cell_type": "code",
   "execution_count": 14,
   "id": "48ee0444-e26a-41a8-ac40-44bb6d9c0227",
   "metadata": {},
   "outputs": [
    {
     "name": "stdin",
     "output_type": "stream",
     "text": [
      "Enter number 987\n"
     ]
    },
    {
     "name": "stdout",
     "output_type": "stream",
     "text": [
      "987 -> 963 -> 945 -> 927 -> 909 -> 891 -> 873 -> 855 -> 837 -> 819 -> 801 -> 792 -> 774 -> 756 -> 738 -> 720 -> 711 -> 702 -> 693 -> 675 -> 657 -> 639 -> 621 -> 612 -> 603 -> 594 -> 576 -> 558 -> 540 -> 531 -> 522 -> 513 -> 504 -> 495 -> 477 -> 459 -> 441 -> 432 -> 423 -> 414 -> 405 -> 396 -> 378 -> 360 -> 351 -> 342 -> 333 -> 324 -> 315 -> 306 -> 297 -> 279 -> 261 -> 252 -> 243 -> 234 -> 225 -> 216 -> 207 -> 198 -> 180 -> 171 -> 162 -> 153 -> 144 -> 135 -> 126 -> 117 -> 108 -> 99 -> 81 -> 72 -> 63 -> 54 -> 45 -> 36 -> 27 -> 18 -> 9 -> "
     ]
    }
   ],
   "source": [
    "num=int(input(\"Enter number\"))\n",
    "\n",
    "while num>0:\n",
    "        sum=0\n",
    "        for i in str(num):\n",
    "            sum+=int(i)\n",
    "        print(num,end=' -> ')\n",
    "        num=num-sum\n",
    "    \n"
   ]
  },
  {
   "cell_type": "markdown",
   "id": "cabc7158-d2e4-48e4-88e5-15853ee9b6a4",
   "metadata": {},
   "source": [
    "## 3. Password Retry System\n",
    "## Task: Ask the user for a password. Give 3 tries. Correct password is \"open123\".\n",
    "## Hint: Use a counter to track attempts.\n",
    "## Expected Output Example:\n",
    "\n",
    "## Enter password: test\n",
    "## Wrong password.\n",
    "## Enter password: hello\n",
    "## Wrong password.\n",
    "## Enter password: open123\n",
    "## Access granted!\n",
    "\n",
    "## Or, if all wrong:\n",
    "\n",
    "## Wrong password.\n",
    "## Wrong password.\n",
    "## Wrong password.\n",
    "## Account Locked.\n"
   ]
  },
  {
   "cell_type": "code",
   "execution_count": 27,
   "id": "2cebd825-8745-49ea-86ed-8827de1a43df",
   "metadata": {},
   "outputs": [
    {
     "name": "stdin",
     "output_type": "stream",
     "text": [
      "Enter password open123\n"
     ]
    },
    {
     "name": "stdout",
     "output_type": "stream",
     "text": [
      "Access granted!\n"
     ]
    }
   ],
   "source": [
    "\n",
    "correct=\"open123\"\n",
    "count=0\n",
    "\n",
    "count=1\n",
    "while count<=3:\n",
    "    password=input(\"Enter password\")\n",
    "    if password==correct:\n",
    "       print(\"Access granted!\")\n",
    "       break\n",
    "    \n",
    "    else:\n",
    "    \n",
    "        \n",
    "        if password!=correct:\n",
    "         print(\"Wrong password\")\n",
    "         \n",
    "            \n",
    "        if count==3:\n",
    "            print(\"Account Locked\")\n",
    "    count+=1\n"
   ]
  },
  {
   "cell_type": "markdown",
   "id": "da78b025-4d4c-4839-ac56-7db9aa2ecc0c",
   "metadata": {},
   "source": [
    "## 4. Odd One Out\n",
    "## Task: Print numbers from 1 to 50, skipping those divisible by 3 or 5.\n",
    "## Hint: Use modulo in an if condition inside while.\n",
    "## Expected Output (partial):\n",
    "## 1 2 4 7 8 11 ... (no 3, 5, 6, 9, 10, 12...)\n"
   ]
  },
  {
   "cell_type": "code",
   "execution_count": 3,
   "id": "dcf3d492-901b-4408-ba5b-25f5b052db08",
   "metadata": {},
   "outputs": [
    {
     "name": "stdout",
     "output_type": "stream",
     "text": [
      "1 2 4 7 8 11 13 14 16 17 19 22 23 26 28 29 31 32 34 37 38 41 43 44 46 47 49 "
     ]
    }
   ],
   "source": [
    "n=1\n",
    "while n<=50:\n",
    "    if n%3!=0 and n%5!=0:\n",
    "        print(n,end=' ')\n",
    "    n+=1\n",
    "    \n",
    "        "
   ]
  },
  {
   "cell_type": "markdown",
   "id": "d267be32-7757-44cb-8213-8509647cd526",
   "metadata": {},
   "source": [
    "## 5. Keep Dividing Till Odd\n",
    "## Task: Given a number, keep dividing by 2 until it becomes odd.\n",
    "## Input: 96\n",
    "## Hint: Use modulo to check evenness.\n",
    "## Expected Output:\n",
    "## 96 → 48 → 24 → 12 → 6 → 3\n",
    "## Final Output: 3\n"
   ]
  },
  {
   "cell_type": "code",
   "execution_count": 11,
   "id": "f490504f-d465-481a-b68e-95672e31283d",
   "metadata": {},
   "outputs": [
    {
     "name": "stdin",
     "output_type": "stream",
     "text": [
      "Enter number 96\n"
     ]
    },
    {
     "name": "stdout",
     "output_type": "stream",
     "text": [
      "96 -> 48 -> 24 -> 12 -> 6 -> 3\n"
     ]
    }
   ],
   "source": [
    "n=int(input(\"Enter number\"))\n",
    "while n%2==0:\n",
    "   \n",
    "    print(n,end=' -> ')\n",
    "    n=n//2\n",
    "print(n)   "
   ]
  },
  {
   "cell_type": "markdown",
   "id": "0c2cb1b9-377c-44a0-8ae7-d0cb0d88bc75",
   "metadata": {},
   "source": [
    "## 6. Stubborn Input\n",
    "## Task: Ask user to enter a word repeatedly until it starts and ends with the same letter.\n",
    "## Hint: Use string indexing and a while condition.\n",
    "## Example Interaction:\n",
    "## Enter a word: Python\n",
    "## Try again.\n",
    "## Enter a word: radar\n",
    "## Accepted!\n"
   ]
  },
  {
   "cell_type": "code",
   "execution_count": 1,
   "id": "aeb6b661-c1d4-41b7-883a-d53062e701e6",
   "metadata": {},
   "outputs": [
    {
     "name": "stdin",
     "output_type": "stream",
     "text": [
      "enter rad\n"
     ]
    },
    {
     "name": "stdout",
     "output_type": "stream",
     "text": [
      "Try again\n"
     ]
    },
    {
     "name": "stdin",
     "output_type": "stream",
     "text": [
      "enter radar\n"
     ]
    },
    {
     "name": "stdout",
     "output_type": "stream",
     "text": [
      "Accepted!\n"
     ]
    }
   ],
   "source": [
    "while True:\n",
    "    word=input(\"enter\")\n",
    "    if word[0].lower()==word[-1]:\n",
    "        print(\"Accepted!\")\n",
    "        break\n",
    "    else:\n",
    "        print('Try again')\n"
   ]
  },
  {
   "cell_type": "markdown",
   "id": "cf01d955-e626-4853-9aca-e73f86b68df7",
   "metadata": {},
   "source": [
    "## 7. Elevator Logic (Nested While)\n",
    "## Task: Elevator moves from floor 1 to 3. On each floor, door opens twice.\n",
    "##  Hint: Outer loop for floor, inner loop for door.\n",
    "## Expected Output:\n",
    "\n",
    "\n",
    "## Floor 1 - Door Open 1\n",
    "## Floor 1 - Door Open 2\n",
    "## Floor 2 - Door Open 1\n",
    "## Floor 2 - Door Open 2\n",
    "## Floor 3 - Door Open 1\n",
    "## Floor 3 - Door Open 2\n"
   ]
  },
  {
   "cell_type": "code",
   "execution_count": 2,
   "id": "91c66a63-9fee-4cd5-a651-e44e68ed2aa9",
   "metadata": {},
   "outputs": [
    {
     "name": "stdout",
     "output_type": "stream",
     "text": [
      "Floor 1 - Door Open 1\n",
      "Floor 1 - Door Open 2\n",
      "Floor 2 - Door Open 1\n",
      "Floor 2 - Door Open 2\n",
      "Floor 3 - Door Open 1\n",
      "Floor 3 - Door Open 2\n"
     ]
    }
   ],
   "source": [
    "i=1\n",
    "while i<=3:\n",
    "    door=1\n",
    "    while door<=2:\n",
    "        print(\"Floor\",i,\"-\",\"Door Open\",door)\n",
    "        door+=1\n",
    "    i+=1"
   ]
  },
  {
   "cell_type": "markdown",
   "id": "7f5e80da-817e-462f-9a72-258e9e2a531b",
   "metadata": {},
   "source": [
    "## 8. Number Splitter\n",
    "## Task: Split and print digits of a number from right to left.\n",
    "## Input: 54321\n",
    "## Hint: Use % and // to extract digits.\n",
    "## Expected Output:\n",
    "\n",
    "## 1\n",
    "## 2\n",
    "## 3\n",
    "## 4\n",
    "## 5\n"
   ]
  },
  {
   "cell_type": "code",
   "execution_count": 3,
   "id": "8454f621-7731-4b1f-9b8b-6e84b3fd463e",
   "metadata": {},
   "outputs": [
    {
     "name": "stdin",
     "output_type": "stream",
     "text": [
      "Enter number 54321\n"
     ]
    },
    {
     "name": "stdout",
     "output_type": "stream",
     "text": [
      "1\n",
      "2\n",
      "3\n",
      "4\n",
      "5\n"
     ]
    }
   ],
   "source": [
    "n=int(input(\"Enter number\"))\n",
    "while n!=0:\n",
    "    digit=n%10\n",
    "    print(digit)\n",
    "    n//=10"
   ]
  },
  {
   "cell_type": "markdown",
   "id": "b324d31f-0c9b-40fb-8fac-a27117c73818",
   "metadata": {},
   "source": [
    "## 9. Room Checker (Nested While)\n",
    "## Task: Print each room in a 3-floor hotel, 4 rooms per floor.\n",
    "## Hint: Outer while for floors, inner for rooms.\n",
    "## Expected Output:\n",
    "\n",
    "## Floor 1 - Room 1\n",
    "## Floor 1 - Room 2\n",
    "## ...\n",
    "## Floor 3 - Room 4\n"
   ]
  },
  {
   "cell_type": "code",
   "execution_count": 1,
   "id": "c2cdd135-6cd9-4e19-ac7f-da05f559a1ed",
   "metadata": {},
   "outputs": [
    {
     "name": "stdout",
     "output_type": "stream",
     "text": [
      "Floor 1 - Room 1\n",
      "Floor 1 - Room 2\n",
      "Floor 1 - Room 3\n",
      "Floor 1 - Room 4\n",
      "Floor 2 - Room 1\n",
      "Floor 2 - Room 2\n",
      "Floor 2 - Room 3\n",
      "Floor 2 - Room 4\n",
      "Floor 3 - Room 1\n",
      "Floor 3 - Room 2\n",
      "Floor 3 - Room 3\n",
      "Floor 3 - Room 4\n"
     ]
    }
   ],
   "source": [
    "floor=1\n",
    "while floor<=3:\n",
    "    room=1\n",
    "    while room<=4:\n",
    "        print(\"Floor\",floor,\"-\",\"Room\",room)\n",
    "        room+=1\n",
    "    floor+=1"
   ]
  },
  {
   "cell_type": "markdown",
   "id": "658c04c1-f65c-4616-aadc-7c180ebcb8d0",
   "metadata": {},
   "source": [
    "## 10. Product Stopper\n",
    "## Task: Start with 1 and multiply with next natural number until product > 1000.\n",
    "##  Hint: Track current product and number using a loop.\n",
    "##  Expected Output:\n",
    "\n",
    "## 1\n",
    "## 2\n",
    "## 6\n",
    "## 24\n",
    "## 120\n",
    "## 720\n",
    "## 5040\n",
    "## Stop at: 7\n"
   ]
  },
  {
   "cell_type": "code",
   "execution_count": 3,
   "id": "0592ed56-dedb-4d96-a8a3-1927fa5f1fc7",
   "metadata": {},
   "outputs": [
    {
     "name": "stdout",
     "output_type": "stream",
     "text": [
      "1\n",
      "2\n",
      "6\n",
      "24\n",
      "120\n",
      "720\n",
      "5040\n"
     ]
    }
   ],
   "source": [
    "prod=1\n",
    "i=1\n",
    "while prod<1000:\n",
    "    prod=prod*i\n",
    "    print(prod)\n",
    "    i+=1\n",
    "    \n",
    "    "
   ]
  },
  {
   "cell_type": "markdown",
   "id": "77d1c7de-fb86-4367-9f56-5ee51932dcab",
   "metadata": {},
   "source": [
    "## Transfer statements\n",
    "## 🔹 1. Skipping Banned Words\n",
    "##  You are filtering user comments. Skip any word that’s on the banned list and print only the allowed words.\n",
    "## comments = [\"nice\", \"spam\", \"great\", \"ad\", \"useful\"]\n",
    "## banned = [\"spam\", \"ad\"]\n",
    "## ✅ Task: Use continue to skip banned words.\n",
    "## 💡 Hint: Loop through the list, and if a word is in the banned list, skip the rest of the iteration.\n",
    "\n",
    "    "
   ]
  },
  {
   "cell_type": "code",
   "execution_count": 4,
   "id": "7dacfa5c-5b72-4649-920f-2b306fcf040f",
   "metadata": {},
   "outputs": [
    {
     "name": "stdout",
     "output_type": "stream",
     "text": [
      "nice\n",
      "great\n",
      "useful\n"
     ]
    }
   ],
   "source": [
    "comments = [\"nice\", \"spam\", \"great\", \"ad\", \"useful\"]\n",
    "banned = [\"spam\", \"ad\"]\n",
    "for i in comments:\n",
    "    if i in banned:\n",
    "        continue\n",
    "    else:\n",
    "        print(i)"
   ]
  },
  {
   "cell_type": "markdown",
   "id": "65337e80-5bc2-400d-9df3-3194ec29397b",
   "metadata": {},
   "source": [
    "## 🔹 2. Skipping Low Scores\n",
    "##  You are reviewing student test scores. Only consider scores greater than 60 to compute the average.\n",
    "## scores = [45, 89, 62, 30, 95, 56, 77]\n",
    "## ✅ Task: Skip scores ≤ 60 and calculate the average of remaining.\n",
    "## 💡 Hint: Use continue for skipping and maintain count and total.\n"
   ]
  },
  {
   "cell_type": "code",
   "execution_count": 5,
   "id": "e6f74600-e1ac-4cb8-88b9-33eaff777063",
   "metadata": {},
   "outputs": [
    {
     "name": "stdout",
     "output_type": "stream",
     "text": [
      "80.75\n"
     ]
    }
   ],
   "source": [
    "scores = [45, 89, 62, 30, 95, 56, 77]\n",
    "total=0\n",
    "count=0\n",
    "for i in scores:\n",
    "    if i<=60:\n",
    "        continue\n",
    "    else:\n",
    "        total=total+i\n",
    "        count+=1\n",
    "average=total/count\n",
    "print(average)\n",
    "\n"
   ]
  },
  {
   "cell_type": "markdown",
   "id": "2314289a-3286-40e9-99f3-ca640ca9c12a",
   "metadata": {},
   "source": [
    "## 🔹 3. Stop at First Negative\n",
    "## You’re analyzing a stream of sensor readings. Stop checking once you hit the first negative number.\n",
    "## readings = [15, 20, 13, 18, -4, 17, 22]\n",
    "## ✅ Task: Print readings until the first negative.\n",
    "## 💡 Hint: Use a loop and break as soon as a number is < 0.\n"
   ]
  },
  {
   "cell_type": "code",
   "execution_count": 6,
   "id": "9cc840c4-d154-4f4b-a3e2-bd77e7796c9a",
   "metadata": {},
   "outputs": [
    {
     "name": "stdout",
     "output_type": "stream",
     "text": [
      "15\n",
      "20\n",
      "13\n",
      "18\n"
     ]
    }
   ],
   "source": [
    "readings = [15, 20, 13, 18, -4, 17, 22]\n",
    "for i in readings:\n",
    "    if i<0:\n",
    "        break\n",
    "    else:\n",
    "        print(i)"
   ]
  },
  {
   "cell_type": "markdown",
   "id": "6d684717-e9b8-4582-bf5e-96e36894c558",
   "metadata": {},
   "source": [
    "## 🔹 4. Find First Divisible by 13\n",
    "## Find the first number between 100 and 150 that is divisible by 13.\n",
    "## ✅ Task: Loop through the range and break once found.\n",
    "## 💡 Hint: Use modulo operator % and break once condition is met.\n"
   ]
  },
  {
   "cell_type": "code",
   "execution_count": 7,
   "id": "347fc1ef-1116-4299-99c7-2abf9da0df5d",
   "metadata": {},
   "outputs": [
    {
     "name": "stdout",
     "output_type": "stream",
     "text": [
      "104\n"
     ]
    }
   ],
   "source": [
    "for i in range(100,151):\n",
    "    if i%13==0:\n",
    "        print(i)\n",
    "        break\n",
    "    "
   ]
  },
  {
   "cell_type": "markdown",
   "id": "d11acafd-8cec-4556-abb1-ac85946a2aaa",
   "metadata": {},
   "source": [
    "## 🔹 5. Placeholder for Unfinished Feature\n",
    "##  You're writing a game. You’ve added a loop to handle actions, but haven’t yet coded the \"attack\" action. For now, just use pass.\n",
    "## actions = [\"move\", \"jump\", \"attack\", \"run\"]\n",
    "## ✅ Task: Use pass for \"attack\" and print the rest normally.\n",
    "## 💡 Hint: Use an if condition to detect \"attack\" and do nothing for it.\n"
   ]
  },
  {
   "cell_type": "code",
   "execution_count": 11,
   "id": "5fc53f19-2e83-4d29-8d84-d88c967cf2e9",
   "metadata": {},
   "outputs": [
    {
     "name": "stdout",
     "output_type": "stream",
     "text": [
      "move\n",
      "jump\n",
      "run\n"
     ]
    }
   ],
   "source": [
    "actions = [\"move\", \"jump\", \"attack\", \"run\"]\n",
    "act=[]\n",
    "for i in actions:\n",
    "    if i==\"attack\":\n",
    "        pass\n",
    "    else:\n",
    "        print(i)"
   ]
  },
  {
   "cell_type": "markdown",
   "id": "7eb9bfe5-f2be-4f72-8780-c8c10403eb56",
   "metadata": {},
   "source": [
    "## 🔹 6. Even Number Handler (Future Placeholder)\n",
    "## Loop through a list of numbers. If the number is even, you plan to add logic later, but for now, just use pass. Print only odd numbers.\n",
    "## nums = [10, 7, 12, 15, 8, 9]\n",
    "## ✅ Task: Use pass for even numbers and print odd ones only.\n",
    "## 💡 Hint: Use if num % 2 == 0: pass, and else print the number.\n"
   ]
  },
  {
   "cell_type": "code",
   "execution_count": 12,
   "id": "27f2b20f-9c4a-481c-afec-d5fb06079bec",
   "metadata": {},
   "outputs": [
    {
     "name": "stdout",
     "output_type": "stream",
     "text": [
      "7\n",
      "15\n",
      "9\n"
     ]
    }
   ],
   "source": [
    "nums = [10, 7, 12, 15, 8, 9]\n",
    "for i in nums:\n",
    "    if i%2==0:\n",
    "        pass\n",
    "    else:\n",
    "        print(i)"
   ]
  },
  {
   "cell_type": "code",
   "execution_count": null,
   "id": "49a0b082-af12-4155-8201-75e6aa12e9bb",
   "metadata": {},
   "outputs": [],
   "source": []
  }
 ],
 "metadata": {
  "kernelspec": {
   "display_name": "Python 3 (ipykernel)",
   "language": "python",
   "name": "python3"
  },
  "language_info": {
   "codemirror_mode": {
    "name": "ipython",
    "version": 3
   },
   "file_extension": ".py",
   "mimetype": "text/x-python",
   "name": "python",
   "nbconvert_exporter": "python",
   "pygments_lexer": "ipython3",
   "version": "3.13.5"
  }
 },
 "nbformat": 4,
 "nbformat_minor": 5
}
