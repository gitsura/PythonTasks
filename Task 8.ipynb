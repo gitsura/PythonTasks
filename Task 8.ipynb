{
 "cells": [
  {
   "cell_type": "markdown",
   "id": "6ba3d833-5415-4192-ab82-2611ce1a2422",
   "metadata": {},
   "source": [
    "## LIST METHODS\n",
    "## 1. append()\n",
    "## fruits = [\"apple\", \"banana\", \"orange\"]\n",
    "## Task: Add \"kiwi\" to the end of the `fruits` list using a list method.\n",
    "\n"
   ]
  },
  {
   "cell_type": "code",
   "execution_count": 5,
   "id": "b0e4a4eb-e339-4bb6-ae23-ff5f6015f66f",
   "metadata": {},
   "outputs": [
    {
     "data": {
      "text/plain": [
       "['apple', 'banana', 'orange', 'kiwi']"
      ]
     },
     "execution_count": 5,
     "metadata": {},
     "output_type": "execute_result"
    }
   ],
   "source": [
    "fruits = [\"apple\", \"banana\", \"orange\"]\n",
    "fruits.append(\"kiwi\")\n",
    "fruits"
   ]
  },
  {
   "cell_type": "markdown",
   "id": "b2907948-ef52-4553-a097-4071cbe424d3",
   "metadata": {},
   "source": [
    "## 2. extend()\n",
    "## day1_sales = [1200, 950, 1130]\n",
    "## day2_sales = [1010, 990]\n",
    "## Task: Merge the values of `day2_sales` into `day1_sales` so that it contains all five sales figures.\n"
   ]
  },
  {
   "cell_type": "code",
   "execution_count": 3,
   "id": "6dbec83e-a593-4a5f-abcd-92e9b877f2cb",
   "metadata": {},
   "outputs": [
    {
     "data": {
      "text/plain": [
       "[1200, 950, 1130, 1010, 990]"
      ]
     },
     "execution_count": 3,
     "metadata": {},
     "output_type": "execute_result"
    }
   ],
   "source": [
    "day1_sales = [1200, 950, 1130]\n",
    "day2_sales = [1010, 990]\n",
    "day1_sales.extend(day2_sales)\n",
    "day1_sales"
   ]
  },
  {
   "cell_type": "markdown",
   "id": "f2acf47c-9abe-4e49-89d5-aa0fe64021a1",
   "metadata": {},
   "source": [
    "## 3. insert()\n",
    "## itinerary = [\"New York\", \"London\", \"Tokyo\"]\n",
    "## Task: Insert \"Paris\" so that it becomes the second element in `itinerary`.\n"
   ]
  },
  {
   "cell_type": "code",
   "execution_count": 4,
   "id": "c88648e2-9688-4576-9a09-27d1d5a28a61",
   "metadata": {},
   "outputs": [
    {
     "data": {
      "text/plain": [
       "['New York', 'Paris', 'London', 'Tokyo']"
      ]
     },
     "execution_count": 4,
     "metadata": {},
     "output_type": "execute_result"
    }
   ],
   "source": [
    "itinerary = [\"New York\", \"London\", \"Tokyo\"]\n",
    "itinerary.insert(1,\"Paris\")\n",
    "itinerary"
   ]
  },
  {
   "cell_type": "markdown",
   "id": "ed5b88b2-5594-46a0-bed9-f788403188bf",
   "metadata": {},
   "source": [
    "## 4. remove()\n",
    "## scores = [0, 3, 0, 6, 9]\n",
    "## Task: Remove the first occurrence of 0 from `scores`.\n"
   ]
  },
  {
   "cell_type": "code",
   "execution_count": 7,
   "id": "adaf79cb-b22d-4229-82dc-3a0fdfc33176",
   "metadata": {},
   "outputs": [
    {
     "data": {
      "text/plain": [
       "[3, 0, 6, 9]"
      ]
     },
     "execution_count": 7,
     "metadata": {},
     "output_type": "execute_result"
    }
   ],
   "source": [
    "scores = [0, 3, 0, 6, 9]\n",
    "scores.remove(0)\n",
    "scores"
   ]
  },
  {
   "cell_type": "markdown",
   "id": "7d307364-0ac8-4a70-83ca-f8d4235739b0",
   "metadata": {},
   "source": [
    "## 5. pop()\n",
    "## stack = [\"init\", \"load\", \"render\", \"close\"]\n",
    "## Task: Pop the last element from `stack` and store it in a variable named `popped`.\n",
    "\n"
   ]
  },
  {
   "cell_type": "code",
   "execution_count": 9,
   "id": "58810136-24a7-4384-b98d-6a078e81e38f",
   "metadata": {},
   "outputs": [
    {
     "data": {
      "text/plain": [
       "'close'"
      ]
     },
     "execution_count": 9,
     "metadata": {},
     "output_type": "execute_result"
    }
   ],
   "source": [
    "stack = [\"init\", \"load\", \"render\", \"close\"]\n",
    "popped=stack.pop()\n",
    "popped"
   ]
  },
  {
   "cell_type": "markdown",
   "id": "a300c739-f5c6-4606-8a71-0759ab20ebbb",
   "metadata": {},
   "source": [
    "## 6. clear()\n",
    "## cart = [\"milk\", \"bread\", \"eggs\"]\n",
    "## Task: Empty the `cart` list.\n"
   ]
  },
  {
   "cell_type": "code",
   "execution_count": 10,
   "id": "2b1ecf21-ed54-456b-8b7e-404297643724",
   "metadata": {},
   "outputs": [
    {
     "data": {
      "text/plain": [
       "[]"
      ]
     },
     "execution_count": 10,
     "metadata": {},
     "output_type": "execute_result"
    }
   ],
   "source": [
    "cart = [\"milk\", \"bread\", \"eggs\"]\n",
    "cart.clear()\n",
    "cart"
   ]
  },
  {
   "cell_type": "markdown",
   "id": "26ac16a0-aa48-4b60-9a1c-3362570f9159",
   "metadata": {},
   "source": [
    "##  7. index()\n",
    "## langs = [\"C\", \"C++\", \"Python\", \"Java\", \"Rust\"]\n",
    "## Task: Find the position of \"Python\" in `langs` and store it in `py_pos`.\n"
   ]
  },
  {
   "cell_type": "code",
   "execution_count": 11,
   "id": "7c7325b4-b417-416f-8b0e-f8a3a0df5a12",
   "metadata": {},
   "outputs": [
    {
     "data": {
      "text/plain": [
       "2"
      ]
     },
     "execution_count": 11,
     "metadata": {},
     "output_type": "execute_result"
    }
   ],
   "source": [
    "langs = [\"C\", \"C++\", \"Python\", \"Java\", \"Rust\"]\n",
    "py_pos=langs.index(\"Python\")\n",
    "py_pos"
   ]
  },
  {
   "cell_type": "markdown",
   "id": "a923cbdf-33a7-4395-a679-ddf98eb0110d",
   "metadata": {},
   "source": [
    "## 8. count()\n",
    "## logs = [200, 404, 404, 301, 404, 500]\n",
    "## Task: Count how many times 404 appears in `logs` and store the result in `err_404_count`.\n",
    "\n",
    "\n"
   ]
  },
  {
   "cell_type": "code",
   "execution_count": 12,
   "id": "a3061472-aa80-471b-b3e7-15c2f5aa30c0",
   "metadata": {},
   "outputs": [
    {
     "data": {
      "text/plain": [
       "3"
      ]
     },
     "execution_count": 12,
     "metadata": {},
     "output_type": "execute_result"
    }
   ],
   "source": [
    "logs = [200, 404, 404, 301, 404, 500]\n",
    "err_404_count=logs.count(404)\n",
    "err_404_count"
   ]
  },
  {
   "cell_type": "markdown",
   "id": "f00073fd-bb7a-4753-8e8e-3213d83c5346",
   "metadata": {},
   "source": [
    "##  9. sort()\n",
    "## prices = [19.99, 5.49, 12.50, 99.95]\n",
    "## Task: Sort `prices` in ascending order.\n",
    "\n"
   ]
  },
  {
   "cell_type": "code",
   "execution_count": 13,
   "id": "8db15ef8-c3cd-4a3b-bfa6-138136e32e61",
   "metadata": {},
   "outputs": [
    {
     "data": {
      "text/plain": [
       "[5.49, 12.5, 19.99, 99.95]"
      ]
     },
     "execution_count": 13,
     "metadata": {},
     "output_type": "execute_result"
    }
   ],
   "source": [
    "prices = [19.99, 5.49, 12.50, 99.95]\n",
    "prices.sort()\n",
    "prices"
   ]
  },
  {
   "cell_type": "markdown",
   "id": "b07d1569-38fd-4b71-a040-90d6c5e10518",
   "metadata": {},
   "source": [
    "##  10. reverse()\n",
    "## playlist = [\"Intro\", \"Beat\", \"Solo\", \"Outro\"]\n",
    "## Task: Reverse the order of tracks in `playlist`.\n",
    "\n"
   ]
  },
  {
   "cell_type": "code",
   "execution_count": 14,
   "id": "16f9b95e-3161-47f0-8637-22ec6a60ba66",
   "metadata": {},
   "outputs": [
    {
     "data": {
      "text/plain": [
       "['Outro', 'Solo', 'Beat', 'Intro']"
      ]
     },
     "execution_count": 14,
     "metadata": {},
     "output_type": "execute_result"
    }
   ],
   "source": [
    "playlist = [\"Intro\", \"Beat\", \"Solo\", \"Outro\"]\n",
    "playlist.reverse()\n",
    "playlist"
   ]
  },
  {
   "cell_type": "markdown",
   "id": "f0f1b9b1-f4db-4574-94b7-37243923d889",
   "metadata": {},
   "source": [
    "## 11. copy()\n",
    "## students = [\"Arun\", \"Bella\", \"Carl\"]\n",
    "## Task: Create a shallow copy of `students` called `students_copy`.\n"
   ]
  },
  {
   "cell_type": "code",
   "execution_count": 15,
   "id": "e87849ae-8806-48ad-9813-3cd3ad0bc71c",
   "metadata": {},
   "outputs": [
    {
     "data": {
      "text/plain": [
       "['Arun', 'Bella', 'Carl']"
      ]
     },
     "execution_count": 15,
     "metadata": {},
     "output_type": "execute_result"
    }
   ],
   "source": [
    "students = [\"Arun\", \"Bella\", \"Carl\"]\n",
    "students_copy=students.copy()\n",
    "students_copy"
   ]
  },
  {
   "cell_type": "markdown",
   "id": "4320a243-32fb-4caa-85cb-d62692ecf7a1",
   "metadata": {},
   "source": [
    "## TUPLE METHODS\n",
    "## 12. count()\n",
    "## dice_rolls = (1, 3, 5, 7, 7, 2, 7)\n",
    "## Task: Count how many times 7 appears in `dice_rolls` and store in `sevens`.\n"
   ]
  },
  {
   "cell_type": "code",
   "execution_count": 16,
   "id": "a5383cf3-7735-45cd-bbcf-f46101dedf0d",
   "metadata": {},
   "outputs": [
    {
     "data": {
      "text/plain": [
       "3"
      ]
     },
     "execution_count": 16,
     "metadata": {},
     "output_type": "execute_result"
    }
   ],
   "source": [
    "dice_rolls = (1, 3, 5, 7, 7, 2, 7)\n",
    "sevens=dice_rolls.count(7)\n",
    "sevens"
   ]
  },
  {
   "cell_type": "markdown",
   "id": "f5bc6fcf-d728-427e-b9ca-dcebe4b35984",
   "metadata": {},
   "source": [
    "##  13. index()\n",
    "## week_days = (\"Monday\", \"Tuesday\", \"Wednesday\", \"Sunday\", \"Thursday\")\n",
    "## Task: Find the index of \"Sunday\" in `week_days` and assign it to `sun_idx`.\n",
    "\n"
   ]
  },
  {
   "cell_type": "code",
   "execution_count": 17,
   "id": "3241433d-095e-4252-b8b1-d0ac564a1d89",
   "metadata": {},
   "outputs": [
    {
     "data": {
      "text/plain": [
       "3"
      ]
     },
     "execution_count": 17,
     "metadata": {},
     "output_type": "execute_result"
    }
   ],
   "source": [
    "week_days = (\"Monday\", \"Tuesday\", \"Wednesday\", \"Sunday\", \"Thursday\")\n",
    "sun_idx=week_days.index(\"Sunday\")\n",
    "sun_idx"
   ]
  },
  {
   "cell_type": "markdown",
   "id": "b19e4b97-87e1-475a-8394-1d14ed7e7525",
   "metadata": {},
   "source": [
    "## 14. add()\n",
    "## basket = {\"apple\", \"banana\"}\n",
    "## Task: Add \"grape\" to `basket`.\n",
    "\n",
    "\n"
   ]
  },
  {
   "cell_type": "code",
   "execution_count": 18,
   "id": "a8ab4bef-8027-4450-bbea-9527afd94193",
   "metadata": {},
   "outputs": [
    {
     "data": {
      "text/plain": [
       "{'apple', 'banana', 'grape'}"
      ]
     },
     "execution_count": 18,
     "metadata": {},
     "output_type": "execute_result"
    }
   ],
   "source": [
    "basket = {\"apple\", \"banana\"}\n",
    "basket.add(\"grape\")\n",
    "basket"
   ]
  },
  {
   "cell_type": "markdown",
   "id": "d3ce5b83-1001-4363-8d2d-1a653c3de88d",
   "metadata": {},
   "source": [
    "## 15. clear()\n",
    "## stale_cache = {\"item1\", \"item2\"}\n",
    "## Task: Empty the `stale_cache` set.\n"
   ]
  },
  {
   "cell_type": "code",
   "execution_count": 19,
   "id": "657b21ed-180d-4070-95bc-d86587998213",
   "metadata": {},
   "outputs": [
    {
     "data": {
      "text/plain": [
       "set()"
      ]
     },
     "execution_count": 19,
     "metadata": {},
     "output_type": "execute_result"
    }
   ],
   "source": [
    "stale_cache = {\"item1\", \"item2\"}\n",
    "stale_cache.clear()\n",
    "stale_cache"
   ]
  },
  {
   "cell_type": "markdown",
   "id": "3ee021a2-1adb-431e-9d15-67276f958004",
   "metadata": {},
   "source": [
    "##  16. copy()\n",
    "## auth_tokens = {\"abc\", \"def\", \"ghi\"}\n",
    "## Task: Create a duplicate set `auth_tokens_copy` from `auth_tokens`.\n",
    "\n"
   ]
  },
  {
   "cell_type": "code",
   "execution_count": 20,
   "id": "91c6c4ba-9fb6-4fd7-b06f-0addaef1314a",
   "metadata": {},
   "outputs": [
    {
     "data": {
      "text/plain": [
       "{'abc', 'def', 'ghi'}"
      ]
     },
     "execution_count": 20,
     "metadata": {},
     "output_type": "execute_result"
    }
   ],
   "source": [
    "auth_tokens = {\"abc\", \"def\", \"ghi\"}\n",
    "auth_tokens_copy=auth_tokens.copy()\n",
    "auth_tokens_copy"
   ]
  },
  {
   "cell_type": "markdown",
   "id": "4ea3c9df-69c7-4c33-af5a-6cba7b7cdce3",
   "metadata": {},
   "source": [
    "##  17. difference()\n",
    "## wedding_guests = {\"Alice\", \"Bob\", \"Cory\"}\n",
    "## reception_guests = {\"Alice\", \"Cory\"}\n",
    "## Task: Determine which guests attended the wedding but missed the reception and store them in `only_wedding`.\n"
   ]
  },
  {
   "cell_type": "code",
   "execution_count": 23,
   "id": "dc6b2c3d-deb9-4b86-8018-fa7bd364e2aa",
   "metadata": {},
   "outputs": [
    {
     "data": {
      "text/plain": [
       "{'Bob'}"
      ]
     },
     "execution_count": 23,
     "metadata": {},
     "output_type": "execute_result"
    }
   ],
   "source": [
    "wedding_guests = {\"Alice\", \"Bob\", \"Cory\"}\n",
    "reception_guests = {\"Alice\", \"Cory\"}\n",
    "only_wedding=wedding_guests.difference(reception_guests)\n",
    "only_wedding"
   ]
  },
  {
   "cell_type": "markdown",
   "id": "7c8300e1-9170-417d-8614-8f934545fa9d",
   "metadata": {},
   "source": [
    "##  18. difference_update()\n",
    "## active_users = {\"u1\", \"u2\", \"u3\", \"banned\"}\n",
    "## banned_users = {\"banned\"}\n",
    "## Task: Remove all `banned_users` from `active_users` in place.\n",
    "\n"
   ]
  },
  {
   "cell_type": "code",
   "execution_count": 24,
   "id": "38813321-87b3-465e-8ae6-d44f2a76830f",
   "metadata": {},
   "outputs": [
    {
     "data": {
      "text/plain": [
       "{'u1', 'u2', 'u3'}"
      ]
     },
     "execution_count": 24,
     "metadata": {},
     "output_type": "execute_result"
    }
   ],
   "source": [
    "active_users = {\"u1\", \"u2\", \"u3\", \"banned\"}\n",
    "banned_users = {\"banned\"}\n",
    "active_users.difference_update(banned_users)\n",
    "active_users"
   ]
  },
  {
   "cell_type": "markdown",
   "id": "5487cb32-8f2a-4c56-a298-1710848de3ac",
   "metadata": {},
   "source": [
    "##  19. discard()\n",
    "## temp_files = {\"a.tmp\", \"b.tmp\"}\n",
    "## Task: Safely remove \"tmp\" (note the missing dot) from `temp_files` without raising an error.\n"
   ]
  },
  {
   "cell_type": "code",
   "execution_count": 29,
   "id": "a38037cb-5605-4f5e-80f4-4db75974b8c4",
   "metadata": {},
   "outputs": [
    {
     "data": {
      "text/plain": [
       "{'a.tmp', 'b.tmp'}"
      ]
     },
     "execution_count": 29,
     "metadata": {},
     "output_type": "execute_result"
    }
   ],
   "source": [
    "temp_files = {\"a.tmp\", \"b.tmp\"}\n",
    "temp_files.discard(\"tmp\")\n",
    "temp_files"
   ]
  },
  {
   "cell_type": "markdown",
   "id": "fe9c955e-c624-4ed8-8c70-6600573602a2",
   "metadata": {},
   "source": [
    "##  20. intersection()\n",
    "## visited_2024 = {\"Rome\", \"Berlin\", \"Oslo\"}\n",
    "## visited_2025 = {\"Oslo\", \"Cairo\", \"Berlin\"}\n",
    "## Task: Create `visited_both_years` containing cities present in both sets.\n",
    "\n",
    "\n",
    "\n"
   ]
  },
  {
   "cell_type": "code",
   "execution_count": 30,
   "id": "74b148e4-30a4-4fc1-a220-2e0d465f9c0c",
   "metadata": {},
   "outputs": [
    {
     "data": {
      "text/plain": [
       "{'Berlin', 'Oslo'}"
      ]
     },
     "execution_count": 30,
     "metadata": {},
     "output_type": "execute_result"
    }
   ],
   "source": [
    "visited_2024 = {\"Rome\", \"Berlin\", \"Oslo\"}\n",
    "visited_2025 = {\"Oslo\", \"Cairo\", \"Berlin\"}\n",
    "visited_both_years=visited_2024.intersection(visited_2025)\n",
    "visited_both_years"
   ]
  },
  {
   "cell_type": "markdown",
   "id": "066ff542-95db-40e4-bb38-d1dcac4f03bc",
   "metadata": {},
   "source": [
    "## 21. intersection_update()\n",
    "## followers = {\"you\", \"friend1\", \"friend2\"}\n",
    "## following = {\"friend1\", \"celebrity\"}\n",
    "## Task: Update `followers` so it keeps only mutual follows with `following`.\n",
    "\n"
   ]
  },
  {
   "cell_type": "code",
   "execution_count": 31,
   "id": "3acfe560-ef40-4fbd-b9fc-8ec3646763fe",
   "metadata": {},
   "outputs": [
    {
     "data": {
      "text/plain": [
       "{'friend1'}"
      ]
     },
     "execution_count": 31,
     "metadata": {},
     "output_type": "execute_result"
    }
   ],
   "source": [
    "followers = {\"you\", \"friend1\", \"friend2\"}\n",
    "following = {\"friend1\", \"celebrity\"}\n",
    "followers.intersection_update(following)\n",
    "followers"
   ]
  },
  {
   "cell_type": "markdown",
   "id": "27603f42-163b-4503-8ad4-3d28b9e3fa72",
   "metadata": {},
   "source": [
    "## 22. pop()\n",
    "## lottery_numbers = {7, 11, 25, 42}\n",
    "## Task: Pop an arbitrary element from `lottery_numbers` and assign it to `picked`.\n"
   ]
  },
  {
   "cell_type": "code",
   "execution_count": 32,
   "id": "9f817de0-e29f-4188-8a2c-48c4b08af4e7",
   "metadata": {},
   "outputs": [
    {
     "data": {
      "text/plain": [
       "25"
      ]
     },
     "execution_count": 32,
     "metadata": {},
     "output_type": "execute_result"
    }
   ],
   "source": [
    "lottery_numbers = {7, 11, 25, 42}\n",
    "picked=lottery_numbers.pop()\n",
    "picked"
   ]
  },
  {
   "cell_type": "markdown",
   "id": "06f4fd5b-4bfc-4cfc-b41c-020a596c4d7b",
   "metadata": {},
   "source": [
    "## 23. remove()\n",
    "## document_states = {\"draft\", \"review\", \"published\"}\n",
    "## Task: Remove \"draft\" from `document_states`. (Raise an error if it doesn't exist.)\n"
   ]
  },
  {
   "cell_type": "code",
   "execution_count": 33,
   "id": "6f7ee827-cfb7-48f6-a855-e06802efef3a",
   "metadata": {},
   "outputs": [
    {
     "data": {
      "text/plain": [
       "{'published', 'review'}"
      ]
     },
     "execution_count": 33,
     "metadata": {},
     "output_type": "execute_result"
    }
   ],
   "source": [
    "document_states = {\"draft\", \"review\", \"published\"}\n",
    "document_states.remove(\"draft\")\n",
    "document_states "
   ]
  },
  {
   "cell_type": "markdown",
   "id": "9e7b2d67-2eb4-40b6-8a9d-bf3419e2123c",
   "metadata": {},
   "source": [
    "##  24. symmetric_difference()\n",
    "## east_region = {\"A\", \"B\", \"C\"}\n",
    "## west_region = {\"B\", \"C\", \"D\"}\n",
    "## Task: Create `unique_customers` containing customers exclusive to either region.\n"
   ]
  },
  {
   "cell_type": "code",
   "execution_count": 34,
   "id": "2494d618-e0be-4384-bc48-3a175e607a70",
   "metadata": {},
   "outputs": [
    {
     "data": {
      "text/plain": [
       "{'A', 'D'}"
      ]
     },
     "execution_count": 34,
     "metadata": {},
     "output_type": "execute_result"
    }
   ],
   "source": [
    "east_region = {\"A\", \"B\", \"C\"}\n",
    "west_region = {\"B\", \"C\", \"D\"}\n",
    "unique_customers=east_region.symmetric_difference(west_region)\n",
    "unique_customers"
   ]
  },
  {
   "cell_type": "markdown",
   "id": "d0fdc309-499b-4919-b8bc-bf64504c6814",
   "metadata": {},
   "source": [
    "##  25. symmetric_difference_update()\n",
    "## warehouse_a = {\"p1\", \"p2\", \"p3\"}\n",
    "## warehouse_b = {\"p2\", \"p3\", \"p4\"}\n",
    "## inventory_changes = warehouse_a.copy()\n",
    "## Task: Update `inventory_changes` to keep only products that differ between `warehouse_a` and `warehouse_b`.\n"
   ]
  },
  {
   "cell_type": "code",
   "execution_count": 42,
   "id": "6ac3dbc4-0ca0-4843-b219-f241413c6dbb",
   "metadata": {},
   "outputs": [
    {
     "data": {
      "text/plain": [
       "{'p1', 'p4'}"
      ]
     },
     "execution_count": 42,
     "metadata": {},
     "output_type": "execute_result"
    }
   ],
   "source": [
    "warehouse_a = {\"p1\", \"p2\", \"p3\"}\n",
    "warehouse_b = {\"p2\", \"p3\", \"p4\"}\n",
    "inventory_changes = warehouse_a.symmetric_difference_update(warehouse_b)\n",
    "inventory_changes = warehouse_a.copy()\n",
    "inventory_changes"
   ]
  },
  {
   "cell_type": "markdown",
   "id": "c8070522-80b0-4cae-afb2-e3e3ad723fc0",
   "metadata": {},
   "source": [
    "##  26. union()\n",
    "## alumni_2010 = {\"Anne\", \"Ben\"}\n",
    "## alumni_2011 = {\"Ben\", \"Cara\"}\n",
    "## Task: Create `alumni_all` containing everyone who graduated in 2010 or 2011.\n",
    "\n"
   ]
  },
  {
   "cell_type": "code",
   "execution_count": 43,
   "id": "0de4c174-d3d4-4232-9db9-3d2babe070ff",
   "metadata": {},
   "outputs": [
    {
     "data": {
      "text/plain": [
       "{'Anne', 'Ben', 'Cara'}"
      ]
     },
     "execution_count": 43,
     "metadata": {},
     "output_type": "execute_result"
    }
   ],
   "source": [
    "alumni_2010 = {\"Anne\", \"Ben\"}\n",
    "alumni_2011 = {\"Ben\", \"Cara\"}\n",
    "alumni_all=alumni_2010.union(alumni_2011)\n",
    "alumni_all"
   ]
  },
  {
   "cell_type": "markdown",
   "id": "64a542da-fca5-4b73-8751-eef3addc4159",
   "metadata": {},
   "source": [
    "##  27. update()\n",
    "## club_members = {\"Ravi\", \"Sara\"}\n",
    "## new_members = {\"Tom\", \"Uma\"}\n",
    "## Task: Add all `new_members` to `club_members` in place.\n"
   ]
  },
  {
   "cell_type": "code",
   "execution_count": 44,
   "id": "0c1aec36-85c8-4fa9-a3bf-b715abed54f9",
   "metadata": {},
   "outputs": [
    {
     "data": {
      "text/plain": [
       "{'Ravi', 'Sara', 'Tom', 'Uma'}"
      ]
     },
     "execution_count": 44,
     "metadata": {},
     "output_type": "execute_result"
    }
   ],
   "source": [
    "club_members = {\"Ravi\", \"Sara\"}\n",
    "new_members = {\"Tom\", \"Uma\"}\n",
    "club_members.update(new_members)\n",
    "club_members\n"
   ]
  },
  {
   "cell_type": "markdown",
   "id": "03cf55af-3ae5-4a5b-82e1-962ec248cd7c",
   "metadata": {},
   "source": [
    "## DICTIONARY METHODS\n",
    "## 28. clear()\n",
    "## purchase_order = {\"id\": 123, \"items\": 4, \"total\": 250.0}\n",
    "## Task: Remove all key–value pairs from `purchase_order`.\n",
    "\n",
    "\n"
   ]
  },
  {
   "cell_type": "code",
   "execution_count": 45,
   "id": "ba616485-eaef-4bab-a620-13a0da5e01a9",
   "metadata": {},
   "outputs": [
    {
     "data": {
      "text/plain": [
       "{}"
      ]
     },
     "execution_count": 45,
     "metadata": {},
     "output_type": "execute_result"
    }
   ],
   "source": [
    "purchase_order = {\"id\": 123, \"items\": 4, \"total\": 250.0}\n",
    "purchase_order.clear()\n",
    "purchase_order"
   ]
  },
  {
   "cell_type": "markdown",
   "id": "3ac119eb-ddc7-4ea1-81d9-02fab4098678",
   "metadata": {},
   "source": [
    "## 29. copy()\n",
    "## settings = {\"volume\": 80, \"brightness\": 60}\n",
    "## Task: Create `settings_backup` as a shallow copy of `settings`.\n"
   ]
  },
  {
   "cell_type": "code",
   "execution_count": 46,
   "id": "e0b30a09-bea5-4324-a54c-ec111293702c",
   "metadata": {},
   "outputs": [
    {
     "data": {
      "text/plain": [
       "{'volume': 80, 'brightness': 60}"
      ]
     },
     "execution_count": 46,
     "metadata": {},
     "output_type": "execute_result"
    }
   ],
   "source": [
    "settings = {\"volume\": 80, \"brightness\": 60}\n",
    "settings_backup=settings.copy()\n",
    "settings_backup"
   ]
  },
  {
   "cell_type": "markdown",
   "id": "435ccb06-20fe-4558-9cf5-4b57881a59d1",
   "metadata": {},
   "source": [
    "##  30. fromkeys()\n",
    "## players = [\"Alice\", \"Bob\", \"Cara\"]\n",
    "## Task: Create `initial_scores` dict with each player’s score set to 0 using `fromkeys()`.\n",
    "\n"
   ]
  },
  {
   "cell_type": "code",
   "execution_count": 57,
   "id": "5b7e4474-2600-4760-9514-37655dc6508b",
   "metadata": {},
   "outputs": [
    {
     "data": {
      "text/plain": [
       "{'Alice': 0, 'Bob': 0, 'Cara': 0}"
      ]
     },
     "execution_count": 57,
     "metadata": {},
     "output_type": "execute_result"
    }
   ],
   "source": [
    "players = [\"Alice\", \"Bob\", \"Cara\"]\n",
    "initial_scores=dict.fromkeys(players,0)\n",
    "initial_scores"
   ]
  },
  {
   "cell_type": "markdown",
   "id": "239f0839-b606-4127-a08e-8681753e3dd0",
   "metadata": {},
   "source": [
    "## 31. get()\n",
    "## config = {\"host\": \"localhost\", \"port\": 8080}\n",
    "## Task: Safely retrieve \"timeout\" from `config`, defaulting to 30, and store in `timeout_val`.\n"
   ]
  },
  {
   "cell_type": "code",
   "execution_count": 58,
   "id": "f9dabbaf-70ec-4ff5-8bad-cce8083d05ea",
   "metadata": {},
   "outputs": [
    {
     "data": {
      "text/plain": [
       "30"
      ]
     },
     "execution_count": 58,
     "metadata": {},
     "output_type": "execute_result"
    }
   ],
   "source": [
    "config = {\"host\": \"localhost\", \"port\": 8080}\n",
    "timeout_val=config.get(\"timeout\",30)\n",
    "timeout_val"
   ]
  },
  {
   "cell_type": "markdown",
   "id": "28333068-2edb-45ce-a091-e2c4eac88842",
   "metadata": {},
   "source": [
    "##  32. items()\n",
    "## product_prices = {\"pen\": 10, \"notebook\": 50}\n",
    "## Task: Convert all (key, value) pairs of `product_prices` into a list called `pairs_list`.\n"
   ]
  },
  {
   "cell_type": "code",
   "execution_count": 59,
   "id": "326d983e-e92f-47f5-904b-947c9cdfd661",
   "metadata": {},
   "outputs": [
    {
     "data": {
      "text/plain": [
       "dict_items([('pen', 10), ('notebook', 50)])"
      ]
     },
     "execution_count": 59,
     "metadata": {},
     "output_type": "execute_result"
    }
   ],
   "source": [
    "product_prices = {\"pen\": 10, \"notebook\": 50}\n",
    "pairs_list=product_prices.items()\n",
    "pairs_list"
   ]
  },
  {
   "cell_type": "markdown",
   "id": "0e196907-021e-46aa-8d81-cb92a49703eb",
   "metadata": {},
   "source": [
    "## 33. keys()\n",
    "## user_data = {\"u1\": \"Alice\", \"u2\": \"Bob\"}\n",
    "## Task: Get a list of all user IDs from `user_data` and store in `ids`.\n"
   ]
  },
  {
   "cell_type": "code",
   "execution_count": 60,
   "id": "2c2ff997-581b-473d-a996-37d091786c60",
   "metadata": {},
   "outputs": [
    {
     "data": {
      "text/plain": [
       "dict_keys(['u1', 'u2'])"
      ]
     },
     "execution_count": 60,
     "metadata": {},
     "output_type": "execute_result"
    }
   ],
   "source": [
    "user_data = {\"u1\": \"Alice\", \"u2\": \"Bob\"}\n",
    "ids=user_data.keys()\n",
    "ids"
   ]
  },
  {
   "cell_type": "markdown",
   "id": "627cf51a-2f68-4372-91c2-cc9f08e04a6d",
   "metadata": {},
   "source": [
    "## 34. pop()\n",
    "## core_services = {\"cache\": \"redis\", \"db\": \"postgres\"}\n",
    "## Task: Remove the \"cache\" entry from `core_services` and store its value in `removed_service`.\n",
    "\n",
    "\n"
   ]
  },
  {
   "cell_type": "code",
   "execution_count": 62,
   "id": "198c4b28-61af-4745-a79b-cfae88d22b4e",
   "metadata": {},
   "outputs": [
    {
     "data": {
      "text/plain": [
       "'redis'"
      ]
     },
     "execution_count": 62,
     "metadata": {},
     "output_type": "execute_result"
    }
   ],
   "source": [
    "core_services = {\"cache\": \"redis\", \"db\": \"postgres\"}\n",
    "removed_service=core_services.pop(\"cache\")\n",
    "removed_service"
   ]
  },
  {
   "cell_type": "markdown",
   "id": "7bc11385-a563-419b-ab0b-901c5c0952ec",
   "metadata": {},
   "source": [
    "## 35. popitem()\n",
    "## priority_queue = {\"low\": 1, \"medium\": 2, \"high\": 3}\n",
    "## Task: Pop the last inserted item from `priority_queue` and save it to `last_task`.\n"
   ]
  },
  {
   "cell_type": "code",
   "execution_count": 63,
   "id": "ccfc0c3d-5ff9-48f3-a899-37d4107260dc",
   "metadata": {},
   "outputs": [
    {
     "data": {
      "text/plain": [
       "('high', 3)"
      ]
     },
     "execution_count": 63,
     "metadata": {},
     "output_type": "execute_result"
    }
   ],
   "source": [
    "priority_queue = {\"low\": 1, \"medium\": 2, \"high\": 3}\n",
    "last_task=priority_queue.popitem()\n",
    "last_task"
   ]
  },
  {
   "cell_type": "markdown",
   "id": "df7b539c-dcf8-46d2-8c35-4e67e8a54d4b",
   "metadata": {},
   "source": [
    "## 36. setdefault()\n",
    "## settings = {\"language\": \"en\"}\n",
    "## Task: Ensure \"theme\" exists in `settings` with default \"light\"; store the resulting value in `theme`.\n",
    "\n"
   ]
  },
  {
   "cell_type": "code",
   "execution_count": 67,
   "id": "90a95381-606e-4664-9779-1065147810ab",
   "metadata": {},
   "outputs": [
    {
     "data": {
      "text/plain": [
       "'light'"
      ]
     },
     "execution_count": 67,
     "metadata": {},
     "output_type": "execute_result"
    }
   ],
   "source": [
    "settings = {\"language\": \"en\"}\n",
    "theme=settings.setdefault(\"theme\",\"light\")\n",
    "theme"
   ]
  },
  {
   "cell_type": "markdown",
   "id": "731412de-9731-4f46-8cb6-f27055c1b92e",
   "metadata": {},
   "source": [
    "## 37. update()\n",
    "## default_config = {\"retry\": 3, \"timeout\": 10}\n",
    "## user_config = {\"timeout\": 30}\n",
    "## Task: Merge `default_config` into `user_config`, giving precedence to `user_config` values.\n"
   ]
  },
  {
   "cell_type": "code",
   "execution_count": 68,
   "id": "ba889cbd-e60f-4889-91bc-fcd3afc21d70",
   "metadata": {},
   "outputs": [
    {
     "data": {
      "text/plain": [
       "{'timeout': 10, 'retry': 3}"
      ]
     },
     "execution_count": 68,
     "metadata": {},
     "output_type": "execute_result"
    }
   ],
   "source": [
    "default_config = {\"retry\": 3, \"timeout\": 10}\n",
    "user_config = {\"timeout\": 30}\n",
    "user_config.update(default_config)\n",
    "user_config"
   ]
  },
  {
   "cell_type": "markdown",
   "id": "07a683bf-ec34-4ff5-b388-5d5c2fe6f4ee",
   "metadata": {},
   "source": [
    "## 38. values()\n",
    "## city_temps = {\"Delhi\": 42, \"Mumbai\": 34, \"Pune\": 30}\n",
    "## Task: Retrieve all temperature values from `city_temps` and store them in `temps_list`.\n",
    "\n"
   ]
  },
  {
   "cell_type": "code",
   "execution_count": 69,
   "id": "84a47bbb-5941-4d9e-936b-d49c50a47765",
   "metadata": {},
   "outputs": [
    {
     "data": {
      "text/plain": [
       "dict_values([42, 34, 30])"
      ]
     },
     "execution_count": 69,
     "metadata": {},
     "output_type": "execute_result"
    }
   ],
   "source": [
    "city_temps = {\"Delhi\": 42, \"Mumbai\": 34, \"Pune\": 30}\n",
    "temps_list=city_temps.values()\n",
    "temps_list"
   ]
  },
  {
   "cell_type": "code",
   "execution_count": null,
   "id": "0bfbdc7a-342b-4782-ab5a-be943c535fc7",
   "metadata": {},
   "outputs": [],
   "source": []
  }
 ],
 "metadata": {
  "kernelspec": {
   "display_name": "Python 3 (ipykernel)",
   "language": "python",
   "name": "python3"
  },
  "language_info": {
   "codemirror_mode": {
    "name": "ipython",
    "version": 3
   },
   "file_extension": ".py",
   "mimetype": "text/x-python",
   "name": "python",
   "nbconvert_exporter": "python",
   "pygments_lexer": "ipython3",
   "version": "3.13.5"
  }
 },
 "nbformat": 4,
 "nbformat_minor": 5
}
