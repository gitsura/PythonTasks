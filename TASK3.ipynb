{
 "cells": [
  {
   "cell_type": "markdown",
   "id": "19755bd4-731b-41e5-86bf-acaac7373221",
   "metadata": {},
   "source": [
    "# 1. Write a Python statement to add 5 and 3, and store the result in a variable called sum_result."
   ]
  },
  {
   "cell_type": "code",
   "execution_count": 15,
   "id": "c2225973-b164-4265-97dc-56edebf96ebb",
   "metadata": {},
   "outputs": [
    {
     "data": {
      "text/plain": [
       "8"
      ]
     },
     "execution_count": 15,
     "metadata": {},
     "output_type": "execute_result"
    }
   ],
   "source": [
    "a=5\n",
    "b=3\n",
    "sum_result=a+b\n",
    "sum_result"
   ]
  },
  {
   "cell_type": "markdown",
   "id": "dc63eea8-2530-4da5-b7b4-065fedfda725",
   "metadata": {},
   "source": [
    "# 2. What will be the value of result after this line runs?\n",
    "# result = 10 - 4\n"
   ]
  },
  {
   "cell_type": "code",
   "execution_count": 17,
   "id": "474f8de7-530c-43ef-ab75-7319deb2d969",
   "metadata": {},
   "outputs": [
    {
     "data": {
      "text/plain": [
       "6"
      ]
     },
     "execution_count": 17,
     "metadata": {},
     "output_type": "execute_result"
    }
   ],
   "source": [
    "result=10-4\n",
    "result"
   ]
  },
  {
   "cell_type": "markdown",
   "id": "1bbd7b3f-8135-46aa-9713-c23c85c55a34",
   "metadata": {},
   "source": [
    "#### Value of result is 6."
   ]
  },
  {
   "cell_type": "markdown",
   "id": "7654de27-dd3f-4071-b9e4-fef67f69e1b7",
   "metadata": {},
   "source": [
    "# 3. Write a Python expression that multiplies 7 by 6."
   ]
  },
  {
   "cell_type": "code",
   "execution_count": 18,
   "id": "656426a2-9000-404a-86be-15662cf84ca5",
   "metadata": {},
   "outputs": [
    {
     "data": {
      "text/plain": [
       "42"
      ]
     },
     "execution_count": 18,
     "metadata": {},
     "output_type": "execute_result"
    }
   ],
   "source": [
    "num=7*6\n",
    "num"
   ]
  },
  {
   "cell_type": "markdown",
   "id": "d48404e1-f8cb-4df3-b349-e6b16c9a5472",
   "metadata": {},
   "source": [
    "# 4. What is the output of this line?\n",
    "# print(20 / 5)"
   ]
  },
  {
   "cell_type": "code",
   "execution_count": 19,
   "id": "9e3b6430-b7c7-480a-ad99-ec13e747cb74",
   "metadata": {},
   "outputs": [
    {
     "name": "stdout",
     "output_type": "stream",
     "text": [
      "4.0\n"
     ]
    }
   ],
   "source": [
    "print(20/5)"
   ]
  },
  {
   "cell_type": "markdown",
   "id": "4973768d-432d-4d4d-a066-a6e223a36d53",
   "metadata": {},
   "source": [
    "#### The output is 4.0, Because it is a normal division"
   ]
  },
  {
   "cell_type": "markdown",
   "id": "7db00b3b-63f3-4d97-bfb6-b86acac749ba",
   "metadata": {},
   "source": [
    "\n",
    "# 5. What will Python evaluate this expression to?\n",
    "# result = 2 + 3 * 4\n",
    "# print(result)\n"
   ]
  },
  {
   "cell_type": "code",
   "execution_count": 20,
   "id": "1fc1b6f3-c0bb-4176-a0a0-edade6ec8404",
   "metadata": {},
   "outputs": [
    {
     "name": "stdout",
     "output_type": "stream",
     "text": [
      "14\n"
     ]
    }
   ],
   "source": [
    "result=2+3*4\n",
    "print(result)"
   ]
  },
  {
   "cell_type": "markdown",
   "id": "2210efea-ee37-4f2c-b7fb-757b02598649",
   "metadata": {},
   "source": [
    "#### Result is 14"
   ]
  },
  {
   "cell_type": "markdown",
   "id": "4ad26b89-08a9-4689-81a5-f8c62cbeef44",
   "metadata": {},
   "source": [
    "# 6. What does this line print?\n",
    "# print(5 == 5)\n"
   ]
  },
  {
   "cell_type": "code",
   "execution_count": 21,
   "id": "9671005f-25cc-4b7d-a02e-9e7c567a8523",
   "metadata": {},
   "outputs": [
    {
     "name": "stdout",
     "output_type": "stream",
     "text": [
      "True\n"
     ]
    }
   ],
   "source": [
    "print(5==5)"
   ]
  },
  {
   "cell_type": "markdown",
   "id": "4decd469-510d-4e84-9a11-c17b939cde69",
   "metadata": {},
   "source": [
    "#### Output is True"
   ]
  },
  {
   "cell_type": "markdown",
   "id": "c7996d4d-d86d-4312-b798-f84746809624",
   "metadata": {},
   "source": [
    "# 7. Write a Python expression to check if 9 is greater than 12."
   ]
  },
  {
   "cell_type": "code",
   "execution_count": 23,
   "id": "8a4c53df-5c4a-4007-bf46-253389409d4f",
   "metadata": {},
   "outputs": [
    {
     "data": {
      "text/plain": [
       "False"
      ]
     },
     "execution_count": 23,
     "metadata": {},
     "output_type": "execute_result"
    }
   ],
   "source": [
    "9>12"
   ]
  },
  {
   "cell_type": "markdown",
   "id": "2c20641b-7ac0-436b-bb3c-2623e70d3b1d",
   "metadata": {},
   "source": [
    "# 8. What will be the output of this line?\n",
    "# print(7 != 7)"
   ]
  },
  {
   "cell_type": "code",
   "execution_count": 24,
   "id": "13b3529d-e044-414f-88b8-6bbc01c616b7",
   "metadata": {},
   "outputs": [
    {
     "name": "stdout",
     "output_type": "stream",
     "text": [
      "False\n"
     ]
    }
   ],
   "source": [
    "print(7!=7)"
   ]
  },
  {
   "cell_type": "markdown",
   "id": "965afc10-9987-4a98-b0aa-5ac835d6617c",
   "metadata": {},
   "source": [
    "#### Output of this line is False."
   ]
  },
  {
   "cell_type": "markdown",
   "id": "9cf75fbd-a1ca-4bdc-bb50-53800dd28c84",
   "metadata": {},
   "source": [
    "# 9. How would you check if variable x is less than or equal to variable y?"
   ]
  },
  {
   "cell_type": "code",
   "execution_count": 25,
   "id": "78219252-3808-4bf1-b92e-89fae09e89be",
   "metadata": {},
   "outputs": [
    {
     "data": {
      "text/plain": [
       "True"
      ]
     },
     "execution_count": 25,
     "metadata": {},
     "output_type": "execute_result"
    }
   ],
   "source": [
    "x=3\n",
    "y=6\n",
    "x<=y"
   ]
  },
  {
   "cell_type": "markdown",
   "id": "646afc95-5027-4c78-bf04-c65cffbbc6d8",
   "metadata": {},
   "source": [
    "#### Output is True because x is less than y."
   ]
  },
  {
   "cell_type": "markdown",
   "id": "aba6eb16-8439-478b-ac49-0e9692bbc445",
   "metadata": {},
   "source": [
    "# 10. What does the following code output?\n",
    "# a = 3  \n",
    "# b = 8  \n",
    "# print(a > b)"
   ]
  },
  {
   "cell_type": "code",
   "execution_count": 26,
   "id": "0c7a0e0f-93fc-4079-aabd-e01264e953bd",
   "metadata": {},
   "outputs": [
    {
     "name": "stdout",
     "output_type": "stream",
     "text": [
      "False\n"
     ]
    }
   ],
   "source": [
    "a=3\n",
    "b=8\n",
    "print(a>b)"
   ]
  },
  {
   "cell_type": "markdown",
   "id": "24e82cb5-2935-4a0f-bd91-05ffac64e8dd",
   "metadata": {},
   "source": [
    "#### Output is False. Because a is not greater than b."
   ]
  },
  {
   "cell_type": "code",
   "execution_count": null,
   "id": "24b32c37-6099-4c83-9ff5-7092356d0c22",
   "metadata": {},
   "outputs": [],
   "source": []
  }
 ],
 "metadata": {
  "kernelspec": {
   "display_name": "Python 3 (ipykernel)",
   "language": "python",
   "name": "python3"
  },
  "language_info": {
   "codemirror_mode": {
    "name": "ipython",
    "version": 3
   },
   "file_extension": ".py",
   "mimetype": "text/x-python",
   "name": "python",
   "nbconvert_exporter": "python",
   "pygments_lexer": "ipython3",
   "version": "3.13.5"
  }
 },
 "nbformat": 4,
 "nbformat_minor": 5
}
