{
 "cells": [
  {
   "cell_type": "markdown",
   "id": "20506571-fa69-4fb4-b43a-bca498857b83",
   "metadata": {},
   "source": [
    "### 1. Basic AND/OR trick\n",
    "### a = True\n",
    "### b = False\n",
    "### c = True\n",
    "### print(a and b or c)\n",
    "### What is the output?\n"
   ]
  },
  {
   "cell_type": "code",
   "execution_count": 1,
   "id": "19da8dbf-ed3a-4401-9fd8-3db507884ed3",
   "metadata": {},
   "outputs": [
    {
     "name": "stdout",
     "output_type": "stream",
     "text": [
      "True\n"
     ]
    }
   ],
   "source": [
    "a=True\n",
    "b=False\n",
    "c=True\n",
    "print(a and b or c)"
   ]
  },
  {
   "cell_type": "markdown",
   "id": "136020ce-6e3b-41ef-9078-6f8558170856",
   "metadata": {},
   "source": [
    "#### The output is True.\n",
    "\n",
    "\n",
    "\n"
   ]
  },
  {
   "cell_type": "markdown",
   "id": "e95ecdd8-b1eb-4bc3-b2ba-14af53f4a923",
   "metadata": {},
   "source": [
    "\n",
    "\n",
    "### 2. Precedence confusion\n",
    "### print(False or False and True)\n",
    "### Which is evaluated first?"
   ]
  },
  {
   "cell_type": "code",
   "execution_count": 2,
   "id": "cd80324a-7e04-4516-8773-ba72f3667d28",
   "metadata": {},
   "outputs": [
    {
     "name": "stdout",
     "output_type": "stream",
     "text": [
      "False\n"
     ]
    }
   ],
   "source": [
    "print(False or False and True)"
   ]
  },
  {
   "cell_type": "markdown",
   "id": "ce5f3d79-8687-4447-9d52-c53f4cfb85eb",
   "metadata": {},
   "source": [
    "#### logical and will evaluated first"
   ]
  },
  {
   "cell_type": "markdown",
   "id": "5e214b6b-fd19-4995-822d-d1132be89ba6",
   "metadata": {},
   "source": [
    "### 3. NOT puzzle\n",
    "### x = True\n",
    "### y = False\n",
    "### print(not x or y)\n",
    "### Predict the boolean result."
   ]
  },
  {
   "cell_type": "markdown",
   "id": "682c5484-ebc5-4038-b999-bab4ab4147b4",
   "metadata": {},
   "source": [
    "#### Boolean result is False."
   ]
  },
  {
   "cell_type": "code",
   "execution_count": 4,
   "id": "b778768d-257b-4123-b3a1-ee62fea09049",
   "metadata": {},
   "outputs": [
    {
     "name": "stdout",
     "output_type": "stream",
     "text": [
      "False\n"
     ]
    }
   ],
   "source": [
    "x=True\n",
    "y=False\n",
    "print(not x or y)"
   ]
  },
  {
   "cell_type": "markdown",
   "id": "a3b0f643-076e-4219-9fba-e83fb8db472d",
   "metadata": {},
   "source": [
    "### 4. Nesting with all three\n",
    "### a = False\n",
    "### b = True\n",
    "### c = False\n",
    "### print(not (a or b) and not c)"
   ]
  },
  {
   "cell_type": "code",
   "execution_count": 5,
   "id": "23a138d1-9b8e-450f-a437-d0926bdb4084",
   "metadata": {},
   "outputs": [
    {
     "name": "stdout",
     "output_type": "stream",
     "text": [
      "False\n"
     ]
    }
   ],
   "source": [
    "a = False\n",
    "b = True\n",
    "c = False\n",
    "print(not (a or b) and not c)"
   ]
  },
  {
   "cell_type": "markdown",
   "id": "cc711564-d30d-44d0-bac5-c2e149542cbc",
   "metadata": {},
   "source": [
    "#### Output is False."
   ]
  },
  {
   "cell_type": "markdown",
   "id": "abe8bc5a-7de0-44dd-9731-49dc541b1800",
   "metadata": {},
   "source": [
    "### 5. Chained logic\n",
    "### x = True\n",
    "### y = True\n",
    "### z = False\n",
    "### print(x and y or z and not y)"
   ]
  },
  {
   "cell_type": "code",
   "execution_count": 6,
   "id": "76c1299c-9d50-4428-bbe8-0e10dc1dd908",
   "metadata": {},
   "outputs": [
    {
     "name": "stdout",
     "output_type": "stream",
     "text": [
      "True\n"
     ]
    }
   ],
   "source": [
    "x = True\n",
    "y = True\n",
    "z = False\n",
    "print(x and y or z and not y)"
   ]
  },
  {
   "cell_type": "markdown",
   "id": "e2950798-67a6-4133-a4c4-37674176b941",
   "metadata": {},
   "source": [
    "#### Output is True."
   ]
  },
  {
   "cell_type": "markdown",
   "id": "2c63a233-5677-4aba-8b84-0f0c1fd63609",
   "metadata": {},
   "source": [
    "### 6. Double negation\n",
    "### a = False\n",
    "### print(not not a)\n",
    "### What does this reduce to?\n"
   ]
  },
  {
   "cell_type": "code",
   "execution_count": 7,
   "id": "f2230cf0-039f-4e2f-a99e-537a96657124",
   "metadata": {},
   "outputs": [
    {
     "name": "stdout",
     "output_type": "stream",
     "text": [
      "False\n"
     ]
    }
   ],
   "source": [
    "a = False\n",
    "print(not not a)"
   ]
  },
  {
   "cell_type": "markdown",
   "id": "efbbdb5a-18e3-4f9f-8e73-4540a6880018",
   "metadata": {},
   "source": [
    "#### Output is False"
   ]
  },
  {
   "cell_type": "markdown",
   "id": "2924c6f4-022e-4157-9537-901d35b00d1a",
   "metadata": {},
   "source": [
    "### 7. Classic test\n",
    "### print(True and True and False or True and not False)\n",
    "### Combine AND, OR, NOT — carefully.\n"
   ]
  },
  {
   "cell_type": "code",
   "execution_count": 8,
   "id": "3418b87e-ff59-42c6-8a38-49526db76680",
   "metadata": {},
   "outputs": [
    {
     "name": "stdout",
     "output_type": "stream",
     "text": [
      "True\n"
     ]
    }
   ],
   "source": [
    "print(True and True and False or True and not False)"
   ]
  },
  {
   "cell_type": "markdown",
   "id": "048e2d00-c937-492a-9ddf-f70444da0ddb",
   "metadata": {},
   "source": [
    "#### Output is True"
   ]
  },
  {
   "cell_type": "markdown",
   "id": "ea1a3455-d1f8-440a-8fac-17c87cf028ab",
   "metadata": {},
   "source": [
    "### 8. Grouped logic\n",
    "### x = True\n",
    "### y = False\n",
    "### print((not x and y) or (x and not y))"
   ]
  },
  {
   "cell_type": "code",
   "execution_count": 10,
   "id": "9e93c368-49e0-4145-8c0a-51d0bf321910",
   "metadata": {},
   "outputs": [
    {
     "name": "stdout",
     "output_type": "stream",
     "text": [
      "True\n"
     ]
    }
   ],
   "source": [
    "x = True\n",
    "y = False\n",
    "print((not x and y) or (x and not y))"
   ]
  },
  {
   "cell_type": "markdown",
   "id": "44e30ad7-798e-4c20-be6b-0c712e304748",
   "metadata": {},
   "source": [
    "#### Output is True"
   ]
  },
  {
   "cell_type": "markdown",
   "id": "0069f94c-68a8-4ccc-950e-f17763420931",
   "metadata": {},
   "source": [
    "### 9. Logical operator with boolean literals\n",
    "### print((True or False) and (False or True) and not False)\n"
   ]
  },
  {
   "cell_type": "code",
   "execution_count": 11,
   "id": "171dba99-6781-456c-b74f-8677dd5b98cd",
   "metadata": {},
   "outputs": [
    {
     "name": "stdout",
     "output_type": "stream",
     "text": [
      "True\n"
     ]
    }
   ],
   "source": [
    "print((True or False) and (False or True) and not False)"
   ]
  },
  {
   "cell_type": "markdown",
   "id": "632c60b6-d5ef-4705-a182-ef1cfe827bd8",
   "metadata": {},
   "source": [
    "#### Output is True"
   ]
  },
  {
   "cell_type": "markdown",
   "id": "726eff3c-8ddd-47b7-8d56-4920f8557cae",
   "metadata": {},
   "source": [
    "### 10. Only one variable\n",
    "### a = False\n",
    "### print(a or not a and a)\n"
   ]
  },
  {
   "cell_type": "code",
   "execution_count": 13,
   "id": "1a34c0f5-2920-47e3-844a-cf9dd6134ca2",
   "metadata": {},
   "outputs": [
    {
     "name": "stdout",
     "output_type": "stream",
     "text": [
      "False\n"
     ]
    }
   ],
   "source": [
    "a = False\n",
    "print(a or not a and a)"
   ]
  },
  {
   "cell_type": "markdown",
   "id": "1ef73f42-1391-4853-9d8a-81ed4d8cfbf1",
   "metadata": {},
   "source": [
    "#### Output is False."
   ]
  },
  {
   "cell_type": "markdown",
   "id": "1358867f-4902-4618-9e8a-91c48f57ebfc",
   "metadata": {},
   "source": [
    "### 11. Tricky in test\n",
    "### print('p' in 'apple' and 'z' not in 'apple') "
   ]
  },
  {
   "cell_type": "code",
   "execution_count": 14,
   "id": "380f00ae-ff56-43bb-aa85-a4eb3fe8195f",
   "metadata": {},
   "outputs": [
    {
     "name": "stdout",
     "output_type": "stream",
     "text": [
      "True\n"
     ]
    }
   ],
   "source": [
    "print('p' in 'apple' and 'z' not in 'apple')"
   ]
  },
  {
   "cell_type": "markdown",
   "id": "32451070-896c-4d9e-b676-8b80ac17fd62",
   "metadata": {},
   "source": [
    "#### Output is True"
   ]
  },
  {
   "cell_type": "markdown",
   "id": "ebbb4dbf-a629-466c-8d5c-5c0058c7003b",
   "metadata": {},
   "source": [
    "### 12. Combined Membership with Logic\n",
    "### print('x' not in 'box' or 'b' in 'box')\n",
    "\n"
   ]
  },
  {
   "cell_type": "code",
   "execution_count": 15,
   "id": "d9463ae4-ca67-4ef3-9b5e-e9d78b06897a",
   "metadata": {},
   "outputs": [
    {
     "name": "stdout",
     "output_type": "stream",
     "text": [
      "True\n"
     ]
    }
   ],
   "source": [
    "print('x' not in 'box' or 'b' in 'box')"
   ]
  },
  {
   "cell_type": "markdown",
   "id": "19e0dfb2-19f8-4374-9d0d-297aa0380069",
   "metadata": {},
   "source": [
    "#### Output is False."
   ]
  },
  {
   "cell_type": "markdown",
   "id": "1a19432a-4b78-4dc8-8c41-edfb9ac1f9e1",
   "metadata": {},
   "source": [
    "### 13. Integer identity test\n",
    "### a = 100\n",
    "### b = 100\n",
    "### print(a is b)\n",
    "### Does Python reuse small integers?\n"
   ]
  },
  {
   "cell_type": "code",
   "execution_count": 16,
   "id": "c2ab7e05-388f-41ad-b679-0a4f2386aa37",
   "metadata": {},
   "outputs": [
    {
     "name": "stdout",
     "output_type": "stream",
     "text": [
      "True\n"
     ]
    }
   ],
   "source": [
    "a = 100\n",
    "b = 100\n",
    "print(a is b) "
   ]
  },
  {
   "cell_type": "markdown",
   "id": "72c03c6f-6282-4c64-a988-f77cfaf968f5",
   "metadata": {},
   "source": [
    "#### Yes. Python reuse small integers. "
   ]
  },
  {
   "cell_type": "markdown",
   "id": "4ff58024-239c-4f6c-8e8d-e14818bc7812",
   "metadata": {},
   "source": [
    "### 14. Large number identity\n",
    "### x = 1000\n",
    "### y = 1000\n",
    "### print(x is y)\n"
   ]
  },
  {
   "cell_type": "code",
   "execution_count": 17,
   "id": "eb4cc9f4-7399-4566-b15e-4af7462bc1e1",
   "metadata": {},
   "outputs": [
    {
     "name": "stdout",
     "output_type": "stream",
     "text": [
      "False\n"
     ]
    }
   ],
   "source": [
    "x = 1000\n",
    "y = 1000\n",
    "print(x is y)"
   ]
  },
  {
   "cell_type": "markdown",
   "id": "572d0c63-e7d8-40b8-ac83-fd98a6977256",
   "metadata": {},
   "source": [
    "#### Output is False"
   ]
  },
  {
   "cell_type": "markdown",
   "id": "2095b423-c75d-4ca0-94fc-1d82b36f5796",
   "metadata": {},
   "source": [
    "### 15. None identity\n",
    "### a = None\n",
    "### b = None\n",
    "### print(a is b)\n"
   ]
  },
  {
   "cell_type": "code",
   "execution_count": 22,
   "id": "3c44bd4a-0660-495c-9c59-d90028d81bbc",
   "metadata": {},
   "outputs": [
    {
     "name": "stdout",
     "output_type": "stream",
     "text": [
      "True\n"
     ]
    }
   ],
   "source": [
    "a = None\n",
    "b = None\n",
    "print(a is b)"
   ]
  },
  {
   "cell_type": "code",
   "execution_count": null,
   "id": "61770d9e-ab7b-40f8-89ef-24664f640e1c",
   "metadata": {},
   "outputs": [],
   "source": []
  }
 ],
 "metadata": {
  "kernelspec": {
   "display_name": "Python 3 (ipykernel)",
   "language": "python",
   "name": "python3"
  },
  "language_info": {
   "codemirror_mode": {
    "name": "ipython",
    "version": 3
   },
   "file_extension": ".py",
   "mimetype": "text/x-python",
   "name": "python",
   "nbconvert_exporter": "python",
   "pygments_lexer": "ipython3",
   "version": "3.13.5"
  }
 },
 "nbformat": 4,
 "nbformat_minor": 5
}
