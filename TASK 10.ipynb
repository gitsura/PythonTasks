{
 "cells": [
  {
   "cell_type": "markdown",
   "id": "8a364699-4c34-4302-94a7-207cfafcae25",
   "metadata": {},
   "source": [
    "## Conditional statements (if-else,if-elif-else)\n",
    "## 1. 🔹 Waking Up Alarm\n",
    "## Task:\n",
    "## If the alarm rings, wake up. Else, keep sleeping.\n"
   ]
  },
  {
   "cell_type": "code",
   "execution_count": 2,
   "id": "2f94d10b-ae40-4519-b486-ef191676f14a",
   "metadata": {},
   "outputs": [
    {
     "name": "stdout",
     "output_type": "stream",
     "text": [
      "wake up\n"
     ]
    }
   ],
   "source": [
    "alarm_rings=True\n",
    "if alarm_rings:\n",
    "    print(\"wake up\")\n",
    "else:\n",
    "    print(\"keep sleeping\")\n"
   ]
  },
  {
   "cell_type": "markdown",
   "id": "d4f57555-3740-4206-b9b5-1b63bc66f06f",
   "metadata": {},
   "source": [
    "## 2. 🔹 Mobile Battery Check\n",
    "## Task:\n",
    "## If the battery percentage is less than 20%, plug in the charger. Else, continue using it.\n"
   ]
  },
  {
   "cell_type": "code",
   "execution_count": 3,
   "id": "eb701f11-51fb-4294-97fe-4b9af6ebf736",
   "metadata": {},
   "outputs": [
    {
     "name": "stdout",
     "output_type": "stream",
     "text": [
      "continue using it\n"
     ]
    }
   ],
   "source": [
    "battery_percentage=30\n",
    "if battery_percentage<20:\n",
    "    print(\"plug in the charger\")\n",
    "else:\n",
    "    print(\"continue using it\")"
   ]
  },
  {
   "cell_type": "markdown",
   "id": "c376f9b4-ce3a-4e4c-be6d-0571502148db",
   "metadata": {},
   "source": [
    "## 3. 🔹 Restaurant Tip Decision\n",
    "## Task:\n",
    "## If service is excellent, tip 20%. If good, tip 10%. Else, no tip.\n"
   ]
  },
  {
   "cell_type": "code",
   "execution_count": 6,
   "id": "64f5246a-4cb2-46bc-963b-3a66c2942f81",
   "metadata": {},
   "outputs": [
    {
     "name": "stdin",
     "output_type": "stream",
     "text": [
      "Enter how service is good\n"
     ]
    },
    {
     "name": "stdout",
     "output_type": "stream",
     "text": [
      "tip 10%\n"
     ]
    }
   ],
   "source": [
    "service=input(\"Enter how service is\").lower()\n",
    "if service==\"excellent\":\n",
    "    print(\"tip 20%\")\n",
    "elif service==\"good\":\n",
    "    print('tip 10%')\n",
    "else:\n",
    "    print(\"no tip\")"
   ]
  },
  {
   "cell_type": "markdown",
   "id": "61a582b8-3388-4b7d-a0ff-31b63d863b08",
   "metadata": {},
   "source": [
    "## 4. 🔹 Movie Time Decision\n",
    "## Task:\n",
    "## If today is Friday, watch a new release. Else if it’s weekend, watch a comedy. Else, watch a short film.\n"
   ]
  },
  {
   "cell_type": "code",
   "execution_count": 11,
   "id": "1aff0d18-2cb8-4330-bc94-4c1cee8929fe",
   "metadata": {},
   "outputs": [
    {
     "name": "stdin",
     "output_type": "stream",
     "text": [
      "Enter day thursday\n"
     ]
    },
    {
     "name": "stdout",
     "output_type": "stream",
     "text": [
      "watch a short\n"
     ]
    }
   ],
   "source": [
    "today=input(\"Enter day\").lower()\n",
    "if today==\"friday\":\n",
    "    print(\"watch a new release\")\n",
    "elif today==\"saturday\" or today== \"sunday\":\n",
    "    print('watch a comedy movie')\n",
    "else:\n",
    "    print(\"watch a short\")"
   ]
  },
  {
   "cell_type": "markdown",
   "id": "7a0aa4c5-7c9e-4d19-80e7-2c8182dec165",
   "metadata": {},
   "source": [
    "## 5. 🔹 Clothing Based on Temperature\n",
    "## Task:\n",
    "## If the temperature is below 10°C, wear a jacket. Else if below 20°C, wear a sweater. Else, wear a t-shirt.\n"
   ]
  },
  {
   "cell_type": "code",
   "execution_count": 12,
   "id": "743c9853-6aba-45f7-9061-90fffe204964",
   "metadata": {},
   "outputs": [
    {
     "name": "stdin",
     "output_type": "stream",
     "text": [
      "Enter temperature 18\n"
     ]
    },
    {
     "name": "stdout",
     "output_type": "stream",
     "text": [
      "wear a sweater\n"
     ]
    }
   ],
   "source": [
    "temperature=int(input(\"Enter temperature\"))\n",
    "if temperature<10:\n",
    "    print(\"wear a jacket\")\n",
    "elif temperature<20:\n",
    "    print(\"wear a sweater\")\n",
    "else:\n",
    "    print(\"wear a t-shirt\")\n",
    "                "
   ]
  },
  {
   "cell_type": "markdown",
   "id": "24e47fa9-5105-4d98-855a-ad6ce7d30160",
   "metadata": {},
   "source": [
    "## 6. 🔹 Speed Check on Road\n",
    "## Task:\n",
    "## If speed > 100, print “Over-speeding!”. Else, print “Safe speed.”\n"
   ]
  },
  {
   "cell_type": "code",
   "execution_count": 14,
   "id": "dde43e1d-bc46-4bd2-a23c-5843bccfac24",
   "metadata": {},
   "outputs": [
    {
     "name": "stdin",
     "output_type": "stream",
     "text": [
      "Enter speed 50\n"
     ]
    },
    {
     "name": "stdout",
     "output_type": "stream",
     "text": [
      "Safe speed\n"
     ]
    }
   ],
   "source": [
    "speed=int(input(\"Enter speed\"))\n",
    "if speed>100:\n",
    "    print(\"Over-speeding!\")\n",
    "else:\n",
    "    print(\"Safe speed\")"
   ]
  },
  {
   "cell_type": "markdown",
   "id": "f3001104-1ce9-4bf1-895f-dc01bc0ea5b2",
   "metadata": {},
   "source": [
    "## 7. 🔹 Password Strength Check\n",
    "## Task:\n",
    "## If password length < 6, say “Too Weak”. If between 6 and 10, say “Medium”. Else, say “Strong Password”.\n"
   ]
  },
  {
   "cell_type": "code",
   "execution_count": 17,
   "id": "476e936f-2e43-449f-8a8e-eb6c450b0bfc",
   "metadata": {},
   "outputs": [
    {
     "name": "stdin",
     "output_type": "stream",
     "text": [
      "Enter password length 6\n"
     ]
    },
    {
     "name": "stdout",
     "output_type": "stream",
     "text": [
      "Strong Password\n"
     ]
    }
   ],
   "source": [
    "password_length=int(input(\"Enter password length\"))\n",
    "if password_length<6:\n",
    "    print(\"Too Weak\")\n",
    "elif password_length>=6 and password_length<=10:\n",
    " print(\"Medium\")\n",
    "else:\n",
    "    print(\"Strong Password\")"
   ]
  },
  {
   "cell_type": "markdown",
   "id": "b22e3373-8050-4ed4-b7b3-4bd244172c38",
   "metadata": {},
   "source": [
    "## 8. 🔹 Water Bottle Status\n",
    "## Task:\n",
    "## If the bottle is empty, refill it. Else, drink water.\n"
   ]
  },
  {
   "cell_type": "code",
   "execution_count": 18,
   "id": "e01dd995-bd0c-40cb-9f13-154fb34d3187",
   "metadata": {},
   "outputs": [
    {
     "name": "stdin",
     "output_type": "stream",
     "text": [
      " empty\n"
     ]
    },
    {
     "name": "stdout",
     "output_type": "stream",
     "text": [
      "refill it\n"
     ]
    }
   ],
   "source": [
    "bottle_status=input().lower()\n",
    "if bottle_status==\"empty\":\n",
    "    print(\"refill it\")\n",
    "else:\n",
    "    print(\"drink water\")"
   ]
  },
  {
   "cell_type": "markdown",
   "id": "006db3ad-2249-46c9-aaa2-fe485d7daa18",
   "metadata": {},
   "source": [
    "## 9. 🔹 Student Grade Category\n",
    "## Task:\n",
    "## If marks >= 90: Grade A\n",
    "## If 75–89: Grade B\n",
    "## If 50–74: Grade C\n",
    "## Else: Fail\n"
   ]
  },
  {
   "cell_type": "code",
   "execution_count": 20,
   "id": "5c5a0cf8-da17-4eee-ac1b-2446d13f878e",
   "metadata": {},
   "outputs": [
    {
     "name": "stdin",
     "output_type": "stream",
     "text": [
      "Enter marks 86\n"
     ]
    },
    {
     "name": "stdout",
     "output_type": "stream",
     "text": [
      "Grade B\n"
     ]
    }
   ],
   "source": [
    "marks=int(input(\"Enter marks\"))\n",
    "if marks>=90:\n",
    "    print(\"Grade A\")\n",
    "elif marks<=89 and marks>=75:\n",
    "    print(\"Grade B\")\n",
    "elif marks<74 and marks>=50:\n",
    "     print(\"Grade C\")\n",
    "else:\n",
    "    print(\"Fail\")\n",
    "    "
   ]
  },
  {
   "cell_type": "markdown",
   "id": "b2acc1a0-0d93-4014-b42f-3d23b4c90006",
   "metadata": {},
   "source": [
    "## 10. 🔹 Door Lock System\n",
    "## Task:\n",
    "## If the entered PIN is correct, unlock the door. Else, raise an alert.\n"
   ]
  },
  {
   "cell_type": "code",
   "execution_count": 22,
   "id": "be220119-ef21-4143-b55e-02bfc21c01f2",
   "metadata": {},
   "outputs": [
    {
     "name": "stdin",
     "output_type": "stream",
     "text": [
      "Enter pin 1234\n"
     ]
    },
    {
     "name": "stdout",
     "output_type": "stream",
     "text": [
      "unlock the door\n"
     ]
    }
   ],
   "source": [
    "correct_pin=1234\n",
    "pin=int(input(\"Enter pin\"))\n",
    "if pin==correct_pin:\n",
    "    print(\"unlock the door\")\n",
    "else:\n",
    "    print(\"raise an alert\")"
   ]
  },
  {
   "cell_type": "markdown",
   "id": "37450f39-def4-4358-8319-de6844cf808b",
   "metadata": {},
   "source": [
    "## 11. 🔹 Fan Control by Temperature\n",
    "## Task:\n",
    "## If temperature > 30°C, turn fan on high. If 20–30°C, turn on medium. Else, turn it off.\n"
   ]
  },
  {
   "cell_type": "code",
   "execution_count": 23,
   "id": "a7394f33-0582-460a-ad85-67e70469c857",
   "metadata": {},
   "outputs": [
    {
     "name": "stdin",
     "output_type": "stream",
     "text": [
      "Enter temperature 4\n"
     ]
    },
    {
     "name": "stdout",
     "output_type": "stream",
     "text": [
      "turn it off\n"
     ]
    }
   ],
   "source": [
    "temperature=int(input(\"Enter temperature\"))\n",
    "if temperature>30:\n",
    "    print(\"turn fan on high\")\n",
    "elif temperature>=20 and temperature<=30:\n",
    "    print(\"turn on medium\")\n",
    "else:\n",
    "    print(\"turn it off\")"
   ]
  },
  {
   "cell_type": "markdown",
   "id": "cdcffb2e-5369-42ec-86f2-514c90580197",
   "metadata": {},
   "source": [
    "## 12. 🔹 Raincoat or Sunglasses\n",
    "## Task:\n",
    "## If weather is rainy, take a raincoat. Else if it’s sunny, wear sunglasses. Else, take nothing.\n"
   ]
  },
  {
   "cell_type": "code",
   "execution_count": 24,
   "id": "d1e0a35a-0800-47cd-becb-bd0e74933422",
   "metadata": {},
   "outputs": [
    {
     "name": "stdin",
     "output_type": "stream",
     "text": [
      "How is Weather rainy\n"
     ]
    },
    {
     "name": "stdout",
     "output_type": "stream",
     "text": [
      "take a raincoat\n"
     ]
    }
   ],
   "source": [
    "weather=input(\"How is Weather\").lower()\n",
    "if weather==\"rainy\":\n",
    "    print(\"take a raincoat\")\n",
    "elif weather==\"sunny\":\n",
    "    print(\"wear sunglasses\")\n",
    "else:\n",
    "    print(\"take nothing\")\n",
    "    \n"
   ]
  },
  {
   "cell_type": "markdown",
   "id": "5d9d18db-5f32-4371-b176-3b63fcf54719",
   "metadata": {},
   "source": [
    "## 13. 🔹 Laptop Charging Reminder\n",
    "## Task:\n",
    "## If battery is at 100%, unplug charger. Else if < 50%, plug in. Else, monitor."
   ]
  },
  {
   "cell_type": "code",
   "execution_count": 25,
   "id": "08c8b798-f94d-4247-ba1f-2ead74762f52",
   "metadata": {},
   "outputs": [
    {
     "name": "stdin",
     "output_type": "stream",
     "text": [
      " 40\n"
     ]
    },
    {
     "name": "stdout",
     "output_type": "stream",
     "text": [
      "plug in\n"
     ]
    }
   ],
   "source": [
    "battery=int(input())\n",
    "if battery==100:\n",
    "    print(\"unplug charger\")\n",
    "elif battery<50:\n",
    "    print(\"plug in\")\n",
    "else:\n",
    "    print(\"monitor\")"
   ]
  },
  {
   "cell_type": "markdown",
   "id": "c4727757-cba8-40e7-bc7d-f51899440893",
   "metadata": {},
   "source": [
    "## 14. 🔹 Check Meeting Day\n",
    "## Task:\n",
    "## If today is Monday, Wednesday, or Friday → print “You have meetings.”\n",
    "## Else → print “No meetings today.”\n"
   ]
  },
  {
   "cell_type": "code",
   "execution_count": 26,
   "id": "4f55d5e5-6900-4de2-820d-928e53e405a7",
   "metadata": {},
   "outputs": [
    {
     "name": "stdin",
     "output_type": "stream",
     "text": [
      "Enter day monday\n"
     ]
    },
    {
     "name": "stdout",
     "output_type": "stream",
     "text": [
      "You have meetings\n"
     ]
    }
   ],
   "source": [
    "today=input(\"Enter day\").lower()\n",
    "if today==\"monday\" or today ==\"wednesday\" or today==\"friday\":\n",
    "    print(\"You have meetings\")\n",
    "else:\n",
    "    print(\"No meetings today\")\n",
    "    "
   ]
  },
  {
   "cell_type": "markdown",
   "id": "208e74b7-a91e-4804-8808-8701add53848",
   "metadata": {},
   "source": [
    "## 15. 🔹 Book Reading Habit\n",
    "## Task:\n",
    "## If the day is weekend, read 2 chapters. Else, read 1 chapter.\n"
   ]
  },
  {
   "cell_type": "code",
   "execution_count": 28,
   "id": "b41240be-ec64-47e4-9a7f-3ee99f2fecb9",
   "metadata": {},
   "outputs": [
    {
     "name": "stdin",
     "output_type": "stream",
     "text": [
      " sunday\n"
     ]
    },
    {
     "name": "stdout",
     "output_type": "stream",
     "text": [
      "read 2 chapters\n"
     ]
    }
   ],
   "source": [
    "day=input().lower()\n",
    "if day==\"saturday\" or day==\"sunday\":\n",
    "    print(\"read 2 chapters\")\n",
    "else:\n",
    "    print(\"read 1 chapter\")"
   ]
  },
  {
   "cell_type": "code",
   "execution_count": null,
   "id": "713909b7-736b-4946-bc5a-1c2a16d01d9a",
   "metadata": {},
   "outputs": [],
   "source": []
  }
 ],
 "metadata": {
  "kernelspec": {
   "display_name": "Python 3 (ipykernel)",
   "language": "python",
   "name": "python3"
  },
  "language_info": {
   "codemirror_mode": {
    "name": "ipython",
    "version": 3
   },
   "file_extension": ".py",
   "mimetype": "text/x-python",
   "name": "python",
   "nbconvert_exporter": "python",
   "pygments_lexer": "ipython3",
   "version": "3.13.5"
  }
 },
 "nbformat": 4,
 "nbformat_minor": 5
}
