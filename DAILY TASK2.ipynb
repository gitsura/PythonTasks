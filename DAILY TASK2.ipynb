{
 "cells": [
  {
   "cell_type": "markdown",
   "id": "5fd82731-a3d1-4bc4-a4e0-f3d6083a8aeb",
   "metadata": {},
   "source": [
    "## 3. What is identifier?"
   ]
  },
  {
   "cell_type": "markdown",
   "id": "bd564226-1c1e-449c-8429-5b27fbfeaccc",
   "metadata": {},
   "source": [
    "### Naming to an entity/value/data.\n",
    "### This identifier can be variable name, function name, module name, object name, class name."
   ]
  },
  {
   "cell_type": "markdown",
   "id": "a5687019-b084-411d-a6d2-0b18bdd86b8b",
   "metadata": {},
   "source": [
    "## 4. Which of the following is a valid  identifier?"
   ]
  },
  {
   "cell_type": "markdown",
   "id": "7125b700-aba5-4665-b5a9-5ed1dfff2fe6",
   "metadata": {},
   "source": [
    "### b)name_1\n"
   ]
  },
  {
   "cell_type": "code",
   "execution_count": 2,
   "id": "812528c7-2017-4e1d-bda8-964669665653",
   "metadata": {},
   "outputs": [],
   "source": [
    "name_1='VARSHA'"
   ]
  },
  {
   "cell_type": "markdown",
   "id": "55e731d8-63e2-464a-b7f6-8ef83a8d91dc",
   "metadata": {},
   "source": [
    "#### Because underscore is allowed in an identifier."
   ]
  },
  {
   "cell_type": "markdown",
   "id": "2f571081-b1a8-4e9f-b7de-f33fdbb0a26f",
   "metadata": {},
   "source": [
    "## 5. Can identifiers start with a digit?"
   ]
  },
  {
   "cell_type": "markdown",
   "id": "efdbc6b9-012f-4bf6-8226-e1ebf1e128b2",
   "metadata": {},
   "source": [
    "### False"
   ]
  },
  {
   "cell_type": "code",
   "execution_count": 4,
   "id": "e08b3c1b-2eff-49ba-bea0-523c5737c426",
   "metadata": {},
   "outputs": [
    {
     "ename": "SyntaxError",
     "evalue": "invalid decimal literal (645110551.py, line 1)",
     "output_type": "error",
     "traceback": [
      "\u001b[1;36m  Cell \u001b[1;32mIn[4], line 1\u001b[1;36m\u001b[0m\n\u001b[1;33m    4Name=\"varsha\"\u001b[0m\n\u001b[1;37m    ^\u001b[0m\n\u001b[1;31mSyntaxError\u001b[0m\u001b[1;31m:\u001b[0m invalid decimal literal\n"
     ]
    }
   ],
   "source": [
    "4Name=\"varsha\""
   ]
  },
  {
   "cell_type": "markdown",
   "id": "41e694ea-540b-4e07-8ee5-72c8ddfa4dfa",
   "metadata": {},
   "source": [
    "#### Because Identifiers cannot start with digit."
   ]
  },
  {
   "cell_type": "markdown",
   "id": "b18fc48e-eeaf-49df-bf77-0147ab9ff305",
   "metadata": {},
   "source": [
    "## 6. Which character is allowed in a  identifier?"
   ]
  },
  {
   "cell_type": "markdown",
   "id": "c4748068-95d8-456c-9bec-d298eaff5a49",
   "metadata": {},
   "source": [
    "### c)_"
   ]
  },
  {
   "cell_type": "code",
   "execution_count": 6,
   "id": "e29d7ea7-1d57-4c50-acb2-a378ce8dde08",
   "metadata": {},
   "outputs": [],
   "source": [
    "_marks=90"
   ]
  },
  {
   "cell_type": "markdown",
   "id": "b08c9611-aea1-4127-b2d4-aeb641fa0ebe",
   "metadata": {},
   "source": [
    "#### Because _(underscore) is allowed in a identifier."
   ]
  },
  {
   "cell_type": "markdown",
   "id": "9289efcc-4d00-40ae-8a4f-569702b7c44b",
   "metadata": {},
   "source": [
    "## 7. Are  identifiers case-sensitive?"
   ]
  },
  {
   "cell_type": "markdown",
   "id": "5665d15d-a703-45a1-a283-43d32eaae4d6",
   "metadata": {},
   "source": [
    "## Yes"
   ]
  },
  {
   "cell_type": "code",
   "execution_count": 7,
   "id": "68b4863a-bf3f-427c-ab96-5f18d240cf37",
   "metadata": {},
   "outputs": [],
   "source": [
    "Name=\"hello\"\n",
    "name=\"hello\""
   ]
  },
  {
   "cell_type": "markdown",
   "id": "a9704a75-a2a9-4cd7-a683-eafe78598915",
   "metadata": {},
   "source": [
    "#### Because Uppercase and Lowercase are different in python."
   ]
  },
  {
   "cell_type": "markdown",
   "id": "fe98c54c-b939-4782-ad16-363658684222",
   "metadata": {},
   "source": [
    "## 8. Which of these are valid  identifiers? Select all that apply.\n"
   ]
  },
  {
   "cell_type": "markdown",
   "id": "9ec8e620-98bd-470a-adf7-b22ce105458b",
   "metadata": {},
   "source": [
    "## a) first_name\n",
    "## b) FirstName\n",
    "## d) _firstname\n"
   ]
  },
  {
   "cell_type": "code",
   "execution_count": 8,
   "id": "c404059e-a35b-48dc-8a1e-0e58bcb0f7bb",
   "metadata": {},
   "outputs": [],
   "source": [
    "first_name=\"sura\"\n",
    "FirstName=\"sura\"\n",
    "_firstname=\"sura\""
   ]
  },
  {
   "cell_type": "markdown",
   "id": "8ce904e2-f02a-4ad6-a1d3-499766347201",
   "metadata": {},
   "source": [
    "#### Because underscored is allowed and there is no space in between."
   ]
  },
  {
   "cell_type": "markdown",
   "id": "c23cb54b-7ee9-41fa-89fa-757414be3f11",
   "metadata": {},
   "source": [
    "## 9. Is class a valid identifier name? Why or why not?\n"
   ]
  },
  {
   "cell_type": "markdown",
   "id": "c4e542a4-9241-4c83-b349-9a4488152442",
   "metadata": {},
   "source": [
    "## No. Class is not a valid identifier."
   ]
  },
  {
   "cell_type": "code",
   "execution_count": 9,
   "id": "7c9cd54f-7070-43e0-a26d-5ae37e4a3b80",
   "metadata": {},
   "outputs": [
    {
     "ename": "SyntaxError",
     "evalue": "invalid syntax (1682762731.py, line 1)",
     "output_type": "error",
     "traceback": [
      "\u001b[1;36m  Cell \u001b[1;32mIn[9], line 1\u001b[1;36m\u001b[0m\n\u001b[1;33m    class=405\u001b[0m\n\u001b[1;37m         ^\u001b[0m\n\u001b[1;31mSyntaxError\u001b[0m\u001b[1;31m:\u001b[0m invalid syntax\n"
     ]
    }
   ],
   "source": [
    "class=405"
   ]
  },
  {
   "cell_type": "markdown",
   "id": "98e5ca10-4514-4895-b253-16f1475ab65f",
   "metadata": {},
   "source": [
    "#### Because it is a keyword. Keywords we should not use for identifiers."
   ]
  },
  {
   "cell_type": "markdown",
   "id": "2bd7e7b1-3626-49f5-a416-df783705c5bd",
   "metadata": {},
   "source": [
    "## 10. What will happen if you use an invalid identifier name in your code?"
   ]
  },
  {
   "cell_type": "markdown",
   "id": "0bf682f0-5b35-419e-8782-8d08882ddb3d",
   "metadata": {},
   "source": [
    "## c) It raises a syntax error"
   ]
  },
  {
   "cell_type": "code",
   "execution_count": 10,
   "id": "18dcd161-cafd-4aea-bec0-215b4eafa497",
   "metadata": {},
   "outputs": [
    {
     "ename": "SyntaxError",
     "evalue": "invalid decimal literal (953903086.py, line 1)",
     "output_type": "error",
     "traceback": [
      "\u001b[1;36m  Cell \u001b[1;32mIn[10], line 1\u001b[1;36m\u001b[0m\n\u001b[1;33m    3marks=60\u001b[0m\n\u001b[1;37m    ^\u001b[0m\n\u001b[1;31mSyntaxError\u001b[0m\u001b[1;31m:\u001b[0m invalid decimal literal\n"
     ]
    }
   ],
   "source": [
    "3marks=60"
   ]
  },
  {
   "cell_type": "markdown",
   "id": "fa88954f-f3a8-44ea-a8c2-de9adb5bc32b",
   "metadata": {},
   "source": [
    "#### Because it is invalid it raises a syntax error."
   ]
  },
  {
   "cell_type": "markdown",
   "id": "779e6186-5129-4ac6-9ac4-a7d5d27243e2",
   "metadata": {},
   "source": [
    "## 11. Can two identifiers in  differ only by case? (e.g., name and Name)\n"
   ]
  },
  {
   "cell_type": "markdown",
   "id": "2db91918-d0cf-4f1e-bdd5-e298e0b55851",
   "metadata": {},
   "source": [
    "## True. "
   ]
  },
  {
   "cell_type": "code",
   "execution_count": 12,
   "id": "048b99c5-ab80-4909-a7b3-beffac4386b7",
   "metadata": {},
   "outputs": [],
   "source": [
    "name=\"rani\"\n",
    "Name=\"rani\""
   ]
  },
  {
   "cell_type": "markdown",
   "id": "d9306998-8858-4c65-b937-ce8400128d4c",
   "metadata": {},
   "source": [
    "#### Because case sensitive."
   ]
  },
  {
   "cell_type": "markdown",
   "id": "f2ade62a-024f-46c0-92b2-344758e225bc",
   "metadata": {},
   "source": [
    "## 12. What is the difference between myVar and my_var in ?"
   ]
  },
  {
   "cell_type": "markdown",
   "id": "1c886c59-070d-443a-ae2a-00141c78a5a6",
   "metadata": {},
   "source": [
    "## Underscore is in between my and var, Capital V."
   ]
  },
  {
   "cell_type": "code",
   "execution_count": 14,
   "id": "00995837-f64c-4ee3-a590-8a80a171fde4",
   "metadata": {},
   "outputs": [],
   "source": [
    "myVar=10\n",
    "my_var=10"
   ]
  },
  {
   "cell_type": "markdown",
   "id": "14ba8662-7ca8-4abd-8dd2-061a97577ccc",
   "metadata": {},
   "source": [
    "## 13. Can an identifier be the same as a built-in function name (like print)?"
   ]
  },
  {
   "cell_type": "markdown",
   "id": "38394145-a0d9-4772-8336-8deb57dcfbc7",
   "metadata": {},
   "source": [
    "## We should not use."
   ]
  },
  {
   "cell_type": "code",
   "execution_count": 3,
   "id": "12617932-dbfc-4cd4-a8cf-baa5aa69e17c",
   "metadata": {},
   "outputs": [
    {
     "data": {
      "text/plain": [
       "7"
      ]
     },
     "execution_count": 3,
     "metadata": {},
     "output_type": "execute_result"
    }
   ],
   "source": [
    "print=7\n",
    "print"
   ]
  },
  {
   "cell_type": "markdown",
   "id": "3e03b6c8-763d-4cc7-84d3-bf8ba2e2b77c",
   "metadata": {},
   "source": [
    "## 14. Choose the incorrect identifier from below:"
   ]
  },
  {
   "cell_type": "markdown",
   "id": "72c5b4c6-eb1b-4946-94ca-251279c72772",
   "metadata": {},
   "source": [
    "## c) 2ndUser"
   ]
  },
  {
   "cell_type": "code",
   "execution_count": 16,
   "id": "ab229b54-71eb-465d-b7ff-96f14e7beb2b",
   "metadata": {},
   "outputs": [
    {
     "ename": "SyntaxError",
     "evalue": "invalid decimal literal (2234613058.py, line 1)",
     "output_type": "error",
     "traceback": [
      "\u001b[1;36m  Cell \u001b[1;32mIn[16], line 1\u001b[1;36m\u001b[0m\n\u001b[1;33m    2ndUser=\"Rekha\"\u001b[0m\n\u001b[1;37m    ^\u001b[0m\n\u001b[1;31mSyntaxError\u001b[0m\u001b[1;31m:\u001b[0m invalid decimal literal\n"
     ]
    }
   ],
   "source": [
    "2ndUser=\"Rekha\""
   ]
  },
  {
   "cell_type": "markdown",
   "id": "f20bc043-3354-45fa-ab85-14b63c1b9736",
   "metadata": {},
   "source": [
    "#### Because Identifiers should not start with digits."
   ]
  },
  {
   "cell_type": "markdown",
   "id": "04aa47b9-7a89-4f37-8f12-1b9a74930833",
   "metadata": {},
   "source": [
    "## 15. Why is for not a valid identifier name in ?"
   ]
  },
  {
   "cell_type": "markdown",
   "id": "37e6eaf0-3be7-42d9-93a3-28ca8427d211",
   "metadata": {},
   "source": [
    "## for is not a valid identifier because it is a keyword, we should not use keywords."
   ]
  },
  {
   "cell_type": "code",
   "execution_count": 18,
   "id": "31926101-7c8e-4279-b4c9-e65c1746113a",
   "metadata": {},
   "outputs": [
    {
     "ename": "SyntaxError",
     "evalue": "invalid syntax (3607613351.py, line 1)",
     "output_type": "error",
     "traceback": [
      "\u001b[1;36m  Cell \u001b[1;32mIn[18], line 1\u001b[1;36m\u001b[0m\n\u001b[1;33m    for=\"Varsha\"\u001b[0m\n\u001b[1;37m       ^\u001b[0m\n\u001b[1;31mSyntaxError\u001b[0m\u001b[1;31m:\u001b[0m invalid syntax\n"
     ]
    }
   ],
   "source": [
    "for=\"Varsha\""
   ]
  },
  {
   "cell_type": "markdown",
   "id": "9a11fb1f-512c-4bc1-a43f-2097f872337f",
   "metadata": {},
   "source": [
    "## 16. Is _temp a valid identifier? What does the underscore mean?"
   ]
  },
  {
   "cell_type": "markdown",
   "id": "6b7359a1-034b-4ca6-b6fb-73dce02a8605",
   "metadata": {},
   "source": [
    "## valid. Underscore means it is a special character."
   ]
  },
  {
   "cell_type": "code",
   "execution_count": 20,
   "id": "ef44d1eb-9781-4b40-8ee4-8d41923da450",
   "metadata": {},
   "outputs": [],
   "source": [
    "_temp=50"
   ]
  },
  {
   "cell_type": "markdown",
   "id": "96246df5-5451-4ba5-8a58-10e9b303ed78",
   "metadata": {},
   "source": [
    "## 17. Create all valid  identifier using the words: user, data, and 2025."
   ]
  },
  {
   "cell_type": "code",
   "execution_count": 21,
   "id": "99593870-4e8a-46e8-8e75-6cfe2e334d57",
   "metadata": {},
   "outputs": [],
   "source": [
    "user='Hari'\n",
    "data=100\n",
    "Year2025=\"current year\""
   ]
  },
  {
   "cell_type": "markdown",
   "id": "1dc1ecca-8ee8-47db-a468-1689139e25c3",
   "metadata": {},
   "source": [
    "## 18. Create a variable named my-name and assign it the value \"Alice\". What happens? Try it below."
   ]
  },
  {
   "cell_type": "code",
   "execution_count": 22,
   "id": "b9e00b84-fd41-46b0-a48a-fdc226724890",
   "metadata": {},
   "outputs": [
    {
     "ename": "SyntaxError",
     "evalue": "cannot assign to expression here. Maybe you meant '==' instead of '='? (2311759840.py, line 1)",
     "output_type": "error",
     "traceback": [
      "\u001b[1;36m  Cell \u001b[1;32mIn[22], line 1\u001b[1;36m\u001b[0m\n\u001b[1;33m    my-name=\"Alice\"\u001b[0m\n\u001b[1;37m    ^\u001b[0m\n\u001b[1;31mSyntaxError\u001b[0m\u001b[1;31m:\u001b[0m cannot assign to expression here. Maybe you meant '==' instead of '='?\n"
     ]
    }
   ],
   "source": [
    "my-name=\"Alice\""
   ]
  },
  {
   "cell_type": "markdown",
   "id": "7512cc8a-108d-4dba-a8b9-b9170e49cc83",
   "metadata": {},
   "source": [
    "#### It is raising syntax error because special characters are not allowed except underscore."
   ]
  },
  {
   "cell_type": "markdown",
   "id": "5e0b7e3f-13ee-42c2-be3d-1b2fbe678931",
   "metadata": {},
   "source": [
    "## 19. Try creating a variable that starts with a number, like 1value = 10. What error do you see?"
   ]
  },
  {
   "cell_type": "code",
   "execution_count": 23,
   "id": "d3eb1d79-7cff-4c05-80d3-d28ecf5b0681",
   "metadata": {},
   "outputs": [
    {
     "ename": "SyntaxError",
     "evalue": "invalid decimal literal (3885281593.py, line 1)",
     "output_type": "error",
     "traceback": [
      "\u001b[1;36m  Cell \u001b[1;32mIn[23], line 1\u001b[1;36m\u001b[0m\n\u001b[1;33m    1value=10\u001b[0m\n\u001b[1;37m    ^\u001b[0m\n\u001b[1;31mSyntaxError\u001b[0m\u001b[1;31m:\u001b[0m invalid decimal literal\n"
     ]
    }
   ],
   "source": [
    "1value=10"
   ]
  },
  {
   "cell_type": "markdown",
   "id": "aa22257d-6f1a-4043-8941-5ac2e202b722",
   "metadata": {},
   "source": [
    "#### Syntax Error:invalid decimal literal. Because identifiers should not start with digit."
   ]
  },
  {
   "cell_type": "markdown",
   "id": "0131c519-b283-44bf-8f45-ec07a050097a",
   "metadata": {},
   "source": [
    "## 20.  Define a variable named user_name and assign any value. Then print it."
   ]
  },
  {
   "cell_type": "code",
   "execution_count": 58,
   "id": "ad6ee990-09e1-43c9-9b6c-9b8c2cfdef0c",
   "metadata": {},
   "outputs": [
    {
     "name": "stdout",
     "output_type": "stream",
     "text": [
      "hi\n"
     ]
    }
   ],
   "source": [
    "user_name='hi'\n",
    "print(user_name)"
   ]
  },
  {
   "cell_type": "markdown",
   "id": "d2133989-4d80-4f66-8069-393cf5783dfb",
   "metadata": {},
   "source": [
    "## 21. Try to create a variable named class and assign it any value. What happens?"
   ]
  },
  {
   "cell_type": "code",
   "execution_count": 30,
   "id": "93556fff-aa5c-4193-ad9b-d8435050758c",
   "metadata": {},
   "outputs": [
    {
     "ename": "SyntaxError",
     "evalue": "invalid syntax (4066345347.py, line 1)",
     "output_type": "error",
     "traceback": [
      "\u001b[1;36m  Cell \u001b[1;32mIn[30], line 1\u001b[1;36m\u001b[0m\n\u001b[1;33m    class=105\u001b[0m\n\u001b[1;37m         ^\u001b[0m\n\u001b[1;31mSyntaxError\u001b[0m\u001b[1;31m:\u001b[0m invalid syntax\n"
     ]
    }
   ],
   "source": [
    "class=105"
   ]
  },
  {
   "cell_type": "markdown",
   "id": "3dec4771-d069-42d6-854a-2d6a413e63f7",
   "metadata": {},
   "source": [
    "#### Showing Syntax error. Because class is keyword. Keywords should not use for identifiers."
   ]
  },
  {
   "cell_type": "markdown",
   "id": "347d43fb-21be-4f97-b632-5ee153af08b8",
   "metadata": {},
   "source": [
    "## 22. Create two variables: data and Data. Assign different values and print both. What do you observe?"
   ]
  },
  {
   "cell_type": "code",
   "execution_count": 57,
   "id": "2f551603-cb85-44e2-b375-e8f9f3035e90",
   "metadata": {},
   "outputs": [
    {
     "name": "stdout",
     "output_type": "stream",
     "text": [
      "20\n",
      "40\n"
     ]
    }
   ],
   "source": [
    "data=20\n",
    "Data=40\n",
    "print(data)\n",
    "print(Data)"
   ]
  },
  {
   "cell_type": "markdown",
   "id": "c4caa446-8c8b-49a8-b50b-18a3b6ed77a7",
   "metadata": {},
   "source": [
    "#### data and Data are different because case sensitive."
   ]
  },
  {
   "cell_type": "markdown",
   "id": "cec57d54-b873-4913-bec5-bd3b76e579ca",
   "metadata": {},
   "source": [
    "## 23. Which of the following variable names work in ? Try each one and note which raise errors."
   ]
  },
  {
   "cell_type": "markdown",
   "id": "1a9a671d-cd15-4d30-947e-21b0f9cf74c8",
   "metadata": {},
   "source": [
    "## b)_first_name\n",
    "## d)firstName\n",
    "## e)first_name\n",
    "## These are correct."
   ]
  },
  {
   "cell_type": "code",
   "execution_count": 34,
   "id": "b1c7c8b5-20e5-416a-bfe2-06eb982c9e0e",
   "metadata": {},
   "outputs": [
    {
     "ename": "SyntaxError",
     "evalue": "cannot assign to expression here. Maybe you meant '==' instead of '='? (1925945622.py, line 1)",
     "output_type": "error",
     "traceback": [
      "\u001b[1;36m  Cell \u001b[1;32mIn[34], line 1\u001b[1;36m\u001b[0m\n\u001b[1;33m    first-name=\"Hello\"\u001b[0m\n\u001b[1;37m    ^\u001b[0m\n\u001b[1;31mSyntaxError\u001b[0m\u001b[1;31m:\u001b[0m cannot assign to expression here. Maybe you meant '==' instead of '='?\n"
     ]
    }
   ],
   "source": [
    "first-name=\"Hello\""
   ]
  },
  {
   "cell_type": "markdown",
   "id": "e8fb7b46-7758-4343-bb10-95e6944db254",
   "metadata": {},
   "source": [
    "#### Syntax error cannot assign to expression here. Maybe you meant '==' instead of '='?"
   ]
  },
  {
   "cell_type": "code",
   "execution_count": 35,
   "id": "120c8203-0064-4758-98fb-4db55a20d362",
   "metadata": {},
   "outputs": [],
   "source": [
    "_first_name=\"Hello\""
   ]
  },
  {
   "cell_type": "markdown",
   "id": "7256c19b-d69e-4c2b-86b0-f162bc80c7a3",
   "metadata": {},
   "source": [
    "#### no error."
   ]
  },
  {
   "cell_type": "code",
   "execution_count": 37,
   "id": "1e4c21de-e495-4631-9b50-3908cd201936",
   "metadata": {},
   "outputs": [
    {
     "ename": "SyntaxError",
     "evalue": "invalid decimal literal (3731418509.py, line 1)",
     "output_type": "error",
     "traceback": [
      "\u001b[1;36m  Cell \u001b[1;32mIn[37], line 1\u001b[1;36m\u001b[0m\n\u001b[1;33m    1stName=\"Hello\"\u001b[0m\n\u001b[1;37m    ^\u001b[0m\n\u001b[1;31mSyntaxError\u001b[0m\u001b[1;31m:\u001b[0m invalid decimal literal\n"
     ]
    }
   ],
   "source": [
    "1stName=\"Hello\""
   ]
  },
  {
   "cell_type": "markdown",
   "id": "fca8c587-fc84-4312-97b7-79f06447c22e",
   "metadata": {},
   "source": [
    "#### SyntaxError: invalid decimal literal."
   ]
  },
  {
   "cell_type": "code",
   "execution_count": 38,
   "id": "fbb6aed9-6037-456e-bdda-d8db0652e5b8",
   "metadata": {},
   "outputs": [],
   "source": [
    "firstName=\"Hello\""
   ]
  },
  {
   "cell_type": "markdown",
   "id": "f64efdad-69be-4f7e-bfee-6ae034dd5606",
   "metadata": {},
   "source": [
    "#### no error."
   ]
  },
  {
   "cell_type": "code",
   "execution_count": 39,
   "id": "f7e29c44-1675-4e40-b9a7-09e371f9f066",
   "metadata": {},
   "outputs": [],
   "source": [
    "first_name=\"Hello\""
   ]
  },
  {
   "cell_type": "markdown",
   "id": "6816e2eb-13f0-4078-8231-de2e1b18a20e",
   "metadata": {},
   "source": [
    "#### no error."
   ]
  },
  {
   "cell_type": "markdown",
   "id": "f8221e4d-c414-4903-9423-e0c12d3ff62b",
   "metadata": {},
   "source": [
    "## 24. Try assigning a value to the variable print. What happens when you use print() afterward?"
   ]
  },
  {
   "cell_type": "code",
   "execution_count": 74,
   "id": "9c5d9c04-3497-44a4-b504-6daa91d0b972",
   "metadata": {},
   "outputs": [
    {
     "ename": "TypeError",
     "evalue": "'int' object is not callable",
     "output_type": "error",
     "traceback": [
      "\u001b[1;31m---------------------------------------------------------------------------\u001b[0m",
      "\u001b[1;31mTypeError\u001b[0m                                 Traceback (most recent call last)",
      "Cell \u001b[1;32mIn[74], line 2\u001b[0m\n\u001b[0;32m      1\u001b[0m \u001b[38;5;28mprint\u001b[39m\u001b[38;5;241m=\u001b[39m\u001b[38;5;241m30\u001b[39m\n\u001b[1;32m----> 2\u001b[0m \u001b[38;5;28mprint\u001b[39m()\n",
      "\u001b[1;31mTypeError\u001b[0m: 'int' object is not callable"
     ]
    }
   ],
   "source": [
    "print=30\n",
    "print()"
   ]
  },
  {
   "cell_type": "markdown",
   "id": "aa0acf35-6969-48f9-a3bb-0347d45ec333",
   "metadata": {},
   "source": [
    "#### Showing TypeError: 'int' object is not callable."
   ]
  },
  {
   "cell_type": "markdown",
   "id": "89945375-fbf0-44e3-b02b-1a794d550c2e",
   "metadata": {},
   "source": [
    "## 25. Create a variable with a very long name using underscores (e.g., this_is_a_really_long_variable_name). Assign any value and print it."
   ]
  },
  {
   "cell_type": "code",
   "execution_count": 52,
   "id": "c46815ed-13e7-4f71-99ec-e96ba72ece28",
   "metadata": {},
   "outputs": [
    {
     "name": "stdout",
     "output_type": "stream",
     "text": [
      "SURA VARSHA\n"
     ]
    }
   ],
   "source": [
    "this_is_a_really_long_variable_name=\"SURA VARSHA\"\n",
    "print(this_is_a_really_long_variable_name)"
   ]
  },
  {
   "cell_type": "markdown",
   "id": "eb2f8676-48ee-4435-9acd-4d498993a829",
   "metadata": {},
   "source": [
    "## 26. Write  code to create a variable named _temp and assign it the value 5. Then print _temp."
   ]
  },
  {
   "cell_type": "code",
   "execution_count": 51,
   "id": "67f5bf15-d344-4c36-872e-8435d58d6289",
   "metadata": {},
   "outputs": [
    {
     "name": "stdout",
     "output_type": "stream",
     "text": [
      "5\n"
     ]
    }
   ],
   "source": [
    "_temp=5\n",
    "print(_temp)"
   ]
  },
  {
   "cell_type": "markdown",
   "id": "eee35358-61d0-4b2c-875e-d4e6633c56fb",
   "metadata": {},
   "source": [
    "## 27. Try using the identifier for = 10. What error do you get?"
   ]
  },
  {
   "cell_type": "code",
   "execution_count": 45,
   "id": "d13d884c-dfec-4317-9c82-3ddbe1ec4df8",
   "metadata": {},
   "outputs": [
    {
     "ename": "SyntaxError",
     "evalue": "invalid syntax (4258171486.py, line 1)",
     "output_type": "error",
     "traceback": [
      "\u001b[1;36m  Cell \u001b[1;32mIn[45], line 1\u001b[1;36m\u001b[0m\n\u001b[1;33m    for=10\u001b[0m\n\u001b[1;37m       ^\u001b[0m\n\u001b[1;31mSyntaxError\u001b[0m\u001b[1;31m:\u001b[0m invalid syntax\n"
     ]
    }
   ],
   "source": [
    "for=10"
   ]
  },
  {
   "cell_type": "markdown",
   "id": "39c75363-cbbf-4727-9ce0-e4721e098def",
   "metadata": {},
   "source": [
    "#### I got SyntaxError: invalid syntax"
   ]
  },
  {
   "cell_type": "markdown",
   "id": "ae8c9d6f-acc3-449d-bc85-59664a6fc6b7",
   "metadata": {},
   "source": [
    "## 28. Use dir(__builtins__) to print a list of  built-in names. Try to create a variable with one of them (e.g., input). What happen?"
   ]
  },
  {
   "cell_type": "code",
   "execution_count": 50,
   "id": "9b0c0594-216b-4910-acd6-5052bb7d9b4e",
   "metadata": {},
   "outputs": [
    {
     "name": "stdout",
     "output_type": "stream",
     "text": [
      "['ArithmeticError', 'AssertionError', 'AttributeError', 'BaseException', 'BaseExceptionGroup', 'BlockingIOError', 'BrokenPipeError', 'BufferError', 'BytesWarning', 'ChildProcessError', 'ConnectionAbortedError', 'ConnectionError', 'ConnectionRefusedError', 'ConnectionResetError', 'DeprecationWarning', 'EOFError', 'Ellipsis', 'EncodingWarning', 'EnvironmentError', 'Exception', 'ExceptionGroup', 'False', 'FileExistsError', 'FileNotFoundError', 'FloatingPointError', 'FutureWarning', 'GeneratorExit', 'IOError', 'ImportError', 'ImportWarning', 'IndentationError', 'IndexError', 'InterruptedError', 'IsADirectoryError', 'KeyError', 'KeyboardInterrupt', 'LookupError', 'MemoryError', 'ModuleNotFoundError', 'NameError', 'None', 'NotADirectoryError', 'NotImplemented', 'NotImplementedError', 'OSError', 'OverflowError', 'PendingDeprecationWarning', 'PermissionError', 'ProcessLookupError', 'PythonFinalizationError', 'RecursionError', 'ReferenceError', 'ResourceWarning', 'RuntimeError', 'RuntimeWarning', 'StopAsyncIteration', 'StopIteration', 'SyntaxError', 'SyntaxWarning', 'SystemError', 'SystemExit', 'TabError', 'TimeoutError', 'True', 'TypeError', 'UnboundLocalError', 'UnicodeDecodeError', 'UnicodeEncodeError', 'UnicodeError', 'UnicodeTranslateError', 'UnicodeWarning', 'UserWarning', 'ValueError', 'Warning', 'WindowsError', 'ZeroDivisionError', '_IncompleteInputError', '__IPYTHON__', '__build_class__', '__debug__', '__doc__', '__import__', '__loader__', '__name__', '__package__', '__spec__', 'abs', 'aiter', 'all', 'anext', 'any', 'ascii', 'bin', 'bool', 'breakpoint', 'bytearray', 'bytes', 'callable', 'chr', 'classmethod', 'compile', 'complex', 'copyright', 'credits', 'delattr', 'dict', 'dir', 'display', 'divmod', 'enumerate', 'eval', 'exec', 'execfile', 'filter', 'float', 'format', 'frozenset', 'get_ipython', 'getattr', 'globals', 'hasattr', 'hash', 'help', 'hex', 'id', 'input', 'int', 'isinstance', 'issubclass', 'iter', 'len', 'license', 'list', 'locals', 'map', 'max', 'memoryview', 'min', 'next', 'object', 'oct', 'open', 'ord', 'pow', 'print', 'property', 'range', 'repr', 'reversed', 'round', 'runfile', 'set', 'setattr', 'slice', 'sorted', 'staticmethod', 'str', 'sum', 'super', 'tuple', 'type', 'vars', 'zip']\n"
     ]
    }
   ],
   "source": [
    "print(dir(__builtins__))"
   ]
  },
  {
   "cell_type": "code",
   "execution_count": 61,
   "id": "8876f492-00fd-4d02-9f7e-e947caa89308",
   "metadata": {},
   "outputs": [],
   "source": [
    "input=\"test\""
   ]
  },
  {
   "cell_type": "markdown",
   "id": "4e4bfb29-8427-45b8-8cd0-5d4b797816ca",
   "metadata": {},
   "source": [
    "#### Nothing happens no error"
   ]
  },
  {
   "cell_type": "markdown",
   "id": "eb99d810-2938-4b7b-864e-815ae263ee16",
   "metadata": {},
   "source": [
    "## 29. Create variables named Name, NAME, and name, each with a different value. Print all three."
   ]
  },
  {
   "cell_type": "code",
   "execution_count": 63,
   "id": "35c28d76-a020-4bf2-a194-a2b64749c830",
   "metadata": {},
   "outputs": [
    {
     "name": "stdout",
     "output_type": "stream",
     "text": [
      "harini\n",
      "RAMYA\n",
      "dhevansh\n"
     ]
    }
   ],
   "source": [
    "Name=\"harini\"\n",
    "NAME=\"RAMYA\"\n",
    "name=\"dhevansh\"\n",
    "print(Name)\n",
    "print(NAME)\n",
    "print(name)"
   ]
  },
  {
   "cell_type": "markdown",
   "id": "c1efa19f-8b2b-4615-b93e-544b3681ccd9",
   "metadata": {},
   "source": [
    "## 30. Use a mix of underscores and camelCase to create three identifiers: userData, user_data, and User_Data. Assign each a number and add them."
   ]
  },
  {
   "cell_type": "code",
   "execution_count": 64,
   "id": "c2a5e0d4-2c1b-4d27-885c-1136abed891c",
   "metadata": {},
   "outputs": [
    {
     "name": "stdout",
     "output_type": "stream",
     "text": [
      "600\n"
     ]
    }
   ],
   "source": [
    "userData=100\n",
    "user_data=200\n",
    "User_Data=300\n",
    "total=userData+user_data+User_Data\n",
    "print(total)"
   ]
  },
  {
   "cell_type": "markdown",
   "id": "90d484a2-f97b-4df2-837a-fd6bdda26c43",
   "metadata": {},
   "source": [
    "## 31. Write  code to check whether the identifier 2cool is valid. Try assigning a value to it."
   ]
  },
  {
   "cell_type": "code",
   "execution_count": 65,
   "id": "58311bb7-59ec-491b-a417-30274e884aec",
   "metadata": {},
   "outputs": [
    {
     "ename": "SyntaxError",
     "evalue": "invalid decimal literal (1185032326.py, line 1)",
     "output_type": "error",
     "traceback": [
      "\u001b[1;36m  Cell \u001b[1;32mIn[65], line 1\u001b[1;36m\u001b[0m\n\u001b[1;33m    2cool=\"yes\"\u001b[0m\n\u001b[1;37m    ^\u001b[0m\n\u001b[1;31mSyntaxError\u001b[0m\u001b[1;31m:\u001b[0m invalid decimal literal\n"
     ]
    }
   ],
   "source": [
    "2cool=\"yes\""
   ]
  },
  {
   "cell_type": "markdown",
   "id": "1331a0a4-5bc7-4cd0-a3fa-ca24e3742d2e",
   "metadata": {},
   "source": [
    "#### Raising error because identifier should not start with digit."
   ]
  },
  {
   "cell_type": "markdown",
   "id": "85450246-cc42-4779-b820-1697eca9899f",
   "metadata": {},
   "source": [
    "## 32. Come up with a creative, valid variable name using the words: student, marks, and 2025. Assign it a list of three numbers."
   ]
  },
  {
   "cell_type": "code",
   "execution_count": 2,
   "id": "a5f4834e-ea82-47f7-8892-2ac4c650b6c9",
   "metadata": {},
   "outputs": [],
   "source": [
    "student_roll_no=20\n",
    "marks_of_student=100\n",
    "sum_of_2025=9"
   ]
  },
  {
   "cell_type": "code",
   "execution_count": null,
   "id": "880f4e2e-5bd1-402e-8fbb-d660e0dc409f",
   "metadata": {},
   "outputs": [],
   "source": []
  }
 ],
 "metadata": {
  "kernelspec": {
   "display_name": "Python 3 (ipykernel)",
   "language": "python",
   "name": "python3"
  },
  "language_info": {
   "codemirror_mode": {
    "name": "ipython",
    "version": 3
   },
   "file_extension": ".py",
   "mimetype": "text/x-python",
   "name": "python",
   "nbconvert_exporter": "python",
   "pygments_lexer": "ipython3",
   "version": "3.13.5"
  }
 },
 "nbformat": 4,
 "nbformat_minor": 5
}
