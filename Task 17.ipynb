{
 "cells": [
  {
   "cell_type": "markdown",
   "id": "12448a84-517d-404f-a99c-561ddc639078",
   "metadata": {},
   "source": [
    "## EXCEPTION HANDLING\n",
    "## 🔹 Basic Try-Except Usage\n",
    "## 1. Write a function that divides two numbers.\n",
    "## If the denominator is zero, handle the error using try-except.\n",
    "## ➤ Hint: Use ZeroDivisionError.\n"
   ]
  },
  {
   "cell_type": "code",
   "execution_count": 5,
   "id": "8b5fdd0a-e26a-47c4-9fcb-50948b23f924",
   "metadata": {},
   "outputs": [
    {
     "name": "stdout",
     "output_type": "stream",
     "text": [
      "ZeroDivisionError\n"
     ]
    }
   ],
   "source": [
    "def fun(a,b):\n",
    "     try:\n",
    "         x=a/b\n",
    "         return x\n",
    "     except ZeroDivisionError:\n",
    "         print(\"ZeroDivisionError\")\n",
    "fun(8,0)\n",
    "    "
   ]
  },
  {
   "cell_type": "markdown",
   "id": "c82ad553-9b35-43a1-93ed-467e6b1ef0ad",
   "metadata": {},
   "source": [
    "## 2. Ask the user to enter an integer and convert it using int().\n",
    "## If the input is invalid, catch the exception and print a message.\n",
    "## ➤ Hint: Use ValueError.\n",
    "\n",
    "\n"
   ]
  },
  {
   "cell_type": "code",
   "execution_count": 10,
   "id": "08787746-cdfc-4058-a83a-5ed046022137",
   "metadata": {},
   "outputs": [
    {
     "name": "stdin",
     "output_type": "stream",
     "text": [
      "Enter number abc\n"
     ]
    },
    {
     "name": "stdout",
     "output_type": "stream",
     "text": [
      "ValueError\n",
      "Invalid input\n"
     ]
    }
   ],
   "source": [
    "def get_num():\n",
    "    \n",
    " try:\n",
    "    num=int(input(\"Enter number\"))\n",
    "    print(num)\n",
    " except ValueError:\n",
    "    print(\"ValueError\")\n",
    "    print(\"Invalid input\")   \n",
    "get_num()"
   ]
  },
  {
   "cell_type": "markdown",
   "id": "811bf425-e447-4bc3-be20-f502a58ffdc0",
   "metadata": {},
   "source": [
    "## 3. Write a function that opens a file named 'data.txt'.\n",
    "## If the file is missing, catch the error and show a message.\n",
    "## ➤ Hint: Use FileNotFoundError.\n",
    "\n",
    "\n"
   ]
  },
  {
   "cell_type": "code",
   "execution_count": 11,
   "id": "0a11bfe6-9aa3-45a6-a014-b4b4ea4c5b26",
   "metadata": {},
   "outputs": [
    {
     "name": "stdout",
     "output_type": "stream",
     "text": [
      "Error: The file 'data.txt' was not found.\n"
     ]
    }
   ],
   "source": [
    "def file():\n",
    "    try:\n",
    "        with open('data.txt','r') as m:\n",
    "            content=m.read\n",
    "            print(content)\n",
    "    except FileNotFoundError:\n",
    "        print(\"Error: The file 'data.txt' was not found.\")\n",
    "file()        "
   ]
  },
  {
   "cell_type": "markdown",
   "id": "123cdd8d-8cde-4bcb-9b83-609c80ce4132",
   "metadata": {},
   "source": [
    "## 4. Create a function to find the square root of a number.\n",
    "## Raise a custom error if the input is negative.\n",
    "## ➤ Hint: Use raise ValueError(\"...\").\n",
    "\n",
    "\n"
   ]
  },
  {
   "cell_type": "code",
   "execution_count": 30,
   "id": "8aaff392-b7f7-47f2-b033-23760a2d2b13",
   "metadata": {},
   "outputs": [
    {
     "name": "stdout",
     "output_type": "stream",
     "text": [
      "2.23606797749979\n",
      "Error: ValueError\n"
     ]
    }
   ],
   "source": [
    "import math\n",
    "def square_root(num):\n",
    "       \n",
    "        if num<0:\n",
    "            raise ValueError(\"ValueError\")\n",
    "        else:\n",
    "            return math.sqrt(num)\n",
    "try:\n",
    "    print(square_root(5))\n",
    "    print(square_root(-5))\n",
    "except ValueError as e:\n",
    "    print(\"Error:\", e)\n"
   ]
  },
  {
   "cell_type": "markdown",
   "id": "848d5fda-60e3-4dbd-b734-2e768eed33f5",
   "metadata": {},
   "source": [
    "## 5. Write a function to fetch an item from a list using an index.\n",
    "## Handle the case where the index is out of range.\n",
    "## ➤ Hint: Use IndexError."
   ]
  },
  {
   "cell_type": "code",
   "execution_count": 45,
   "id": "22ab9e57-6608-4a8e-b790-049eb27e1ee8",
   "metadata": {},
   "outputs": [
    {
     "name": "stdin",
     "output_type": "stream",
     "text": [
      "Enter index 7\n"
     ]
    },
    {
     "name": "stdout",
     "output_type": "stream",
     "text": [
      "Index error\n"
     ]
    }
   ],
   "source": [
    "def fetch():\n",
    "    try:\n",
    "        list1=[2,3,4,8]\n",
    "        i=int(input(\"Enter index\"))\n",
    "        print(list1[i])\n",
    "    except IndexError:\n",
    "              print(\"Index error\")\n",
    "fetch()   "
   ]
  },
  {
   "cell_type": "markdown",
   "id": "12ccd1da-ea94-41f3-bb66-3e165618d556",
   "metadata": {},
   "source": [
    "## 6. Create a menu using if-elif-else and let the user pick an option.\n",
    "## Wrap the menu in a try-except block to handle invalid choices.\n",
    "## ➤ Hint: Handle invalid int() conversion.\n"
   ]
  },
  {
   "cell_type": "code",
   "execution_count": 53,
   "id": "6312ef16-f56a-438e-920a-abddbf7a5930",
   "metadata": {},
   "outputs": [
    {
     "name": "stdout",
     "output_type": "stream",
     "text": [
      "Menu\n",
      "1.Dosa\n",
      "2.Idly\n",
      "3.Pesarattu\n",
      "4.Tea\n"
     ]
    },
    {
     "name": "stdin",
     "output_type": "stream",
     "text": [
      "Enter choice:  9\n"
     ]
    },
    {
     "name": "stdout",
     "output_type": "stream",
     "text": [
      "Value Error: Invalid menu choice\n"
     ]
    }
   ],
   "source": [
    "try:\n",
    "    print(\"Menu\")\n",
    "    print(\"1.Dosa\")\n",
    "    print(\"2.Idly\")\n",
    "    print(\"3.Pesarattu\")\n",
    "    print(\"4.Tea\")\n",
    "    choice = int(input(\"Enter choice: \"))\n",
    "\n",
    "    if choice == 1:\n",
    "        print(\"Dosa is ready\")\n",
    "    elif choice == 2:\n",
    "        print(\"Idly is ready\")\n",
    "    elif choice == 3:\n",
    "        print(\"Pesarattu is ready\")\n",
    "    elif choice == 4:\n",
    "        print(\"Tea is ready\")\n",
    "    else:\n",
    "        raise ValueError(\"Invalid menu choice\")\n",
    "\n",
    "except ValueError as e:\n",
    "    print(\"Value Error:\", e)"
   ]
  },
  {
   "cell_type": "markdown",
   "id": "acbc1d2e-5be2-433a-bb25-49a1484a51d3",
   "metadata": {},
   "source": [
    "## 7. Write a function that takes two dictionary keys and returns their values.\n",
    "## Handle missing keys using try-except.\n",
    "## ➤ Hint: Use KeyError.\n"
   ]
  },
  {
   "cell_type": "code",
   "execution_count": 56,
   "id": "8f77ee9c-a4f2-4523-94a5-c92628f89d98",
   "metadata": {},
   "outputs": [
    {
     "name": "stdout",
     "output_type": "stream",
     "text": [
      "Key 'salary' not found\n"
     ]
    }
   ],
   "source": [
    "def get_values(dict2,key1,key2):\n",
    "    try:\n",
    "        val1=dict2[key1]\n",
    "        val2=dict2[key2]\n",
    "        return val1,val2\n",
    "    except KeyError as e:\n",
    "        return f\"Key {e} not found\"\n",
    "data = {\"name\": \"Varsha\", \"age\": 22, \"city\": \"Hyderabad\"}\n",
    "\n",
    "print(get_values(data, \"name\", \"salary\")) "
   ]
  },
  {
   "cell_type": "markdown",
   "id": "6d28e381-d0cc-41f1-aa44-7357dd086934",
   "metadata": {},
   "source": [
    "## 8. Build a login function that accepts a username and password.\n",
    "## Raise a custom Exception if the credentials are incorrect.\n",
    "## ➤ Hint: Use raise Exception(\"Invalid credentials\").\n"
   ]
  },
  {
   "cell_type": "code",
   "execution_count": 64,
   "id": "6829d1c3-0043-415b-8c5f-63f3c63b993f",
   "metadata": {},
   "outputs": [
    {
     "name": "stdout",
     "output_type": "stream",
     "text": [
      "Error Invalid credentials\n"
     ]
    }
   ],
   "source": [
    "def login(username,password):\n",
    "    try:\n",
    "        if username==\"varsha\" and password==123:\n",
    "            print(\"Login succesfully completed\")\n",
    "        else:\n",
    "            raise Exception(\"Invalid credentials\")\n",
    "    except Exception as e:\n",
    "        print(\"Error\",e)\n",
    "login(\"varsha\",1234)"
   ]
  },
  {
   "cell_type": "markdown",
   "id": "a6e57e94-2a66-4922-a057-5a1a9edcb1b3",
   "metadata": {},
   "source": [
    "## 9.Use a function to read a file and count its lines.\n",
    "## If the file doesn’t exist, display a custom message.\n",
    "## ➤ Hint: Use try-except with open().\n",
    "\n",
    "\n"
   ]
  },
  {
   "cell_type": "code",
   "execution_count": 66,
   "id": "b6cb5d71-a154-4a81-9e10-689038677eee",
   "metadata": {},
   "outputs": [
    {
     "name": "stdout",
     "output_type": "stream",
     "text": [
      "Error: The file 'data.txt' was not found.\n"
     ]
    }
   ],
   "source": [
    "def read_file():\n",
    "    try:\n",
    "      with open(\"data.txt\",'r') as m:\n",
    "        content=m.readlines()\n",
    "        lines=len(content)\n",
    "        print(lines)\n",
    "    except FileNotFoundError:\n",
    "        print(\"Error: The file 'data.txt' was not found.\")\n",
    "read_file()        \n",
    "        "
   ]
  },
  {
   "cell_type": "markdown",
   "id": "f019e057-d3ab-4b0d-a5a5-92b69014185a",
   "metadata": {},
   "source": [
    "## 10. Ask the user for a number and print its reciprocal.\n",
    "## Handle both ValueError and ZeroDivisionError.\n",
    "## ➤ Hint: Use multiple except blocks.\n"
   ]
  },
  {
   "cell_type": "code",
   "execution_count": 2,
   "id": "c8b62690-cafa-4f50-b27d-87aac51f3b30",
   "metadata": {},
   "outputs": [
    {
     "name": "stdin",
     "output_type": "stream",
     "text": [
      "Enter number ab\n"
     ]
    },
    {
     "name": "stdout",
     "output_type": "stream",
     "text": [
      "Value error\n"
     ]
    }
   ],
   "source": [
    "def reciprocal():\n",
    "    try:\n",
    "     n=int(input(\"Enter number\"))\n",
    "     res=1/n\n",
    "     print(res)\n",
    "    except ValueError:\n",
    "        print(\"Value error\")\n",
    "    except ZeroDivisionError:\n",
    "        print(\"Zero Division Error\")\n",
    "reciprocal()\n"
   ]
  },
  {
   "cell_type": "markdown",
   "id": "669da7b5-8cae-466d-9c06-d77791bf94b8",
   "metadata": {},
   "source": [
    "## 11. Using Else and Finally\n",
    "## Create a function to divide two numbers using try-except-else-finally.\n",
    "## Show different messages for all blocks.\n"
   ]
  },
  {
   "cell_type": "code",
   "execution_count": 79,
   "id": "ed3ca539-7c5b-4456-b505-be6db298c4fa",
   "metadata": {},
   "outputs": [
    {
     "name": "stdout",
     "output_type": "stream",
     "text": [
      "result 5.0\n",
      "NO EXCEPTION\n",
      "Finally statement\n"
     ]
    }
   ],
   "source": [
    "def div(a,b):\n",
    "    try:\n",
    "        res=a/b\n",
    "        print(\"result\",res)\n",
    "    except ZeroDivisionError:\n",
    "        print(\"Zero Division Error\")\n",
    "    else:\n",
    "        print(\"NO EXCEPTION\")\n",
    "    finally:\n",
    "        print(\"Finally statement\")\n",
    "div(10,2)\n",
    "        "
   ]
  },
  {
   "cell_type": "markdown",
   "id": "fab9825d-7240-4599-b8b6-27577b800e70",
   "metadata": {},
   "source": [
    "## 12. Write a function to open a file and read its content.\n",
    "## Use finally to always close the file.\n"
   ]
  },
  {
   "cell_type": "code",
   "execution_count": 81,
   "id": "2b5bb2fc-7b61-4bc0-9efa-05e046e68bc7",
   "metadata": {},
   "outputs": [
    {
     "name": "stdout",
     "output_type": "stream",
     "text": [
      "Error: The file 'data.txt' was not found.\n"
     ]
    }
   ],
   "source": [
    "def read_file_content(filename):\n",
    "    file = None\n",
    "    try:\n",
    "        file = open(filename, \"r\")\n",
    "        content = file.read()\n",
    "        print(\"File content:\\n\", content)\n",
    "    except FileNotFoundError:\n",
    "        print(f\"Error: The file '{filename}' was not found.\")\n",
    "    finally:\n",
    "       if file:\n",
    "           file.close()\n",
    "           print(\"File closed successfully.\")\n",
    "\n",
    "\n",
    "read_file_content(\"data.txt\")\n"
   ]
  },
  {
   "cell_type": "markdown",
   "id": "1e9d4679-2e21-45f8-9de5-de21944dbcdb",
   "metadata": {},
   "source": [
    "## 13. Ask the user for a number.\n",
    "## If it’s valid, square it (in else); if not, catch the exception.\n"
   ]
  },
  {
   "cell_type": "code",
   "execution_count": 1,
   "id": "933eb116-ac70-4806-9931-ce4aa04cb069",
   "metadata": {},
   "outputs": [
    {
     "name": "stdin",
     "output_type": "stream",
     "text": [
      "Enter number:  ab\n"
     ]
    },
    {
     "name": "stdout",
     "output_type": "stream",
     "text": [
      "Value Error\n"
     ]
    }
   ],
   "source": [
    "try:\n",
    "    n = int(input(\"Enter number: \"))\n",
    "    print(n * n)\n",
    "except ValueError:\n",
    "    print(\"Value Error\")\n"
   ]
  },
  {
   "cell_type": "markdown",
   "id": "82988752-370f-4635-8bf9-9e1ad7a9c3aa",
   "metadata": {},
   "source": [
    "## 14. Write a program that connects to a URL (mocked as a string).\n",
    "## If it fails, catch the error; always print \"Program finished\" in finally.\n"
   ]
  },
  {
   "cell_type": "code",
   "execution_count": 3,
   "id": "e954af06-6066-4f5c-84fb-ef63fbf32533",
   "metadata": {},
   "outputs": [
    {
     "name": "stdout",
     "output_type": "stream",
     "text": [
      "Connected successfully to https://validsite.com\n",
      "Program finished\n",
      "Error: Failed to connect to https://invalid.com\n",
      "Program finished\n"
     ]
    }
   ],
   "source": [
    "def connect_to_url(url):\n",
    "    try:\n",
    "        if url == \"https://validsite.com\":\n",
    "            print(\"Connected successfully to\", url)\n",
    "        else:\n",
    "            raise ConnectionError(\"Failed to connect to \" + url)\n",
    "    except ConnectionError as e:\n",
    "        print(\"Error:\", e)\n",
    "    finally:\n",
    "        print(\"Program finished\")\n",
    "\n",
    "connect_to_url(\"https://validsite.com\")   \n",
    "connect_to_url(\"https://invalid.com\")     \n"
   ]
  },
  {
   "cell_type": "markdown",
   "id": "d3f3028a-762f-4d7b-a24d-4ef331cce416",
   "metadata": {},
   "source": [
    "## 15. Use a loop to prompt the user until a valid integer is entered.\n",
    "## Use try-except-else to validate input and break the loop.\n"
   ]
  },
  {
   "cell_type": "code",
   "execution_count": 4,
   "id": "ec2ad2db-9c2c-4858-a3bf-1855a6dce3c0",
   "metadata": {},
   "outputs": [
    {
     "name": "stdin",
     "output_type": "stream",
     "text": [
      "Enter a valid integer:  ab\n"
     ]
    },
    {
     "name": "stdout",
     "output_type": "stream",
     "text": [
      "Error: Please enter a valid integer.\n"
     ]
    },
    {
     "name": "stdin",
     "output_type": "stream",
     "text": [
      "Enter a valid integer:  av\n"
     ]
    },
    {
     "name": "stdout",
     "output_type": "stream",
     "text": [
      "Error: Please enter a valid integer.\n"
     ]
    },
    {
     "name": "stdin",
     "output_type": "stream",
     "text": [
      "Enter a valid integer:  6\n"
     ]
    },
    {
     "name": "stdout",
     "output_type": "stream",
     "text": [
      "You entered: 6\n"
     ]
    }
   ],
   "source": [
    "while True:\n",
    "    try:\n",
    "        num = int(input(\"Enter a valid integer: \"))\n",
    "    except ValueError:\n",
    "        print(\"Error: Please enter a valid integer.\")\n",
    "    else:\n",
    "        print(\"You entered:\", num)\n",
    "        break   "
   ]
  },
  {
   "cell_type": "markdown",
   "id": "e03849d1-3a9d-4b42-817b-44c86f17f281",
   "metadata": {},
   "source": [
    "## 16. Create a function that performs subtraction.\n",
    "## Use try-except-else-finally to trace each part of execution.\n"
   ]
  },
  {
   "cell_type": "code",
   "execution_count": 5,
   "id": "12276829-2358-41ac-85c9-4a4e8e106f67",
   "metadata": {},
   "outputs": [
    {
     "name": "stdout",
     "output_type": "stream",
     "text": [
      "-6\n",
      "No exception\n",
      "Completed\n"
     ]
    }
   ],
   "source": [
    "def subtraction(a,b):\n",
    "    try:\n",
    "        res=a-b\n",
    "        print(res)\n",
    "    except ValueError:\n",
    "        print(\"Value Error\")\n",
    "    else:\n",
    "        print(\"No exception\")\n",
    "    finally:\n",
    "        print(\"Completed\")\n",
    "subtraction(2,8)"
   ]
  },
  {
   "cell_type": "markdown",
   "id": "d2d56faa-57c9-4bc7-998b-0c290c42253b",
   "metadata": {},
   "source": [
    "## 17. *Simulate a calculator with options (+, -, , /).\n",
    "## Use try-except for input validation and division by zero.\n",
    "\n",
    "\n"
   ]
  },
  {
   "cell_type": "code",
   "execution_count": 7,
   "id": "edd8d72a-42f2-44e5-84b8-1ed3eadef6f2",
   "metadata": {},
   "outputs": [
    {
     "name": "stdin",
     "output_type": "stream",
     "text": [
      "Enter a 2\n",
      "Enter b 0\n",
      " /\n"
     ]
    },
    {
     "name": "stdout",
     "output_type": "stream",
     "text": [
      "Divison by Zero\n"
     ]
    }
   ],
   "source": [
    "try:\n",
    "    \n",
    "    a=int(input(\"Enter a\"))\n",
    "    b=int(input(\"Enter b\"))\n",
    "    option=input()\n",
    "    if option=='+':\n",
    "        print(\"add\",a+b)\n",
    "    elif option=='-':\n",
    "        print(\"sub\",a-b)\n",
    "    elif option=='*':\n",
    "        print(\"mul\",a*b)\n",
    "    elif option=='/':\n",
    "        print(\"div\",a/b)\n",
    "except ValueError:\n",
    "    print(\"Value error\")\n",
    "except ZeroDivisionError:\n",
    "    print(\"Divison by Zero\")"
   ]
  },
  {
   "cell_type": "markdown",
   "id": "5d98163f-f95e-4927-bf19-3f12cb2c1090",
   "metadata": {},
   "source": [
    "## 18. Read an integer from the user and convert it.\n",
    "## In the else block, print the square of the number."
   ]
  },
  {
   "cell_type": "code",
   "execution_count": 10,
   "id": "5462aa6e-0cfc-4cb3-88bf-7124c25b0265",
   "metadata": {},
   "outputs": [
    {
     "name": "stdin",
     "output_type": "stream",
     "text": [
      "Enter an integer:  6\n"
     ]
    },
    {
     "name": "stdout",
     "output_type": "stream",
     "text": [
      "Square of the number: 36\n"
     ]
    }
   ],
   "source": [
    "try:\n",
    "    n = int(input(\"Enter an integer: \"))\n",
    "except ValueError:\n",
    "    print(\"Error: Please enter a valid integer.\")\n",
    "else:\n",
    "    print(\"Square of the number:\", n * n)\n"
   ]
  },
  {
   "cell_type": "markdown",
   "id": "968d2874-6bde-43ed-a9e8-d1920a6e5d58",
   "metadata": {},
   "source": [
    "## 19. Create a function to convert string to float.\n",
    "## If it fails, handle the error; if successful, print “Valid float”.\n"
   ]
  },
  {
   "cell_type": "code",
   "execution_count": 13,
   "id": "321c67a7-edc5-4e82-8bf4-1eef427e73d4",
   "metadata": {},
   "outputs": [
    {
     "name": "stdout",
     "output_type": "stream",
     "text": [
      "Valid float\n"
     ]
    }
   ],
   "source": [
    "def string_to_float(string):\n",
    "    try:\n",
    "       \n",
    "        num=float(string)\n",
    "        print(\"Valid float\")\n",
    "    \n",
    "    except ValueError:\n",
    "     print(\"Invalid\")\n",
    "string_to_float(14.9)   \n",
    "   "
   ]
  },
  {
   "cell_type": "markdown",
   "id": "d94f1d5d-d6b6-4e3c-9f39-2192254f8980",
   "metadata": {},
   "source": [
    "## 20. Demonstrate use of finally in file writing.\n",
    "## Even if writing fails, ensure a message is printed.\n"
   ]
  },
  {
   "cell_type": "code",
   "execution_count": 16,
   "id": "61514a33-f621-4c03-8a81-f41af4745cf1",
   "metadata": {},
   "outputs": [
    {
     "name": "stdin",
     "output_type": "stream",
     "text": [
      "Enter text to write into file:  hi\n"
     ]
    },
    {
     "name": "stdout",
     "output_type": "stream",
     "text": [
      "File written successfully.\n",
      "File operation finished (finally block executed).\n"
     ]
    }
   ],
   "source": [
    "def write_file():\n",
    "    file = None\n",
    "    try:\n",
    "        file = open(\"output.txt\", \"w\")\n",
    "        data = input(\"Enter text to write into file: \")\n",
    "        file.write(data)\n",
    "        print(\"File written successfully.\")\n",
    "    except Exception as e:\n",
    "        print(\"Error while writing to file:\", e)\n",
    "    finally:\n",
    "        if file:\n",
    "            file.close()\n",
    "        print(\"File operation finished (finally block executed).\")\n",
    "\n",
    "\n",
    "write_file()\n"
   ]
  },
  {
   "cell_type": "markdown",
   "id": "a715c030-f4a3-42aa-8f95-24d227f1d6c4",
   "metadata": {},
   "source": [
    "## 21. Custom Exceptions and Multiple Exceptions\n",
    "## Define a function that raises a ValueError if age < 0.\n",
    "## Catch and print a friendly message.\n",
    "\n",
    "\n"
   ]
  },
  {
   "cell_type": "code",
   "execution_count": 19,
   "id": "565d5f08-0320-4a0f-9ebe-25e59d68c85d",
   "metadata": {},
   "outputs": [
    {
     "name": "stdin",
     "output_type": "stream",
     "text": [
      " 0\n"
     ]
    },
    {
     "name": "stdout",
     "output_type": "stream",
     "text": [
      "Value Error\n"
     ]
    }
   ],
   "source": [
    "def function():\n",
    "    try:\n",
    "        age=int(input())\n",
    "        if age>0:\n",
    "            print(\"age\",age)\n",
    "        else:\n",
    "            raise ValueError(\"Value Error\")\n",
    "    except ValueError as e:\n",
    "        print(e)\n",
    "function()"
   ]
  },
  {
   "cell_type": "markdown",
   "id": "ee79f4a9-f77b-46f6-94c7-3a5e994a4d23",
   "metadata": {},
   "source": [
    "## 22. Create a function that multiplies two numbers.\n",
    "## Handle both TypeError and ValueError.\n"
   ]
  },
  {
   "cell_type": "code",
   "execution_count": 24,
   "id": "bed6b4ca-602b-4a80-99a9-0f6a0f486d28",
   "metadata": {},
   "outputs": [
    {
     "name": "stdout",
     "output_type": "stream",
     "text": [
      "Type Error\n"
     ]
    }
   ],
   "source": [
    "def mul(a,b):\n",
    "    try:\n",
    "        res=a*b\n",
    "        print(res)\n",
    "    except TypeError:\n",
    "        print(\"Type Error\")\n",
    "    except ValueError:\n",
    "        print(\"Value Error\")\n",
    "mul('hi','3')"
   ]
  },
  {
   "cell_type": "markdown",
   "id": "e6701c33-3b19-4597-982a-8fdd60ab05a1",
   "metadata": {},
   "source": [
    "## 23. Simulate an ATM withdrawal.\n",
    "## Raise an error if withdrawal amount > balance.\n"
   ]
  },
  {
   "cell_type": "code",
   "execution_count": 25,
   "id": "f63cf5dd-f9be-4647-84e7-f11729fd6558",
   "metadata": {},
   "outputs": [
    {
     "name": "stdout",
     "output_type": "stream",
     "text": [
      "Withdrawal successful! Remaining balance: 3000\n",
      "Error: Insufficient balance for this withdrawal.\n"
     ]
    }
   ],
   "source": [
    "def atm_withdraw(balance, amount):\n",
    "    try:\n",
    "        if amount > balance:\n",
    "            raise ValueError(\"Insufficient balance for this withdrawal.\")\n",
    "        balance -= amount\n",
    "        print(f\"Withdrawal successful! Remaining balance: {balance}\")\n",
    "    except ValueError as e:\n",
    "        print(\"Error:\", e)\n",
    "\n",
    "\n",
    "atm_withdraw(5000, 2000)   \n",
    "atm_withdraw(3000, 4000)   \n"
   ]
  },
  {
   "cell_type": "markdown",
   "id": "2495a5a0-8974-4cc8-a911-9675f013c265",
   "metadata": {},
   "source": [
    "## 24. Create a function to return the first letter of a string.\n",
    "## Raise an error if the string is empty.\n"
   ]
  },
  {
   "cell_type": "code",
   "execution_count": 29,
   "id": "0bab0200-ba0b-464b-9234-87bef1c45f4b",
   "metadata": {},
   "outputs": [
    {
     "name": "stdout",
     "output_type": "stream",
     "text": [
      "String is Empty\n"
     ]
    }
   ],
   "source": [
    "def first_letter(string):\n",
    "        if not string:\n",
    "            raise ValueError(\"String is Empty\")\n",
    "        \n",
    "try:\n",
    "    first_letter(\"hi\")\n",
    "    first_letter('')\n",
    "except ValueError as e:\n",
    "    print(e)"
   ]
  },
  {
   "cell_type": "markdown",
   "id": "58ef8a94-bed8-4f2c-b228-ae13e75a67fd",
   "metadata": {},
   "source": [
    "## 25. Ask the user for a filename and open it.\n",
    "## Raise a custom exception if the name is empty.\n",
    "\n",
    "\n"
   ]
  },
  {
   "cell_type": "code",
   "execution_count": 30,
   "id": "9fa5e633-8ba3-438b-a3a3-696cfcac059c",
   "metadata": {},
   "outputs": [
    {
     "name": "stdin",
     "output_type": "stream",
     "text": [
      "Enter filename:  data.txt\n"
     ]
    },
    {
     "name": "stdout",
     "output_type": "stream",
     "text": [
      "Error: File does not exist.\n"
     ]
    }
   ],
   "source": [
    "def open_file():\n",
    "    try:\n",
    "        filename = input(\"Enter filename: \").strip()\n",
    "        \n",
    "        if not filename:\n",
    "            raise ValueError(\"Filename cannot be empty.\")  \n",
    "        \n",
    "        with open(filename, \"r\") as f:\n",
    "            content = f.read()\n",
    "            print(\"File content:\\n\", content)\n",
    "    \n",
    "    except ValueError as e:\n",
    "        print(\"Error:\", e)\n",
    "    except FileNotFoundError:\n",
    "        print(\"Error: File does not exist.\")\n",
    "\n",
    "\n",
    "open_file()\n"
   ]
  },
  {
   "cell_type": "markdown",
   "id": "2ebf63e8-62c1-4d02-8513-868953375ba4",
   "metadata": {},
   "source": [
    "## 26. Create a function that converts a list of strings to integers.\n",
    "## Use try-except inside a loop to skip invalid conversions.\n"
   ]
  },
  {
   "cell_type": "code",
   "execution_count": 31,
   "id": "85c7e8a5-d580-437c-ba73-9bce501f28c0",
   "metadata": {},
   "outputs": [
    {
     "name": "stdout",
     "output_type": "stream",
     "text": [
      "Skipping invalid value: abc\n",
      "Skipping invalid value: 3.14\n",
      "Converted list: [10, 25, 42, 100]\n"
     ]
    }
   ],
   "source": [
    "def convert_to_integers(str_list):\n",
    "    integers = []\n",
    "    for item in str_list:\n",
    "        try:\n",
    "            num = int(item)\n",
    "            integers.append(num)\n",
    "        except ValueError:\n",
    "            print(f\"Skipping invalid value: {item}\")\n",
    "    return integers\n",
    "data = [\"10\", \"25\", \"abc\", \"42\", \"3.14\", \"100\"]\n",
    "result = convert_to_integers(data)\n",
    "print(\"Converted list:\", result)\n",
    "\n",
    "    "
   ]
  },
  {
   "cell_type": "markdown",
   "id": "262f1af1-eb1a-4232-b1c2-466bd297e49e",
   "metadata": {},
   "source": [
    "## 27. Define a validate_email() function.\n",
    "## If email does not contain '@', raise a ValueError.\n"
   ]
  },
  {
   "cell_type": "code",
   "execution_count": 32,
   "id": "9f6921c4-4d1e-41e2-b578-207d892eff17",
   "metadata": {},
   "outputs": [
    {
     "name": "stdout",
     "output_type": "stream",
     "text": [
      "True\n",
      "Error: Invalid email: '@' symbol missing.\n"
     ]
    }
   ],
   "source": [
    "def validate_email(email):\n",
    "    if \"@\" not in email:\n",
    "        raise ValueError(\"Invalid email: '@' symbol missing.\")\n",
    "    return True\n",
    "try:\n",
    "    print(validate_email(\"varsha@example.com\")) \n",
    "    print(validate_email(\"varshaexample.com\"))   \n",
    "except ValueError as e:\n",
    "    print(\"Error:\", e)\n"
   ]
  },
  {
   "cell_type": "markdown",
   "id": "527ed45a-9285-4ba8-98a3-446fa63bd9fc",
   "metadata": {},
   "source": [
    "## 28. Make a temperature converter.\n",
    "## If input is non-numeric, handle it using try-except.\n"
   ]
  },
  {
   "cell_type": "code",
   "execution_count": 33,
   "id": "c4add0ca-db16-449b-9935-d17190c7acc0",
   "metadata": {},
   "outputs": [
    {
     "name": "stdin",
     "output_type": "stream",
     "text": [
      "Enter temperature in Celsius:  abc\n"
     ]
    },
    {
     "name": "stdout",
     "output_type": "stream",
     "text": [
      "Error: Please enter a valid numeric temperature.\n"
     ]
    }
   ],
   "source": [
    "def temp_converter():\n",
    "    try:\n",
    "        celsius = float(input(\"Enter temperature in Celsius: \"))\n",
    "        fahrenheit = (celsius * 9/5) + 32\n",
    "        print(f\"{celsius}°C = {fahrenheit}°F\")\n",
    "    except ValueError:\n",
    "        print(\"Error: Please enter a valid numeric temperature.\")\n",
    "\n",
    "temp_converter()\n"
   ]
  },
  {
   "cell_type": "markdown",
   "id": "a11b8321-0c13-4c04-8007-402ae2303d36",
   "metadata": {},
   "source": [
    "## 29. Build a calculator function that handles all common input errors.\n",
    "## Support 4 operations and handle ZeroDivisionError, ValueError, and TypeError.\n"
   ]
  },
  {
   "cell_type": "code",
   "execution_count": 34,
   "id": "c0267e31-ab06-483b-9fc7-351c9912837d",
   "metadata": {},
   "outputs": [
    {
     "name": "stdout",
     "output_type": "stream",
     "text": [
      "15.0\n",
      "Error: Division by zero is not allowed.\n",
      "Value Error: could not convert string to float: 'abc'\n",
      "Value Error: Invalid operation. Use +, -, *, /.\n"
     ]
    }
   ],
   "source": [
    "def calculator(a, b, op):\n",
    "    try:\n",
    "        a = float(a)   \n",
    "        b = float(b)\n",
    "\n",
    "        if op == \"+\":\n",
    "            return a + b\n",
    "        elif op == \"-\":\n",
    "            return a - b\n",
    "        elif op == \"*\":\n",
    "            return a * b\n",
    "        elif op == \"/\":\n",
    "            return a / b\n",
    "        else:\n",
    "            raise ValueError(\"Invalid operation. Use +, -, *, /.\")\n",
    "\n",
    "    except ZeroDivisionError:\n",
    "        return \"Error: Division by zero is not allowed.\"\n",
    "    except ValueError as ve:\n",
    "        return f\"Value Error: {ve}\"\n",
    "    except TypeError:\n",
    "        return \"Type Error: Inputs must be numbers or convertible to numbers.\"\n",
    "\n",
    "print(calculator(10, 5, \"+\"))   \n",
    "print(calculator(10, 0, \"/\"))   \n",
    "print(calculator(\"abc\", 5, \"*\"))\n",
    "print(calculator(7, 2, \"%\"))    "
   ]
  },
  {
   "cell_type": "markdown",
   "id": "41e9caa6-36b8-4176-9efb-7fad513cd6bc",
   "metadata": {},
   "source": [
    "## 30. Define a function to open a config file.\n",
    "## If not found, raise a custom ConfigNotFoundError (define this exception class yourself).\n"
   ]
  },
  {
   "cell_type": "code",
   "execution_count": 36,
   "id": "0f06deea-c1ce-4eb8-870c-32d2af117dff",
   "metadata": {},
   "outputs": [
    {
     "name": "stdout",
     "output_type": "stream",
     "text": [
      "Error: Configuration file 'config.txt' not found.\n"
     ]
    }
   ],
   "source": [
    "\n",
    "def open_config(filename):\n",
    "    try:\n",
    "        with open(filename, \"r\") as f:\n",
    "            return f.read()\n",
    "    except FileNotFoundError:\n",
    "        \n",
    "        raise ConfigNotFoundError(filename)\n",
    "\n",
    "\n",
    "try:\n",
    "    content = open_config(\"config.txt\")  \n",
    "    print(content)\n",
    "except ConfigNotFoundError as e:\n",
    "    print(\"Error:\", e)\n"
   ]
  },
  {
   "cell_type": "code",
   "execution_count": null,
   "id": "25f06d01-fadd-4fe8-9639-9bafd8a0a45c",
   "metadata": {},
   "outputs": [],
   "source": []
  }
 ],
 "metadata": {
  "kernelspec": {
   "display_name": "Python 3 (ipykernel)",
   "language": "python",
   "name": "python3"
  },
  "language_info": {
   "codemirror_mode": {
    "name": "ipython",
    "version": 3
   },
   "file_extension": ".py",
   "mimetype": "text/x-python",
   "name": "python",
   "nbconvert_exporter": "python",
   "pygments_lexer": "ipython3",
   "version": "3.13.5"
  }
 },
 "nbformat": 4,
 "nbformat_minor": 5
}
